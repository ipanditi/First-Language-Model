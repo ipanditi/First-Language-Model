{
  "nbformat": 4,
  "nbformat_minor": 0,
  "metadata": {
    "colab": {
      "provenance": [],
      "collapsed_sections": []
    },
    "kernelspec": {
      "name": "python3",
      "display_name": "Python 3"
    },
    "language_info": {
      "name": "python"
    }
  },
  "cells": [
    {
      "cell_type": "code",
      "execution_count": 1,
      "metadata": {
        "id": "cpNJ_I6Rrn_l"
      },
      "outputs": [],
      "source": [
        "import numpy as np\n",
        "import pandas as pd\n",
        "import matplotlib.pyplot as plt\n",
        "%matplotlib inline"
      ]
    },
    {
      "cell_type": "code",
      "source": [
        "words = open('Names.txt', 'r').read().splitlines()"
      ],
      "metadata": {
        "id": "qrkqrXXmsEIv"
      },
      "execution_count": 2,
      "outputs": []
    },
    {
      "cell_type": "code",
      "source": [
        "words[:10]"
      ],
      "metadata": {
        "colab": {
          "base_uri": "https://localhost:8080/"
        },
        "id": "dxzXwpSHsW4u",
        "outputId": "b0c4a0b7-298b-4284-c70d-0ae8ce9da957"
      },
      "execution_count": 3,
      "outputs": [
        {
          "output_type": "execute_result",
          "data": {
            "text/plain": [
              "['Abhishek',\n",
              " 'Aman',\n",
              " 'Harsh',\n",
              " 'Ayush',\n",
              " 'Aditi',\n",
              " 'Anjali',\n",
              " 'Shubham',\n",
              " 'Anushka',\n",
              " 'Rohit',\n",
              " 'Saurabh']"
            ]
          },
          "metadata": {},
          "execution_count": 3
        }
      ]
    },
    {
      "cell_type": "code",
      "source": [
        "len(words)"
      ],
      "metadata": {
        "colab": {
          "base_uri": "https://localhost:8080/"
        },
        "id": "MpQQVZ7JsmxW",
        "outputId": "82eda530-6955-4999-ae35-9c914251c488"
      },
      "execution_count": 4,
      "outputs": [
        {
          "output_type": "execute_result",
          "data": {
            "text/plain": [
              "1165"
            ]
          },
          "metadata": {},
          "execution_count": 4
        }
      ]
    },
    {
      "cell_type": "code",
      "source": [
        "min(len(w) for w in words)"
      ],
      "metadata": {
        "colab": {
          "base_uri": "https://localhost:8080/"
        },
        "id": "4cGerb8GtGR2",
        "outputId": "086bf5ed-2ea1-424a-8347-ca5995102c08"
      },
      "execution_count": 5,
      "outputs": [
        {
          "output_type": "execute_result",
          "data": {
            "text/plain": [
              "2"
            ]
          },
          "metadata": {},
          "execution_count": 5
        }
      ]
    },
    {
      "cell_type": "code",
      "source": [
        "max(len(w) for w in words) "
      ],
      "metadata": {
        "colab": {
          "base_uri": "https://localhost:8080/"
        },
        "id": "RGXQxzMWuXE9",
        "outputId": "740643a3-4ffd-46fc-abd8-9d0f2b37fee2"
      },
      "execution_count": 6,
      "outputs": [
        {
          "output_type": "execute_result",
          "data": {
            "text/plain": [
              "14"
            ]
          },
          "metadata": {},
          "execution_count": 6
        }
      ]
    },
    {
      "cell_type": "code",
      "source": [
        "words = [x.lower() for x in words]\n",
        "words"
      ],
      "metadata": {
        "colab": {
          "base_uri": "https://localhost:8080/"
        },
        "id": "yn6PIHWN_70K",
        "outputId": "cc17072d-ca16-411a-bdc7-faeded84b823"
      },
      "execution_count": 7,
      "outputs": [
        {
          "output_type": "execute_result",
          "data": {
            "text/plain": [
              "['abhishek',\n",
              " 'aman',\n",
              " 'harsh',\n",
              " 'ayush',\n",
              " 'aditi',\n",
              " 'anjali',\n",
              " 'shubham',\n",
              " 'anushka',\n",
              " 'rohit',\n",
              " 'saurabh',\n",
              " 'muskan',\n",
              " 'rahul',\n",
              " 'utkarsh',\n",
              " 'vaibhav',\n",
              " 'amit',\n",
              " 'saumya',\n",
              " 'rishabh',\n",
              " 'shruti',\n",
              " 'himanshu',\n",
              " 'kajal',\n",
              " 'ankit',\n",
              " 'gaurav',\n",
              " 'nikhil',\n",
              " 'siddharth',\n",
              " 'prashant',\n",
              " 'priya',\n",
              " 'harshit',\n",
              " 'shashank',\n",
              " 'akash',\n",
              " 'varun',\n",
              " 'yash',\n",
              " 'shreya',\n",
              " 'harshita',\n",
              " 'anurag',\n",
              " 'vivek',\n",
              " 'swati',\n",
              " 'vishal',\n",
              " 'aditya',\n",
              " 'nidhi',\n",
              " 'ayushi',\n",
              " 'krishna',\n",
              " 'anshika',\n",
              " 'sakshi',\n",
              " 'shivani',\n",
              " 'prakhar',\n",
              " 'mansi',\n",
              " 'tushar',\n",
              " 'abhinav',\n",
              " 'shivangi',\n",
              " 'ashutosh',\n",
              " 'adarsh',\n",
              " 'divya',\n",
              " 'piyush',\n",
              " 'pragya',\n",
              " 'ajay',\n",
              " 'akanksha',\n",
              " 'neeraj',\n",
              " 'ritika',\n",
              " 'tanya',\n",
              " 'nisha',\n",
              " 'arun',\n",
              " 'pallavi',\n",
              " 'aniket',\n",
              " 'nikita',\n",
              " 'vijay',\n",
              " 'ananya',\n",
              " 'priyanshi',\n",
              " 'suraj',\n",
              " 'akshat',\n",
              " 'ishika',\n",
              " 'mohit',\n",
              " 'palak',\n",
              " 'ankur',\n",
              " 'richa',\n",
              " 'ravi',\n",
              " 'arpit',\n",
              " 'ankita',\n",
              " 'shraddha',\n",
              " 'deepak',\n",
              " 'priyanka',\n",
              " 'khushi',\n",
              " 'shweta',\n",
              " 'kavya',\n",
              " 'kunal',\n",
              " 'dheeraj',\n",
              " 'akshita',\n",
              " 'riya',\n",
              " 'sneha',\n",
              " 'pranjal',\n",
              " 'isha',\n",
              " 'sumit',\n",
              " 'kishan',\n",
              " 'pawan',\n",
              " 'soumya',\n",
              " 'neelesh',\n",
              " 'sarthak',\n",
              " 'alok',\n",
              " 'raghav',\n",
              " 'rishi',\n",
              " 'pragati',\n",
              " 'shivam',\n",
              " 'lakshya',\n",
              " 'ashish',\n",
              " 'sandeep',\n",
              " 'ishita',\n",
              " 'shaurya',\n",
              " 'kashish',\n",
              " 'vineet',\n",
              " 'mayank',\n",
              " 'jyoti',\n",
              " 'parul',\n",
              " 'shambhavi',\n",
              " 'anshu',\n",
              " 'keshav',\n",
              " 'prince',\n",
              " 'prakash',\n",
              " 'pratibha',\n",
              " 'praveen',\n",
              " 'priyanshu',\n",
              " 'kshitij',\n",
              " 'arushi',\n",
              " 'ishan',\n",
              " 'garima',\n",
              " 'manish',\n",
              " 'vaishnavi',\n",
              " 'shreyansh',\n",
              " 'atul',\n",
              " 'sarvesh',\n",
              " 'vidya',\n",
              " 'shubhangi',\n",
              " 'mohsin',\n",
              " 'saran',\n",
              " 'vikash',\n",
              " 'aayush',\n",
              " 'akhilesh',\n",
              " 'nitin',\n",
              " 'himani',\n",
              " 'sushil',\n",
              " 'vartika',\n",
              " 'aviral',\n",
              " 'abdul',\n",
              " 'sumeet',\n",
              " 'prerna',\n",
              " 'nupur',\n",
              " 'neha',\n",
              " 'vikas',\n",
              " 'vanshika',\n",
              " 'rohan',\n",
              " 'shivansh',\n",
              " 'sunil',\n",
              " 'juhi',\n",
              " 'nitesh',\n",
              " 'ganesh',\n",
              " 'naveen',\n",
              " 'shikhar',\n",
              " 'jitendra',\n",
              " 'chirag',\n",
              " 'abhay',\n",
              " 'lucky',\n",
              " 'smriti',\n",
              " 'manu',\n",
              " 'deependra',\n",
              " 'anoop',\n",
              " 'devendra',\n",
              " 'diksha',\n",
              " 'muskaan',\n",
              " 'divyansh',\n",
              " 'kushal',\n",
              " 'nitish',\n",
              " 'preeti',\n",
              " 'anand',\n",
              " 'hemant',\n",
              " 'amol',\n",
              " 'sonal',\n",
              " 'rishab',\n",
              " 'shashwat',\n",
              " 'shatakshi',\n",
              " 'supriya',\n",
              " 'anchal',\n",
              " 'simran',\n",
              " 'srijan',\n",
              " 'ashwani',\n",
              " 'stuti',\n",
              " 'abhijeet',\n",
              " 'harshvardhan',\n",
              " 'ajit',\n",
              " 'poornima',\n",
              " 'anil',\n",
              " 'mahendra',\n",
              " 'ahmad',\n",
              " 'shalini',\n",
              " 'abhijit',\n",
              " 'suyash',\n",
              " 'sanskriti',\n",
              " 'danish',\n",
              " 'tamanna',\n",
              " 'unnati',\n",
              " 'sachin',\n",
              " 'anupam',\n",
              " 'shailesh',\n",
              " 'shoaib',\n",
              " 'vishnu',\n",
              " 'surya',\n",
              " 'pankaj',\n",
              " 'kaif',\n",
              " 'pooja',\n",
              " 'gayathri',\n",
              " 'pradeep',\n",
              " 'ritu',\n",
              " 'dinesh',\n",
              " 'shriya',\n",
              " 'tharun',\n",
              " 'karan',\n",
              " 'kiran',\n",
              " 'tarun',\n",
              " 'samarth',\n",
              " 'ruchi',\n",
              " 'udit',\n",
              " 'rashi',\n",
              " 'shailendra',\n",
              " 'sameer',\n",
              " 'shubhi',\n",
              " 'siddhant',\n",
              " 'mahi',\n",
              " 'kanika',\n",
              " 'aishwarya',\n",
              " 'rajat',\n",
              " 'rituraj',\n",
              " 'naman',\n",
              " 'mukesh',\n",
              " 'roshan',\n",
              " 'nandini',\n",
              " 'rashmi',\n",
              " 'vigneshwaran',\n",
              " 'kriti',\n",
              " 'arpita',\n",
              " 'divyanshi',\n",
              " 'yogesh',\n",
              " 'deepika',\n",
              " 'astha',\n",
              " 'sanjay',\n",
              " 'mahek',\n",
              " 'narendra',\n",
              " 'ekta',\n",
              " 'adil',\n",
              " 'ritesh',\n",
              " 'bhumika',\n",
              " 'samriddhi',\n",
              " 'anmol',\n",
              " 'aayushi',\n",
              " 'akshay',\n",
              " 'shekhar',\n",
              " 'amisha',\n",
              " 'amrita',\n",
              " 'sekhar',\n",
              " 'kundalik',\n",
              " 'durga',\n",
              " 'apurva',\n",
              " 'alka',\n",
              " 'indora',\n",
              " 'aqsa',\n",
              " 'anwar',\n",
              " 'apratim',\n",
              " 'hasni',\n",
              " 'dalia',\n",
              " 'aadharsh',\n",
              " 'amarnath',\n",
              " 'bramoni',\n",
              " 'nethaji',\n",
              " 'chetna',\n",
              " 'aastha',\n",
              " 'aakriti',\n",
              " 'abhyuday',\n",
              " 'akarsh',\n",
              " 'navneet',\n",
              " 'om',\n",
              " 'swapnil',\n",
              " 'akhil',\n",
              " 'madhav',\n",
              " 'divyam',\n",
              " 'kirti',\n",
              " 'annanya',\n",
              " 'arunima',\n",
              " 'niteesh',\n",
              " 'nithisha',\n",
              " 'sandhya',\n",
              " 'uttam',\n",
              " 'vatsalya',\n",
              " 'aparna',\n",
              " 'disha',\n",
              " 'seema',\n",
              " 'suryansh',\n",
              " 'yashaswi',\n",
              " 'avinash',\n",
              " 'smita',\n",
              " 'subhra',\n",
              " 'tuhin',\n",
              " 'arti',\n",
              " 'aakash',\n",
              " 'ayan',\n",
              " 'aryan',\n",
              " 'vertika',\n",
              " 'umme',\n",
              " 'yukti',\n",
              " 'vishesh',\n",
              " 'ayushman',\n",
              " 'geeta',\n",
              " 'divyanshu',\n",
              " 'jaswant',\n",
              " 'hemanshu',\n",
              " 'bhoopendra',\n",
              " 'bhawana',\n",
              " 'divakar',\n",
              " 'dimpal',\n",
              " 'shrestha',\n",
              " 'shivanshi',\n",
              " 'shubh',\n",
              " 'shreyash',\n",
              " 'satyarth',\n",
              " 'satyam',\n",
              " 'shilpa',\n",
              " 'shikha',\n",
              " 'soniya',\n",
              " 'tanay',\n",
              " 'sushant',\n",
              " 'ujjwal',\n",
              " 'tanu',\n",
              " 'subham',\n",
              " 'srishti',\n",
              " 'suryakant',\n",
              " 'sudhanshu',\n",
              " 'shivang',\n",
              " 'shilpi',\n",
              " 'sourabh',\n",
              " 'sonu',\n",
              " 'shakti',\n",
              " 'satendra',\n",
              " 'shaqib',\n",
              " 'shalu',\n",
              " 'sudheer',\n",
              " 'vipul',\n",
              " 'vipin',\n",
              " 'yashika',\n",
              " 'virat',\n",
              " 'varsha',\n",
              " 'sunny',\n",
              " 'vineeta',\n",
              " 'vibhanshu',\n",
              " 'monti',\n",
              " 'minakshi',\n",
              " 'nitikarsh',\n",
              " 'mugdha',\n",
              " 'madhu',\n",
              " 'khanak',\n",
              " 'megha',\n",
              " 'manya',\n",
              " 'pakhi',\n",
              " 'ranu',\n",
              " 'purvi',\n",
              " 'sapna',\n",
              " 'saloni',\n",
              " 'prachi',\n",
              " 'poonam',\n",
              " 'purnima',\n",
              " 'prajjwal',\n",
              " 'satya',\n",
              " 'vandana',\n",
              " 'tanishq',\n",
              " 'amaan',\n",
              " 'yuvraj',\n",
              " 'saurav',\n",
              " 'sanjeev',\n",
              " 'simaran',\n",
              " 'shrishti',\n",
              " 'amrit',\n",
              " 'arman',\n",
              " 'archana',\n",
              " 'avanish',\n",
              " 'yusuf',\n",
              " 'anubhav',\n",
              " 'anita',\n",
              " 'anupriya',\n",
              " 'anukriti',\n",
              " 'kritika',\n",
              " 'jaya',\n",
              " 'namrata',\n",
              " 'kushagra',\n",
              " 'hariom',\n",
              " 'gargi',\n",
              " 'janvi',\n",
              " 'jai',\n",
              " 'naziya',\n",
              " 'ragini',\n",
              " 'priyam',\n",
              " 'sania',\n",
              " 'sangeeta',\n",
              " 'nimish',\n",
              " 'nimesh',\n",
              " 'prabhakar',\n",
              " 'nivedita',\n",
              " 'neetika',\n",
              " 'monu',\n",
              " 'pankhuri',\n",
              " 'nilesh',\n",
              " 'mallika',\n",
              " 'mahima',\n",
              " 'mehak',\n",
              " 'manshi',\n",
              " 'prakhyat',\n",
              " 'saket',\n",
              " 'rishika',\n",
              " 'satvik',\n",
              " 'sanskar',\n",
              " 'prateek',\n",
              " 'prarthana',\n",
              " 'rekha',\n",
              " 'pratham',\n",
              " 'devanshu',\n",
              " 'devansh',\n",
              " 'dolly',\n",
              " 'dhruv',\n",
              " 'deeksha',\n",
              " 'bhavya',\n",
              " 'dev',\n",
              " 'deepali',\n",
              " 'faizan',\n",
              " 'khushboo',\n",
              " 'karishma',\n",
              " 'madhuri',\n",
              " 'maaz',\n",
              " 'jahnavi',\n",
              " 'jahanvi',\n",
              " 'kamran',\n",
              " 'kamini',\n",
              " 'rana',\n",
              " 'sidhi',\n",
              " 'hartesh',\n",
              " 'mrithyunjay',\n",
              " 'nishtha',\n",
              " 'dilip',\n",
              " 'ramanakanth',\n",
              " 'durgesh',\n",
              " 'dipa',\n",
              " 'rohith',\n",
              " 'jagadeesh',\n",
              " 'indu',\n",
              " 'shyam',\n",
              " 'shreyas',\n",
              " 'indra',\n",
              " 'sasi',\n",
              " 'arvind',\n",
              " 'kartik',\n",
              " 'kartikeya',\n",
              " 'chaitanya',\n",
              " 'mani',\n",
              " 'sukirti',\n",
              " 'subodh',\n",
              " 'surendra',\n",
              " 'ashok',\n",
              " 'suresh',\n",
              " 'karthikeya',\n",
              " 'lalit',\n",
              " 'urmila',\n",
              " 'sudhakar',\n",
              " 'dhruva',\n",
              " 'dhananjay',\n",
              " 'rama',\n",
              " 'raj',\n",
              " 'chinmay',\n",
              " 'chahat',\n",
              " 'sourav',\n",
              " 'desh',\n",
              " 'raashi',\n",
              " 'ram',\n",
              " 'laxmi',\n",
              " 'krishan',\n",
              " 'yatharth',\n",
              " 'mridul',\n",
              " 'vinay',\n",
              " 'sreekanth',\n",
              " 'sweta',\n",
              " 'thaanya',\n",
              " 'rakesh',\n",
              " 'pinky',\n",
              " 'raju',\n",
              " 'rajiv',\n",
              " 'rajkumar',\n",
              " 'pushkar',\n",
              " 'asutosh',\n",
              " 'pradip',\n",
              " 'mrityunjay',\n",
              " 'kavish',\n",
              " 'monica',\n",
              " 'sabareesh',\n",
              " 'lakshmi',\n",
              " 'love',\n",
              " 'lekhraj',\n",
              " 'sahil',\n",
              " 'seshikanth',\n",
              " 'kalpana',\n",
              " 'santosh',\n",
              " 'kapil',\n",
              " 'subash',\n",
              " 'raunak',\n",
              " 'mangal',\n",
              " 'tejas',\n",
              " 'mayur',\n",
              " 'ravisankar',\n",
              " 'mahesh',\n",
              " 'mahato',\n",
              " 'aaryan',\n",
              " 'manas',\n",
              " 'surbhi',\n",
              " 'deepshikha',\n",
              " 'amar',\n",
              " 'anuj',\n",
              " 'siddhesh',\n",
              " 'venkata',\n",
              " 'renu',\n",
              " 'farhan',\n",
              " 'vignesh',\n",
              " 'abhimanyu',\n",
              " 'faraz',\n",
              " 'bilal',\n",
              " 'abhilash',\n",
              " 'vaishali',\n",
              " 'apoorva',\n",
              " 'hemlata',\n",
              " 'aanchal',\n",
              " 'sathwika',\n",
              " 'deepa',\n",
              " 'utkarsha',\n",
              " 'deep',\n",
              " 'dushyant',\n",
              " 'anshuman',\n",
              " 'sukumaran',\n",
              " 'chandran',\n",
              " 'anshul',\n",
              " 'saanchi',\n",
              " 'aadil',\n",
              " 'ali',\n",
              " 'nishant',\n",
              " 'aaditya',\n",
              " 'vipasha',\n",
              " 'abbas',\n",
              " 'anubha',\n",
              " 'chandra',\n",
              " 'ayesha',\n",
              " 'rizwa',\n",
              " 'sanjeeda',\n",
              " 'devadathan',\n",
              " 'vardhamann',\n",
              " 'sairam',\n",
              " 'abhedhya',\n",
              " 'gnaneswar',\n",
              " 'sara',\n",
              " 'rupal',\n",
              " 'sahaj',\n",
              " 'robin',\n",
              " 'rupanjali',\n",
              " 'rupeshwary',\n",
              " 'brahmaputra',\n",
              " 'hariharan',\n",
              " 'pranav',\n",
              " 'babu',\n",
              " 'bibhu',\n",
              " 'chirayu',\n",
              " 'sameeksha',\n",
              " 'ashmita',\n",
              " 'chhavi',\n",
              " 'shreepriya',\n",
              " 'nahid',\n",
              " 'sharique',\n",
              " 'anusha',\n",
              " 'anunay',\n",
              " 'vidit',\n",
              " 'shwetanshi',\n",
              " 'anshit',\n",
              " 'anubhuti',\n",
              " 'vashif',\n",
              " 'jahangeer',\n",
              " 'sharanya',\n",
              " 'saudamini',\n",
              " 'arshad',\n",
              " 'yeram',\n",
              " 'asad',\n",
              " 'asthana',\n",
              " 'asmita',\n",
              " 'ashal',\n",
              " 'zeal',\n",
              " 'areeb',\n",
              " 'archita',\n",
              " 'archi',\n",
              " 'arish',\n",
              " 'shyamali',\n",
              " 'sejal',\n",
              " 'shaileja',\n",
              " 'gitanshu',\n",
              " 'mansoon',\n",
              " 'akshaya',\n",
              " 'madhusri',\n",
              " 'meet',\n",
              " 'prajeeth',\n",
              " 'gyanvi',\n",
              " 'govindam',\n",
              " 'mairaz',\n",
              " 'abhilasha',\n",
              " 'mritunjay',\n",
              " 'mudit',\n",
              " 'mubasshira',\n",
              " 'goldy',\n",
              " 'monish',\n",
              " 'moosvi',\n",
              " 'fariya',\n",
              " 'toshit',\n",
              " 'kanha',\n",
              " 'khalid',\n",
              " 'kaushiki',\n",
              " 'elamathi',\n",
              " 'vasundhara',\n",
              " 'kandarp',\n",
              " 'noopur',\n",
              " 'suchita',\n",
              " 'sumaiya',\n",
              " 'himanshi',\n",
              " 'ibrahim',\n",
              " 'jagriti',\n",
              " 'khansa',\n",
              " 'kunaal',\n",
              " 'ishwa',\n",
              " 'joshika',\n",
              " 'sawan',\n",
              " 'priyesh',\n",
              " 'priyal',\n",
              " 'pradium',\n",
              " 'omhari',\n",
              " 'pranidhi',\n",
              " 'leena',\n",
              " 'harshada',\n",
              " 'prathmesh',\n",
              " 'ritank',\n",
              " 'rishit',\n",
              " 'meenu',\n",
              " 'ranjan',\n",
              " 'shukant',\n",
              " 'jashveer',\n",
              " 'nargis',\n",
              " 'shreyans',\n",
              " 'manaswini',\n",
              " 'neelu',\n",
              " 'mukund',\n",
              " 'eshma',\n",
              " 'aruba',\n",
              " 'ehtisham',\n",
              " 'nitya',\n",
              " 'nishu',\n",
              " 'noorsaba',\n",
              " 'punya',\n",
              " 'nihal',\n",
              " 'devyanti',\n",
              " 'nishchay',\n",
              " 'shagun',\n",
              " 'joy',\n",
              " 'reshami',\n",
              " 'ronit',\n",
              " 'rishu',\n",
              " 'prasun',\n",
              " 'prakharendra',\n",
              " 'priyamvada',\n",
              " 'rajneesh',\n",
              " 'kausar',\n",
              " 'rouby',\n",
              " 'sanket',\n",
              " 'hari',\n",
              " 'saumile',\n",
              " 'shagufta',\n",
              " 'shaad',\n",
              " 'rupali',\n",
              " 'jenamani',\n",
              " 'sadiya',\n",
              " 'saksham',\n",
              " 'saharsh',\n",
              " 'kushan',\n",
              " 'munthala',\n",
              " 'mini',\n",
              " 'mrinal',\n",
              " 'mudita',\n",
              " 'mrinalini',\n",
              " 'medha',\n",
              " 'meenal',\n",
              " 'nageshwar',\n",
              " 'miren',\n",
              " 'pardhuman',\n",
              " 'parth',\n",
              " 'prajal',\n",
              " 'naseer',\n",
              " 'nalin',\n",
              " 'nav',\n",
              " 'niti',\n",
              " 'nawaz',\n",
              " 'shamseer',\n",
              " 'tavish',\n",
              " 'tarushi',\n",
              " 'tripti',\n",
              " 'udbhav',\n",
              " 'tuhina',\n",
              " 'talin',\n",
              " 'tahreem',\n",
              " 'tanupriya',\n",
              " 'tarique',\n",
              " 'tariq',\n",
              " 'utsav',\n",
              " 'wasil',\n",
              " 'abdur',\n",
              " 'yogansh',\n",
              " 'zoheb',\n",
              " 'yogita',\n",
              " 'vedanti',\n",
              " 'anas',\n",
              " 'vijendra',\n",
              " 'abrar',\n",
              " 'afzan',\n",
              " 'suyesh',\n",
              " 'shrey',\n",
              " 'shivin',\n",
              " 'shreyaansh',\n",
              " 'shubhanshi',\n",
              " 'shubhankar',\n",
              " 'shiba',\n",
              " 'sharvan',\n",
              " 'shipra',\n",
              " 'bhanu',\n",
              " 'shiv',\n",
              " 'shubhendu',\n",
              " 'subhashini',\n",
              " 'sriansh',\n",
              " 'armoghan',\n",
              " 'susheel',\n",
              " 'surjeet',\n",
              " 'snehill',\n",
              " 'balbir',\n",
              " 'snigdha',\n",
              " 'arsalan',\n",
              " 'som',\n",
              " 'abhisikta',\n",
              " 'aarvi',\n",
              " 'adhyantika',\n",
              " 'akhand',\n",
              " 'aisha',\n",
              " 'tabish',\n",
              " 'yashveer',\n",
              " 'zaineb',\n",
              " 'aamra',\n",
              " 'zufeshan',\n",
              " 'alim',\n",
              " 'antara',\n",
              " 'annushka',\n",
              " 'aparsha',\n",
              " 'aqib',\n",
              " 'apurv',\n",
              " 'amish',\n",
              " 'alina',\n",
              " 'anavi',\n",
              " 'ankush',\n",
              " 'angad',\n",
              " 'yashaswini',\n",
              " 'uday',\n",
              " 'srikrishan',\n",
              " 'yashwanth',\n",
              " 'vishwanath',\n",
              " 'yashwant',\n",
              " 'soni',\n",
              " 'snehal',\n",
              " 'sony',\n",
              " 'swasti',\n",
              " 'jimi',\n",
              " 'utpal',\n",
              " 'vishwa',\n",
              " 'vidushi',\n",
              " 'vishwas',\n",
              " 'yachna',\n",
              " 'vyom',\n",
              " 'vaishavi',\n",
              " 'vagisha',\n",
              " 'varenyam',\n",
              " 'vidhi',\n",
              " 'umamaheshwara',\n",
              " 'archit',\n",
              " 'janhvi',\n",
              " 'imaduddeen',\n",
              " 'kalash',\n",
              " 'kanchan',\n",
              " 'kalindi',\n",
              " 'hira',\n",
              " 'gurjot',\n",
              " 'hritika',\n",
              " 'hunny',\n",
              " 'humaira',\n",
              " 'kashif',\n",
              " 'mamta',\n",
              " 'maanvi',\n",
              " 'mandeep',\n",
              " 'manvendra',\n",
              " 'manideep',\n",
              " 'kaushambi',\n",
              " 'kasturi',\n",
              " 'kaushik',\n",
              " 'laiba',\n",
              " 'kenisha',\n",
              " 'gitika',\n",
              " 'atif',\n",
              " 'ateequa',\n",
              " 'atishay',\n",
              " 'shariq',\n",
              " 'bhakti',\n",
              " 'sravan',\n",
              " 'areeba',\n",
              " 'asma',\n",
              " 'asif',\n",
              " 'shakkil',\n",
              " 'fatima',\n",
              " 'satyendra',\n",
              " 'garv',\n",
              " 'geetika',\n",
              " 'garvit',\n",
              " 'devbrat',\n",
              " 'devashish',\n",
              " 'shakaib',\n",
              " 'savan',\n",
              " 'diptanshu',\n",
              " 'anjoo',\n",
              " 'shibashis',\n",
              " 'shazia',\n",
              " 'shivakumar',\n",
              " 'shrikant',\n",
              " 'sidarth',\n",
              " 'sayan',\n",
              " 'sanjit',\n",
              " 'snoopi',\n",
              " 'sharuk',\n",
              " 'shailvi',\n",
              " 'shyamal',\n",
              " 'soubhagya',\n",
              " 'snehit',\n",
              " 'soudeep',\n",
              " 'souvik',\n",
              " 'soumyadeep',\n",
              " 'siddhi',\n",
              " 'shubhkarman',\n",
              " 'sivaganesh',\n",
              " 'smitesh',\n",
              " 'shrinivas',\n",
              " 'sanjana',\n",
              " 'qarib',\n",
              " 'pranay',\n",
              " 'rajamani',\n",
              " 'ramesh',\n",
              " 'ramadoss',\n",
              " 'sunish',\n",
              " 'nirlipta',\n",
              " 'pradosh',\n",
              " 'prakriti',\n",
              " 'subhashis',\n",
              " 'ranjeet',\n",
              " 'sai',\n",
              " 'sahiti',\n",
              " 'sajmi',\n",
              " 'sangeeth',\n",
              " 'stalin',\n",
              " 'rishav',\n",
              " 'riddhi',\n",
              " 'ruchika',\n",
              " 'safin',\n",
              " 'sadiqa',\n",
              " 'abhaysinha',\n",
              " 'aashish',\n",
              " 'anjana',\n",
              " 'astitva',\n",
              " 'ankurjeet',\n",
              " 'vibha',\n",
              " 'veena',\n",
              " 'saravanan',\n",
              " 'yashovardhan',\n",
              " 'saimadhav',\n",
              " 'avnindra',\n",
              " 'gaush',\n",
              " 'digvijay',\n",
              " 'haaris',\n",
              " 'jag',\n",
              " 'inabat',\n",
              " 'babitarani',\n",
              " 'rupinder',\n",
              " 'bhavesh',\n",
              " 'deepro',\n",
              " 'deepanshu',\n",
              " 'varna',\n",
              " 'sujan',\n",
              " 'suhaas',\n",
              " 'sukrit',\n",
              " 'suprabha',\n",
              " 'sulochana',\n",
              " 'sravani',\n",
              " 'sowjanya',\n",
              " 'sravya',\n",
              " 'sreelakshmi',\n",
              " 'surajit',\n",
              " 'shahansha',\n",
              " 'sheshidhar',\n",
              " 'upamanyu',\n",
              " 'vangara',\n",
              " 'vamsi',\n",
              " 'swarag',\n",
              " 'suryakala',\n",
              " 'swarnava',\n",
              " 'tanvi',\n",
              " 'tanishta',\n",
              " 'niranjan',\n",
              " 'munir',\n",
              " 'narayan',\n",
              " 'nagjibhai',\n",
              " 'sura',\n",
              " 'mohandas',\n",
              " 'shiromani',\n",
              " 'shahid',\n",
              " 'sitaram',\n",
              " 'suman',\n",
              " 'sugathan',\n",
              " 'palata',\n",
              " 'akshit',\n",
              " 'akansha',\n",
              " 'amrin',\n",
              " 'anitha',\n",
              " 'amrutha',\n",
              " 'kasniya',\n",
              " 'omkar',\n",
              " 'aakanksha',\n",
              " 'veerendra',\n",
              " 'vengatesh',\n",
              " 'vilas',\n",
              " 'vishwadeep',\n",
              " 'machhan',\n",
              " 'grover',\n",
              " 'jauhari',\n",
              " 'hanif',\n",
              " 'arnav',\n",
              " 'bhushan',\n",
              " 'kori',\n",
              " 'yakub',\n",
              " 'kalapu',\n",
              " 'jodha',\n",
              " 'rajendra',\n",
              " 'rishiraj',\n",
              " 'prabhu',\n",
              " 'vikram',\n",
              " 'tulshidas',\n",
              " 'putta',\n",
              " 'azmi',\n",
              " 'vimlesh',\n",
              " 'rehman',\n",
              " 'sarath',\n",
              " 'jami',\n",
              " 'tanveer',\n",
              " 'jeyahar',\n",
              " 'kalyani',\n",
              " 'kalaivani',\n",
              " 'harsha',\n",
              " 'harleen',\n",
              " 'harshini',\n",
              " 'himadri',\n",
              " 'hershit',\n",
              " 'kishor',\n",
              " 'mythili',\n",
              " 'mayukh',\n",
              " 'navin',\n",
              " 'niraj',\n",
              " 'neenu',\n",
              " 'lav',\n",
              " 'kishore',\n",
              " 'majaz',\n",
              " 'manju',\n",
              " 'manali',\n",
              " 'hajira',\n",
              " 'ashik',\n",
              " 'ashay',\n",
              " 'ashwini',\n",
              " 'aswin',\n",
              " 'aswathy',\n",
              " 'thirukural',\n",
              " 'upasana',\n",
              " 'aravind',\n",
              " 'asharudeen',\n",
              " 'arnab',\n",
              " 'atiq',\n",
              " 'furqan',\n",
              " 'febin',\n",
              " 'geethu',\n",
              " 'gunta',\n",
              " 'gunjan',\n",
              " 'cherry',\n",
              " 'bhawna',\n",
              " ...]"
            ]
          },
          "metadata": {},
          "execution_count": 7
        }
      ]
    },
    {
      "cell_type": "code",
      "source": [
        "b = {}\n",
        "for w in words:\n",
        "  w.lower()\n",
        "  chs = ['<S>'] + list(w) + ['<E>']\n",
        "  for ch1, ch2 in zip(chs, chs[1:]):\n",
        "    bigram = (ch1, ch2)\n",
        "    b[bigram] = b.get(bigram,0) + 1"
      ],
      "metadata": {
        "id": "MOacl7J4yJzl"
      },
      "execution_count": 8,
      "outputs": []
    },
    {
      "cell_type": "code",
      "source": [
        "#Lets collect all the statistics of the dataset, about which character before/ after which character at what frequency\n",
        "b"
      ],
      "metadata": {
        "colab": {
          "base_uri": "https://localhost:8080/"
        },
        "id": "7qxMUn2X0Qq-",
        "outputId": "317a70c7-39e7-4723-9ba3-a41f0e4ecb6b"
      },
      "execution_count": 9,
      "outputs": [
        {
          "output_type": "execute_result",
          "data": {
            "text/plain": [
              "{('<S>', 'a'): 207,\n",
              " ('a', 'b'): 36,\n",
              " ('b', 'h'): 57,\n",
              " ('h', 'i'): 149,\n",
              " ('i', 's'): 79,\n",
              " ('s', 'h'): 379,\n",
              " ('h', 'e'): 26,\n",
              " ('e', 'k'): 14,\n",
              " ('k', '<E>'): 24,\n",
              " ('a', 'm'): 84,\n",
              " ('m', 'a'): 103,\n",
              " ('a', 'n'): 318,\n",
              " ('n', '<E>'): 108,\n",
              " ('<S>', 'h'): 35,\n",
              " ('h', 'a'): 240,\n",
              " ('a', 'r'): 163,\n",
              " ('r', 's'): 23,\n",
              " ('h', '<E>'): 121,\n",
              " ('a', 'y'): 41,\n",
              " ('y', 'u'): 17,\n",
              " ('u', 's'): 41,\n",
              " ('a', 'd'): 48,\n",
              " ('d', 'i'): 41,\n",
              " ('i', 't'): 100,\n",
              " ('t', 'i'): 60,\n",
              " ('i', '<E>'): 175,\n",
              " ('n', 'j'): 23,\n",
              " ('j', 'a'): 51,\n",
              " ('a', 'l'): 73,\n",
              " ('l', 'i'): 27,\n",
              " ('<S>', 's'): 258,\n",
              " ('h', 'u'): 48,\n",
              " ('u', 'b'): 24,\n",
              " ('m', '<E>'): 33,\n",
              " ('n', 'u'): 27,\n",
              " ('h', 'k'): 4,\n",
              " ('k', 'a'): 109,\n",
              " ('a', '<E>'): 304,\n",
              " ('<S>', 'r'): 81,\n",
              " ('r', 'o'): 11,\n",
              " ('o', 'h'): 7,\n",
              " ('t', '<E>'): 72,\n",
              " ('s', 'a'): 83,\n",
              " ('a', 'u'): 16,\n",
              " ('u', 'r'): 45,\n",
              " ('r', 'a'): 191,\n",
              " ('<S>', 'm'): 76,\n",
              " ('m', 'u'): 12,\n",
              " ('s', 'k'): 5,\n",
              " ('a', 'h'): 28,\n",
              " ('u', 'l'): 11,\n",
              " ('l', '<E>'): 56,\n",
              " ('<S>', 'u'): 16,\n",
              " ('u', 't'): 14,\n",
              " ('t', 'k'): 2,\n",
              " ('<S>', 'v'): 61,\n",
              " ('v', 'a'): 56,\n",
              " ('a', 'i'): 32,\n",
              " ('i', 'b'): 15,\n",
              " ('a', 'v'): 52,\n",
              " ('v', '<E>'): 25,\n",
              " ('m', 'i'): 36,\n",
              " ('u', 'm'): 20,\n",
              " ('m', 'y'): 5,\n",
              " ('y', 'a'): 111,\n",
              " ('r', 'i'): 96,\n",
              " ('h', 'r'): 27,\n",
              " ('r', 'u'): 26,\n",
              " ('i', 'm'): 24,\n",
              " ('n', 's'): 45,\n",
              " ('u', '<E>'): 41,\n",
              " ('<S>', 'k'): 59,\n",
              " ('a', 'j'): 38,\n",
              " ('n', 'k'): 19,\n",
              " ('k', 'i'): 11,\n",
              " ('<S>', 'g'): 24,\n",
              " ('g', 'a'): 23,\n",
              " ('<S>', 'n'): 59,\n",
              " ('n', 'i'): 93,\n",
              " ('i', 'k'): 60,\n",
              " ('k', 'h'): 27,\n",
              " ('i', 'l'): 30,\n",
              " ('s', 'i'): 21,\n",
              " ('i', 'd'): 24,\n",
              " ('d', 'd'): 9,\n",
              " ('d', 'h'): 43,\n",
              " ('r', 't'): 19,\n",
              " ('t', 'h'): 52,\n",
              " ('<S>', 'p'): 76,\n",
              " ('p', 'r'): 63,\n",
              " ('a', 's'): 101,\n",
              " ('n', 't'): 28,\n",
              " ('i', 'y'): 22,\n",
              " ('a', 'k'): 57,\n",
              " ('u', 'n'): 35,\n",
              " ('<S>', 'y'): 18,\n",
              " ('r', 'e'): 35,\n",
              " ('e', 'y'): 12,\n",
              " ('t', 'a'): 77,\n",
              " ('a', 'g'): 24,\n",
              " ('g', '<E>'): 5,\n",
              " ('v', 'i'): 69,\n",
              " ('i', 'v'): 25,\n",
              " ('v', 'e'): 21,\n",
              " ('s', 'w'): 13,\n",
              " ('w', 'a'): 35,\n",
              " ('a', 't'): 59,\n",
              " ('t', 'y'): 9,\n",
              " ('k', 'r'): 15,\n",
              " ('h', 'n'): 8,\n",
              " ('n', 'a'): 97,\n",
              " ('k', 's'): 20,\n",
              " ('r', '<E>'): 51,\n",
              " ('<S>', 't'): 30,\n",
              " ('t', 'u'): 13,\n",
              " ('i', 'n'): 65,\n",
              " ('n', 'g'): 11,\n",
              " ('g', 'i'): 9,\n",
              " ('t', 'o'): 5,\n",
              " ('o', 's'): 9,\n",
              " ('d', 'a'): 26,\n",
              " ('<S>', 'd'): 52,\n",
              " ('v', 'y'): 13,\n",
              " ('p', 'i'): 10,\n",
              " ('g', 'y'): 5,\n",
              " ('y', '<E>'): 34,\n",
              " ('n', 'e'): 30,\n",
              " ('e', 'e'): 91,\n",
              " ('e', 'r'): 23,\n",
              " ('j', '<E>'): 19,\n",
              " ('n', 'y'): 15,\n",
              " ('p', 'a'): 32,\n",
              " ('l', 'l'): 4,\n",
              " ('l', 'a'): 27,\n",
              " ('k', 'e'): 10,\n",
              " ('e', 't'): 32,\n",
              " ('i', 'j'): 10,\n",
              " ('s', 'u'): 51,\n",
              " ('<S>', 'i'): 14,\n",
              " ('m', 'o'): 13,\n",
              " ('k', 'u'): 17,\n",
              " ('i', 'c'): 2,\n",
              " ('c', 'h'): 32,\n",
              " ('r', 'p'): 4,\n",
              " ('d', 'e'): 38,\n",
              " ('e', 'p'): 20,\n",
              " ('h', 'w'): 19,\n",
              " ('w', 'e'): 4,\n",
              " ('s', 'n'): 10,\n",
              " ('e', 'h'): 11,\n",
              " ('a', 'w'): 6,\n",
              " ('s', 'o'): 18,\n",
              " ('o', 'u'): 9,\n",
              " ('e', 'l'): 5,\n",
              " ('l', 'e'): 11,\n",
              " ('e', 's'): 53,\n",
              " ('l', 'o'): 4,\n",
              " ('o', 'k'): 2,\n",
              " ('g', 'h'): 6,\n",
              " ('<S>', 'l'): 10,\n",
              " ('h', 'y'): 13,\n",
              " ('n', 'd'): 51,\n",
              " ('p', '<E>'): 17,\n",
              " ('r', 'y'): 12,\n",
              " ('<S>', 'j'): 30,\n",
              " ('j', 'y'): 2,\n",
              " ('y', 'o'): 6,\n",
              " ('o', 't'): 4,\n",
              " ('m', 'b'): 4,\n",
              " ('n', 'c'): 5,\n",
              " ('c', 'e'): 1,\n",
              " ('e', '<E>'): 10,\n",
              " ('e', 'n'): 34,\n",
              " ('r', 'v'): 14,\n",
              " ('d', 'y'): 3,\n",
              " ('h', 's'): 1,\n",
              " ('a', 'a'): 32,\n",
              " ('i', 'r'): 28,\n",
              " ('b', 'd'): 2,\n",
              " ('d', 'u'): 11,\n",
              " ('m', 'e'): 13,\n",
              " ('r', 'n'): 11,\n",
              " ('u', 'p'): 13,\n",
              " ('p', 'u'): 15,\n",
              " ('s', '<E>'): 18,\n",
              " ('j', 'u'): 3,\n",
              " ('u', 'h'): 5,\n",
              " ('t', 'e'): 13,\n",
              " ('j', 'i'): 12,\n",
              " ('d', 'r'): 23,\n",
              " ('<S>', 'c'): 13,\n",
              " ('l', 'u'): 3,\n",
              " ('u', 'c'): 4,\n",
              " ('c', 'k'): 1,\n",
              " ('k', 'y'): 2,\n",
              " ('s', 'm'): 7,\n",
              " ('m', 'r'): 16,\n",
              " ('p', 'e'): 3,\n",
              " ('n', 'o'): 4,\n",
              " ('o', 'o'): 14,\n",
              " ('o', 'p'): 4,\n",
              " ('e', 'v'): 12,\n",
              " ('d', '<E>'): 20,\n",
              " ('e', 'm'): 8,\n",
              " ('o', 'l'): 4,\n",
              " ('o', 'n'): 18,\n",
              " ('b', '<E>'): 11,\n",
              " ('s', 'r'): 11,\n",
              " ('s', 't'): 14,\n",
              " ('j', 'e'): 16,\n",
              " ('h', 'v'): 4,\n",
              " ('r', 'd'): 4,\n",
              " ('p', 'o'): 4,\n",
              " ('o', 'r'): 7,\n",
              " ('h', 'm'): 12,\n",
              " ('u', 'y'): 2,\n",
              " ('n', 'n'): 9,\n",
              " ('a', 'c'): 4,\n",
              " ('h', 'o'): 7,\n",
              " ('o', 'a'): 1,\n",
              " ('i', 'f'): 8,\n",
              " ('f', '<E>'): 7,\n",
              " ('o', 'j'): 1,\n",
              " ('u', 'd'): 15,\n",
              " ('u', 'k'): 13,\n",
              " ('i', 'g'): 7,\n",
              " ('g', 'n'): 3,\n",
              " ('o', 'g'): 4,\n",
              " ('g', 'e'): 9,\n",
              " ('<S>', 'e'): 5,\n",
              " ('k', 't'): 6,\n",
              " ('<S>', 'b'): 19,\n",
              " ('n', 'm'): 2,\n",
              " ('s', 'e'): 7,\n",
              " ('r', 'g'): 4,\n",
              " ('a', 'p'): 13,\n",
              " ('l', 'k'): 1,\n",
              " ('d', 'o'): 4,\n",
              " ('a', 'q'): 3,\n",
              " ('q', 's'): 1,\n",
              " ('n', 'w'): 1,\n",
              " ('i', 'a'): 5,\n",
              " ('b', 'r'): 6,\n",
              " ('t', 'n'): 3,\n",
              " ('v', 'n'): 3,\n",
              " ('<S>', 'o'): 4,\n",
              " ('o', 'm'): 9,\n",
              " ('p', 'n'): 2,\n",
              " ('t', 't'): 2,\n",
              " ('t', 's'): 3,\n",
              " ('l', 'y'): 3,\n",
              " ('w', 'i'): 8,\n",
              " ('m', 'm'): 2,\n",
              " ('m', 'p'): 2,\n",
              " ('l', 'p'): 4,\n",
              " ('u', 'j'): 4,\n",
              " ('j', 'j'): 2,\n",
              " ('j', 'w'): 2,\n",
              " ('h', 't'): 5,\n",
              " ('q', 'i'): 2,\n",
              " ('i', 'p'): 10,\n",
              " ('u', 'g'): 3,\n",
              " ('g', 'd'): 2,\n",
              " ('e', 'g'): 2,\n",
              " ('h', 'q'): 1,\n",
              " ('q', '<E>'): 5,\n",
              " ('u', 'v'): 4,\n",
              " ('v', 'r'): 2,\n",
              " ('r', 'm'): 4,\n",
              " ('r', 'c'): 4,\n",
              " ('u', 'f'): 3,\n",
              " ('g', 'r'): 5,\n",
              " ('i', 'o'): 1,\n",
              " ('n', 'v'): 7,\n",
              " ('a', 'z'): 8,\n",
              " ('z', 'i'): 2,\n",
              " ('e', 'd'): 7,\n",
              " ('t', 'v'): 2,\n",
              " ('<S>', 'f'): 8,\n",
              " ('f', 'a'): 7,\n",
              " ('i', 'z'): 2,\n",
              " ('z', 'a'): 6,\n",
              " ('h', 'b'): 1,\n",
              " ('b', 'o'): 2,\n",
              " ('o', '<E>'): 4,\n",
              " ('z', '<E>'): 5,\n",
              " ('o', 'd'): 3,\n",
              " ('a', 'x'): 1,\n",
              " ('x', 'm'): 1,\n",
              " ('j', 'k'): 1,\n",
              " ('c', 'a'): 1,\n",
              " ('b', 'a'): 18,\n",
              " ('o', 'v'): 4,\n",
              " ('e', 'j'): 3,\n",
              " ('r', 'b'): 1,\n",
              " ('p', 's'): 1,\n",
              " ('r', 'h'): 1,\n",
              " ('b', 'i'): 9,\n",
              " ('m', 'l'): 3,\n",
              " ('b', 'b'): 1,\n",
              " ('y', 'e'): 6,\n",
              " ('z', 'w'): 1,\n",
              " ('o', 'b'): 1,\n",
              " ('t', 'r'): 3,\n",
              " ('i', 'h'): 3,\n",
              " ('b', 'u'): 3,\n",
              " ('h', 'h'): 2,\n",
              " ('i', 'q'): 8,\n",
              " ('q', 'u'): 4,\n",
              " ('u', 'e'): 3,\n",
              " ('<S>', 'z'): 6,\n",
              " ('z', 'e'): 1,\n",
              " ('e', 'a'): 2,\n",
              " ('e', 'b'): 6,\n",
              " ('g', 'o'): 2,\n",
              " ('s', 's'): 3,\n",
              " ('l', 'd'): 1,\n",
              " ('s', 'v'): 2,\n",
              " ('n', 'h'): 3,\n",
              " ('j', 'o'): 7,\n",
              " ('i', 'u'): 1,\n",
              " ('m', 'h'): 1,\n",
              " ('h', 'c'): 1,\n",
              " ('g', 'u'): 8,\n",
              " ('o', 'y'): 1,\n",
              " ('m', 'v'): 1,\n",
              " ('j', 'n'): 1,\n",
              " ('b', 'y'): 1,\n",
              " ('f', 't'): 1,\n",
              " ('m', 's'): 3,\n",
              " ('p', 't'): 3,\n",
              " ('d', 'b'): 1,\n",
              " ('<S>', 'w'): 3,\n",
              " ('z', 'o'): 1,\n",
              " ('a', 'f'): 2,\n",
              " ('f', 'z'): 1,\n",
              " ('r', 'j'): 4,\n",
              " ('l', 'b'): 1,\n",
              " ('z', 'u'): 1,\n",
              " ('f', 'e'): 2,\n",
              " ('t', 'p'): 1,\n",
              " ('m', 't'): 1,\n",
              " ('e', 'q'): 1,\n",
              " ('u', 'a'): 1,\n",
              " ('k', 'k'): 1,\n",
              " ('v', 'b'): 1,\n",
              " ('l', 'v'): 2,\n",
              " ('<S>', 'q'): 1,\n",
              " ('q', 'a'): 3,\n",
              " ('r', 'l'): 2,\n",
              " ('j', 'm'): 1,\n",
              " ('f', 'i'): 2,\n",
              " ('y', 's'): 1,\n",
              " ('g', 'v'): 1,\n",
              " ('o', 'c'): 1,\n",
              " ('o', 'w'): 1,\n",
              " ('w', 'j'): 1,\n",
              " ('g', 'j'): 1,\n",
              " ('m', 'k'): 3,\n",
              " ('k', 'o'): 1,\n",
              " ('l', 's'): 1,\n",
              " ('z', 'm'): 1,\n",
              " ('y', 't'): 1,\n",
              " ('f', 'u'): 1,\n",
              " ('r', 'q'): 1,\n",
              " ('r', 'r'): 1,\n",
              " ('w', 'n'): 1,\n",
              " ('n', 'l'): 1,\n",
              " ('d', 'w'): 1,\n",
              " ('t', 'c'): 1,\n",
              " ('o', 'i'): 1,\n",
              " ('y', 'k'): 1,\n",
              " ('v', 'd'): 1,\n",
              " ('h', 'd'): 1,\n",
              " ('n', 'p'): 1,\n",
              " ('a', 'e'): 1,\n",
              " ('y', 'p'): 2,\n",
              " ('t', 'w'): 1,\n",
              " ('j', 'v'): 1,\n",
              " ('b', 'l'): 1,\n",
              " ('r', 'w'): 1,\n",
              " ('v', 'o'): 1,\n",
              " ('h', 'j'): 1,\n",
              " ('h', 'l'): 1,\n",
              " ('s', 'f'): 1,\n",
              " ('u', 'z'): 1,\n",
              " ('f', 'r'): 1}"
            ]
          },
          "metadata": {},
          "execution_count": 9
        }
      ]
    },
    {
      "cell_type": "markdown",
      "source": [
        "A occured in the beginning twice out of 3 words and h occured before s twice out of 3 words"
      ],
      "metadata": {
        "id": "ZmeFlWNt5uiy"
      }
    },
    {
      "cell_type": "code",
      "source": [
        "#Sort and reverse the dictionary to gain more insights\n",
        "res = {key: val for key, val in sorted(b.items(), key = lambda ele: -ele[1])}\n",
        "print(res)"
      ],
      "metadata": {
        "colab": {
          "base_uri": "https://localhost:8080/"
        },
        "id": "Sei6VoUR5h7b",
        "outputId": "e8d80569-ba63-4c37-89f8-cb87893424c3"
      },
      "execution_count": 10,
      "outputs": [
        {
          "output_type": "stream",
          "name": "stdout",
          "text": [
            "{('s', 'h'): 379, ('a', 'n'): 318, ('a', '<E>'): 304, ('<S>', 's'): 258, ('h', 'a'): 240, ('<S>', 'a'): 207, ('r', 'a'): 191, ('i', '<E>'): 175, ('a', 'r'): 163, ('h', 'i'): 149, ('h', '<E>'): 121, ('y', 'a'): 111, ('k', 'a'): 109, ('n', '<E>'): 108, ('m', 'a'): 103, ('a', 's'): 101, ('i', 't'): 100, ('n', 'a'): 97, ('r', 'i'): 96, ('n', 'i'): 93, ('e', 'e'): 91, ('a', 'm'): 84, ('s', 'a'): 83, ('<S>', 'r'): 81, ('i', 's'): 79, ('t', 'a'): 77, ('<S>', 'm'): 76, ('<S>', 'p'): 76, ('a', 'l'): 73, ('t', '<E>'): 72, ('v', 'i'): 69, ('i', 'n'): 65, ('p', 'r'): 63, ('<S>', 'v'): 61, ('t', 'i'): 60, ('i', 'k'): 60, ('<S>', 'k'): 59, ('<S>', 'n'): 59, ('a', 't'): 59, ('b', 'h'): 57, ('a', 'k'): 57, ('l', '<E>'): 56, ('v', 'a'): 56, ('e', 's'): 53, ('a', 'v'): 52, ('t', 'h'): 52, ('<S>', 'd'): 52, ('j', 'a'): 51, ('r', '<E>'): 51, ('s', 'u'): 51, ('n', 'd'): 51, ('a', 'd'): 48, ('h', 'u'): 48, ('u', 'r'): 45, ('n', 's'): 45, ('d', 'h'): 43, ('a', 'y'): 41, ('u', 's'): 41, ('d', 'i'): 41, ('u', '<E>'): 41, ('a', 'j'): 38, ('d', 'e'): 38, ('a', 'b'): 36, ('m', 'i'): 36, ('<S>', 'h'): 35, ('u', 'n'): 35, ('r', 'e'): 35, ('w', 'a'): 35, ('y', '<E>'): 34, ('e', 'n'): 34, ('m', '<E>'): 33, ('a', 'i'): 32, ('p', 'a'): 32, ('e', 't'): 32, ('c', 'h'): 32, ('a', 'a'): 32, ('i', 'l'): 30, ('<S>', 't'): 30, ('n', 'e'): 30, ('<S>', 'j'): 30, ('a', 'h'): 28, ('n', 't'): 28, ('i', 'r'): 28, ('l', 'i'): 27, ('n', 'u'): 27, ('h', 'r'): 27, ('k', 'h'): 27, ('l', 'a'): 27, ('h', 'e'): 26, ('r', 'u'): 26, ('d', 'a'): 26, ('v', '<E>'): 25, ('i', 'v'): 25, ('k', '<E>'): 24, ('u', 'b'): 24, ('i', 'm'): 24, ('<S>', 'g'): 24, ('i', 'd'): 24, ('a', 'g'): 24, ('r', 's'): 23, ('n', 'j'): 23, ('g', 'a'): 23, ('e', 'r'): 23, ('d', 'r'): 23, ('i', 'y'): 22, ('s', 'i'): 21, ('v', 'e'): 21, ('u', 'm'): 20, ('k', 's'): 20, ('e', 'p'): 20, ('d', '<E>'): 20, ('n', 'k'): 19, ('r', 't'): 19, ('j', '<E>'): 19, ('h', 'w'): 19, ('<S>', 'b'): 19, ('<S>', 'y'): 18, ('s', 'o'): 18, ('s', '<E>'): 18, ('o', 'n'): 18, ('b', 'a'): 18, ('y', 'u'): 17, ('k', 'u'): 17, ('p', '<E>'): 17, ('a', 'u'): 16, ('<S>', 'u'): 16, ('m', 'r'): 16, ('j', 'e'): 16, ('i', 'b'): 15, ('k', 'r'): 15, ('n', 'y'): 15, ('p', 'u'): 15, ('u', 'd'): 15, ('e', 'k'): 14, ('u', 't'): 14, ('<S>', 'i'): 14, ('r', 'v'): 14, ('o', 'o'): 14, ('s', 't'): 14, ('s', 'w'): 13, ('t', 'u'): 13, ('v', 'y'): 13, ('m', 'o'): 13, ('h', 'y'): 13, ('m', 'e'): 13, ('u', 'p'): 13, ('t', 'e'): 13, ('<S>', 'c'): 13, ('u', 'k'): 13, ('a', 'p'): 13, ('m', 'u'): 12, ('e', 'y'): 12, ('r', 'y'): 12, ('j', 'i'): 12, ('e', 'v'): 12, ('h', 'm'): 12, ('r', 'o'): 11, ('u', 'l'): 11, ('k', 'i'): 11, ('n', 'g'): 11, ('e', 'h'): 11, ('l', 'e'): 11, ('d', 'u'): 11, ('r', 'n'): 11, ('b', '<E>'): 11, ('s', 'r'): 11, ('p', 'i'): 10, ('k', 'e'): 10, ('i', 'j'): 10, ('s', 'n'): 10, ('<S>', 'l'): 10, ('e', '<E>'): 10, ('i', 'p'): 10, ('d', 'd'): 9, ('t', 'y'): 9, ('g', 'i'): 9, ('o', 's'): 9, ('o', 'u'): 9, ('n', 'n'): 9, ('g', 'e'): 9, ('o', 'm'): 9, ('b', 'i'): 9, ('h', 'n'): 8, ('e', 'm'): 8, ('i', 'f'): 8, ('w', 'i'): 8, ('a', 'z'): 8, ('<S>', 'f'): 8, ('i', 'q'): 8, ('g', 'u'): 8, ('o', 'h'): 7, ('s', 'm'): 7, ('o', 'r'): 7, ('h', 'o'): 7, ('f', '<E>'): 7, ('i', 'g'): 7, ('s', 'e'): 7, ('n', 'v'): 7, ('e', 'd'): 7, ('f', 'a'): 7, ('j', 'o'): 7, ('a', 'w'): 6, ('g', 'h'): 6, ('y', 'o'): 6, ('k', 't'): 6, ('b', 'r'): 6, ('z', 'a'): 6, ('y', 'e'): 6, ('<S>', 'z'): 6, ('e', 'b'): 6, ('s', 'k'): 5, ('m', 'y'): 5, ('g', '<E>'): 5, ('t', 'o'): 5, ('g', 'y'): 5, ('e', 'l'): 5, ('n', 'c'): 5, ('u', 'h'): 5, ('<S>', 'e'): 5, ('i', 'a'): 5, ('h', 't'): 5, ('q', '<E>'): 5, ('g', 'r'): 5, ('z', '<E>'): 5, ('h', 'k'): 4, ('l', 'l'): 4, ('r', 'p'): 4, ('w', 'e'): 4, ('l', 'o'): 4, ('o', 't'): 4, ('m', 'b'): 4, ('u', 'c'): 4, ('n', 'o'): 4, ('o', 'p'): 4, ('o', 'l'): 4, ('h', 'v'): 4, ('r', 'd'): 4, ('p', 'o'): 4, ('a', 'c'): 4, ('o', 'g'): 4, ('r', 'g'): 4, ('d', 'o'): 4, ('<S>', 'o'): 4, ('l', 'p'): 4, ('u', 'j'): 4, ('u', 'v'): 4, ('r', 'm'): 4, ('r', 'c'): 4, ('o', '<E>'): 4, ('o', 'v'): 4, ('q', 'u'): 4, ('r', 'j'): 4, ('d', 'y'): 3, ('j', 'u'): 3, ('l', 'u'): 3, ('p', 'e'): 3, ('g', 'n'): 3, ('a', 'q'): 3, ('t', 'n'): 3, ('v', 'n'): 3, ('t', 's'): 3, ('l', 'y'): 3, ('u', 'g'): 3, ('u', 'f'): 3, ('o', 'd'): 3, ('e', 'j'): 3, ('m', 'l'): 3, ('t', 'r'): 3, ('i', 'h'): 3, ('b', 'u'): 3, ('u', 'e'): 3, ('s', 's'): 3, ('n', 'h'): 3, ('m', 's'): 3, ('p', 't'): 3, ('<S>', 'w'): 3, ('q', 'a'): 3, ('m', 'k'): 3, ('t', 'k'): 2, ('i', 'c'): 2, ('o', 'k'): 2, ('j', 'y'): 2, ('b', 'd'): 2, ('k', 'y'): 2, ('u', 'y'): 2, ('n', 'm'): 2, ('p', 'n'): 2, ('t', 't'): 2, ('m', 'm'): 2, ('m', 'p'): 2, ('j', 'j'): 2, ('j', 'w'): 2, ('q', 'i'): 2, ('g', 'd'): 2, ('e', 'g'): 2, ('v', 'r'): 2, ('z', 'i'): 2, ('t', 'v'): 2, ('i', 'z'): 2, ('b', 'o'): 2, ('h', 'h'): 2, ('e', 'a'): 2, ('g', 'o'): 2, ('s', 'v'): 2, ('a', 'f'): 2, ('f', 'e'): 2, ('l', 'v'): 2, ('r', 'l'): 2, ('f', 'i'): 2, ('y', 'p'): 2, ('c', 'e'): 1, ('h', 's'): 1, ('c', 'k'): 1, ('o', 'a'): 1, ('o', 'j'): 1, ('l', 'k'): 1, ('q', 's'): 1, ('n', 'w'): 1, ('h', 'q'): 1, ('i', 'o'): 1, ('h', 'b'): 1, ('a', 'x'): 1, ('x', 'm'): 1, ('j', 'k'): 1, ('c', 'a'): 1, ('r', 'b'): 1, ('p', 's'): 1, ('r', 'h'): 1, ('b', 'b'): 1, ('z', 'w'): 1, ('o', 'b'): 1, ('z', 'e'): 1, ('l', 'd'): 1, ('i', 'u'): 1, ('m', 'h'): 1, ('h', 'c'): 1, ('o', 'y'): 1, ('m', 'v'): 1, ('j', 'n'): 1, ('b', 'y'): 1, ('f', 't'): 1, ('d', 'b'): 1, ('z', 'o'): 1, ('f', 'z'): 1, ('l', 'b'): 1, ('z', 'u'): 1, ('t', 'p'): 1, ('m', 't'): 1, ('e', 'q'): 1, ('u', 'a'): 1, ('k', 'k'): 1, ('v', 'b'): 1, ('<S>', 'q'): 1, ('j', 'm'): 1, ('y', 's'): 1, ('g', 'v'): 1, ('o', 'c'): 1, ('o', 'w'): 1, ('w', 'j'): 1, ('g', 'j'): 1, ('k', 'o'): 1, ('l', 's'): 1, ('z', 'm'): 1, ('y', 't'): 1, ('f', 'u'): 1, ('r', 'q'): 1, ('r', 'r'): 1, ('w', 'n'): 1, ('n', 'l'): 1, ('d', 'w'): 1, ('t', 'c'): 1, ('o', 'i'): 1, ('y', 'k'): 1, ('v', 'd'): 1, ('h', 'd'): 1, ('n', 'p'): 1, ('a', 'e'): 1, ('t', 'w'): 1, ('j', 'v'): 1, ('b', 'l'): 1, ('r', 'w'): 1, ('v', 'o'): 1, ('h', 'j'): 1, ('h', 'l'): 1, ('s', 'f'): 1, ('u', 'z'): 1, ('f', 'r'): 1}\n"
          ]
        }
      ]
    },
    {
      "cell_type": "code",
      "source": [
        "import torch\n",
        "N = torch.zeros((28,28), dtype=torch.int32)"
      ],
      "metadata": {
        "id": "enZ3j7FI6yX7"
      },
      "execution_count": 11,
      "outputs": []
    },
    {
      "cell_type": "code",
      "source": [
        "chars = sorted(list(set(''.join(words))))\n",
        "chars"
      ],
      "metadata": {
        "colab": {
          "base_uri": "https://localhost:8080/"
        },
        "id": "fc7biM7g8pMb",
        "outputId": "95c8d384-d4a0-4099-aaf9-d9d10e998a48"
      },
      "execution_count": 12,
      "outputs": [
        {
          "output_type": "execute_result",
          "data": {
            "text/plain": [
              "['a',\n",
              " 'b',\n",
              " 'c',\n",
              " 'd',\n",
              " 'e',\n",
              " 'f',\n",
              " 'g',\n",
              " 'h',\n",
              " 'i',\n",
              " 'j',\n",
              " 'k',\n",
              " 'l',\n",
              " 'm',\n",
              " 'n',\n",
              " 'o',\n",
              " 'p',\n",
              " 'q',\n",
              " 'r',\n",
              " 's',\n",
              " 't',\n",
              " 'u',\n",
              " 'v',\n",
              " 'w',\n",
              " 'x',\n",
              " 'y',\n",
              " 'z']"
            ]
          },
          "metadata": {},
          "execution_count": 12
        }
      ]
    },
    {
      "cell_type": "code",
      "source": [
        "stoi = {s:i+1 for i,s in enumerate(chars)}\n",
        "stoi['.'] = 0\n",
        "itos = {i:s for s,i in stoi.items()}"
      ],
      "metadata": {
        "id": "6LG2r0HO9Tdb"
      },
      "execution_count": 13,
      "outputs": []
    },
    {
      "cell_type": "code",
      "source": [
        "for w in words:\n",
        "  w.lower()\n",
        "  chs = ['.'] + list(w) + ['.']\n",
        "  for ch1, ch2 in zip(chs, chs[1:]):\n",
        "    ix1 = stoi[ch1]\n",
        "    ix2 = stoi[ch2]\n",
        "    N[ix1, ix2] += 1"
      ],
      "metadata": {
        "id": "XyZVf360-yIj"
      },
      "execution_count": 14,
      "outputs": []
    },
    {
      "cell_type": "code",
      "source": [
        "plt.figure(figsize=(16,16))\n",
        "plt.imshow(N, cmap = 'Blues')\n",
        "for i in range(27):\n",
        "  for j in range(27):\n",
        "    chstr = itos[i] + itos[j]\n",
        "    plt.text(j, i, chstr, ha=\"center\", va=\"bottom\", color='gray')\n",
        "    plt.text(j, i, N[i,j].item(), ha='center', va='top', color='gray')\n",
        "plt.axis('off');"
      ],
      "metadata": {
        "colab": {
          "base_uri": "https://localhost:8080/",
          "height": 901
        },
        "id": "xEC_Bnu6_VxL",
        "outputId": "3654642e-c5e1-41fb-fcc9-1d56df9edf15"
      },
      "execution_count": 15,
      "outputs": [
        {
          "output_type": "display_data",
          "data": {
            "text/plain": [
              "<Figure size 1152x1152 with 1 Axes>"
            ],
            "image/png": "[encoded data removed]"
          },
          "metadata": {
            "needs_background": "light"
          }
        }
      ]
    },
    {
      "cell_type": "markdown",
      "source": [
        ".item() is used to retrieve the actual datatype say int from the tensor which holds it"
      ],
      "metadata": {
        "id": "iqtW-8ZTIuDf"
      }
    },
    {
      "cell_type": "code",
      "source": [
        "N[0, :]"
      ],
      "metadata": {
        "colab": {
          "base_uri": "https://localhost:8080/"
        },
        "id": "F0wV6PNSBvta",
        "outputId": "3f773e11-cbcc-47f0-b313-80ef0db22457"
      },
      "execution_count": 16,
      "outputs": [
        {
          "output_type": "execute_result",
          "data": {
            "text/plain": [
              "tensor([  0, 207,  19,  13,  52,   5,   8,  24,  35,  14,  30,  59,  10,  76,\n",
              "         59,   4,  76,   1,  81, 258,  30,  16,  61,   3,   0,  18,   6,   0],\n",
              "       dtype=torch.int32)"
            ]
          },
          "metadata": {},
          "execution_count": 16
        }
      ]
    },
    {
      "cell_type": "markdown",
      "source": [
        "**Sampling from the model**"
      ],
      "metadata": {
        "id": "zUXbm28vGwrq"
      }
    },
    {
      "cell_type": "code",
      "source": [
        "#Probabilities\n",
        "p = N[0].float()\n",
        "#Normalize probabilities between 0 and 1 as usual\n",
        "p = p/p.sum()\n",
        "p"
      ],
      "metadata": {
        "colab": {
          "base_uri": "https://localhost:8080/"
        },
        "id": "elNLHyx7F1-T",
        "outputId": "1c7342b5-d822-4ed5-f57d-93b9f0eac0ba"
      },
      "execution_count": 17,
      "outputs": [
        {
          "output_type": "execute_result",
          "data": {
            "text/plain": [
              "tensor([0.0000, 0.1777, 0.0163, 0.0112, 0.0446, 0.0043, 0.0069, 0.0206, 0.0300,\n",
              "        0.0120, 0.0258, 0.0506, 0.0086, 0.0652, 0.0506, 0.0034, 0.0652, 0.0009,\n",
              "        0.0695, 0.2215, 0.0258, 0.0137, 0.0524, 0.0026, 0.0000, 0.0155, 0.0052,\n",
              "        0.0000])"
            ]
          },
          "metadata": {},
          "execution_count": 17
        }
      ]
    },
    {
      "cell_type": "markdown",
      "source": [
        "Use the Generator and Multinomial classes of pyTorch to manipulate further"
      ],
      "metadata": {
        "id": "dseYSd92G1V5"
      }
    },
    {
      "cell_type": "code",
      "source": [
        "g = torch.Generator().manual_seed(2147483647)\n",
        "p = torch.rand(3, generator=g)\n",
        "p = p/p.sum()\n",
        "p"
      ],
      "metadata": {
        "colab": {
          "base_uri": "https://localhost:8080/"
        },
        "id": "O5gCwrL3GKE6",
        "outputId": "0ea3f909-9689-42ec-9894-924448d2c35a"
      },
      "execution_count": 18,
      "outputs": [
        {
          "output_type": "execute_result",
          "data": {
            "text/plain": [
              "tensor([0.6064, 0.3033, 0.0903])"
            ]
          },
          "metadata": {},
          "execution_count": 18
        }
      ]
    },
    {
      "cell_type": "code",
      "source": [
        "#Takes in a probability distribution and gives us what the actual data might be\n",
        "torch.multinomial(p, num_samples=100, replacement=True, generator=g)"
      ],
      "metadata": {
        "colab": {
          "base_uri": "https://localhost:8080/"
        },
        "id": "ppwPcvP7Hn0x",
        "outputId": "01699e3a-de1e-4009-9475-981ca2bb171d"
      },
      "execution_count": 19,
      "outputs": [
        {
          "output_type": "execute_result",
          "data": {
            "text/plain": [
              "tensor([1, 1, 2, 0, 0, 2, 1, 1, 0, 0, 0, 1, 1, 0, 0, 1, 1, 0, 0, 1, 0, 2, 0, 0,\n",
              "        1, 0, 0, 1, 0, 0, 0, 1, 1, 1, 0, 1, 1, 0, 0, 1, 1, 1, 0, 1, 1, 0, 1, 1,\n",
              "        0, 2, 0, 0, 0, 0, 0, 0, 0, 0, 0, 0, 1, 1, 0, 0, 0, 0, 0, 0, 0, 0, 1, 0,\n",
              "        0, 1, 0, 0, 0, 0, 0, 0, 0, 1, 2, 0, 0, 0, 0, 0, 0, 1, 0, 0, 2, 0, 1, 0,\n",
              "        0, 1, 1, 1])"
            ]
          },
          "metadata": {},
          "execution_count": 19
        }
      ]
    },
    {
      "cell_type": "markdown",
      "source": [
        "This tells us that p[0] = 0.6064; p[1] = 0.3033; p[2] = 0.0903"
      ],
      "metadata": {
        "id": "CrO8FeqpIGir"
      }
    },
    {
      "cell_type": "code",
      "source": [
        "g = torch.Generator().manual_seed(2147483647)\n",
        "ix = torch.multinomial(p, num_samples=1, replacement=True, generator=g).item()\n",
        "itos[ix]"
      ],
      "metadata": {
        "colab": {
          "base_uri": "https://localhost:8080/",
          "height": 35
        },
        "id": "1mgiBPkMH0Ma",
        "outputId": "0f02fbbd-3f26-4024-f9c5-081fcf25c320"
      },
      "execution_count": 20,
      "outputs": [
        {
          "output_type": "execute_result",
          "data": {
            "text/plain": [
              "'a'"
            ],
            "application/vnd.google.colaboratory.intrinsic+json": {
              "type": "string"
            }
          },
          "metadata": {},
          "execution_count": 20
        }
      ]
    },
    {
      "cell_type": "markdown",
      "source": [
        "**Broadcasting**\n",
        "Basically copy this Column vector across the matrix making all the columns same"
      ],
      "metadata": {
        "id": "Kp-hvbY6MMvN"
      }
    },
    {
      "cell_type": "code",
      "source": [
        "#Smoothing and broadcasting\n",
        "P = (N+1).float()\n",
        "P.shape"
      ],
      "metadata": {
        "colab": {
          "base_uri": "https://localhost:8080/"
        },
        "id": "k_aFQAUUJyqJ",
        "outputId": "f94c9f0b-8518-49be-b554-41dd083eb7e1"
      },
      "execution_count": 21,
      "outputs": [
        {
          "output_type": "execute_result",
          "data": {
            "text/plain": [
              "torch.Size([28, 28])"
            ]
          },
          "metadata": {},
          "execution_count": 21
        }
      ]
    },
    {
      "cell_type": "code",
      "source": [
        "P /= P.sum(1, keepdims=True)"
      ],
      "metadata": {
        "id": "sg9oMi9qLB8u"
      },
      "execution_count": 22,
      "outputs": []
    },
    {
      "cell_type": "code",
      "source": [
        "g = torch.Generator().manual_seed(2147483647)\n",
        "for i in range(5):\n",
        "  out = []\n",
        "  ix = 0\n",
        "  while True:\n",
        "    p = P[ix]\n",
        "    #p = torch.ones(27) / 27.0 for equally likely distribution i.e, totally untrained, gives worse results\n",
        "    ix = torch.multinomial(p, num_samples=1, replacement=True, generator=g).item()\n",
        "    out.append(itos[ix])\n",
        "    if ix==0:\n",
        "      break\n",
        "  print(''.join(out))"
      ],
      "metadata": {
        "colab": {
          "base_uri": "https://localhost:8080/"
        },
        "id": "ox2V93LDJOCB",
        "outputId": "bda2495a-e2e1-492e-a2eb-3e0c118a7d92"
      },
      "execution_count": 23,
      "outputs": [
        {
          "output_type": "stream",
          "name": "stdout",
          "text": [
            "spr.\n",
            "ausanjimurtiyajochndhi.\n",
            "kseee.\n",
            "rgiveswarik.\n",
            "seeshibhadeeteekamishashanaigyumo.\n"
          ]
        }
      ]
    },
    {
      "cell_type": "markdown",
      "source": [
        "This is pretty bad tbh :) "
      ],
      "metadata": {
        "id": "4_QiGHbjM3kh"
      }
    },
    {
      "cell_type": "code",
      "source": [
        "log_likelihood = 0.0\n",
        "n = 0\n",
        "for w in words[:3]:\n",
        "  chs = ['.'] + list(w) + ['.']\n",
        "  for ch1, ch2 in zip(chs, chs[1:]):\n",
        "    ix1 = stoi[ch1]\n",
        "    ix2 = stoi[ch2]\n",
        "    prob = P[ix1, ix2]\n",
        "    logprob = torch.log(prob)\n",
        "    log_likelihood += logprob\n",
        "    n+=1\n",
        "    print(f'{ch1} {ch2}: {prob : .4f} {logprob: .4f}')\n",
        "print(f'Log Likelihood is : {log_likelihood: .4f}')\n",
        "#Negative log likelihood\n",
        "nll = -log_likelihood\n",
        "print(f'Negative Log Likelihood: {nll}')\n",
        "print(f'Normalized nll = {(nll/n)}')"
      ],
      "metadata": {
        "colab": {
          "base_uri": "https://localhost:8080/"
        },
        "id": "yeJBZIdNNtv9",
        "outputId": "d56268ca-7f3c-4886-fc54-502018820628"
      },
      "execution_count": 24,
      "outputs": [
        {
          "output_type": "stream",
          "name": "stdout",
          "text": [
            ". a:  0.1744 -1.7467\n",
            "a b:  0.0235 -3.7492\n",
            "b h:  0.4173 -0.8740\n",
            "h i:  0.2083 -1.5686\n",
            "i s:  0.1093 -2.2138\n",
            "s h:  0.5663 -0.5686\n",
            "h e:  0.0375 -3.2834\n",
            "e k:  0.0401 -3.2162\n",
            "k .:  0.0923 -2.3832\n",
            ". a:  0.1744 -1.7467\n",
            "a m:  0.0541 -2.9175\n",
            "m a:  0.3728 -0.9868\n",
            "a n:  0.2029 -1.5949\n",
            "n .:  0.1793 -1.7188\n",
            ". h:  0.0302 -3.5007\n",
            "h a:  0.3347 -1.0945\n",
            "a r:  0.1043 -2.2602\n",
            "r s:  0.0438 -3.1282\n",
            "s h:  0.5663 -0.5686\n",
            "h .:  0.1694 -1.7752\n",
            "Log Likelihood is : -40.8959\n",
            "Negative Log Likelihood: 40.89589309692383\n",
            "Normalized nll = 2.0447945594787598\n"
          ]
        }
      ]
    },
    {
      "cell_type": "markdown",
      "source": [
        "**if the distribution were equally likely that is not trained at all, we'd have a probability of 1/27 ~ 4%, thus if we are getting a probability anything above that means we have learnt something atleast**"
      ],
      "metadata": {
        "id": "silVCcdsQeMt"
      }
    },
    {
      "cell_type": "markdown",
      "source": [
        "Now, maximise the Log likelihood that is minimising the loss function(NLL) using the following Neural Network "
      ],
      "metadata": {
        "id": "Fu4bHkfgTLkr"
      }
    },
    {
      "cell_type": "code",
      "source": [
        "#Testing\n",
        "for w in ['shit']:\n",
        "  chs = ['.'] + list(w) + ['.']\n",
        "  for ch1, ch2 in zip(chs, chs[1:]):\n",
        "    ix1 = stoi[ch1]\n",
        "    ix2 = stoi[ch2]\n",
        "    prob = P[ix1, ix2]\n",
        "    logprob = torch.log(prob)\n",
        "    log_likelihood += logprob\n",
        "    n+=1\n",
        "    print(f'{ch1} {ch2}: {prob : .4f} {logprob: .4f}')\n",
        "print(f'Log Likelihood is : {log_likelihood: .4f}')\n",
        "#Negative log likelihood\n",
        "nll = -log_likelihood\n",
        "print(f'Negative Log Likelihood: {nll}')\n",
        "print(f'Normalized nll = {(nll/n)}')"
      ],
      "metadata": {
        "colab": {
          "base_uri": "https://localhost:8080/"
        },
        "id": "MUx2SDPGQG3_",
        "outputId": "766595f1-9557-4750-8c0d-becb50fdc181"
      },
      "execution_count": 25,
      "outputs": [
        {
          "output_type": "stream",
          "name": "stdout",
          "text": [
            ". s:  0.2171 -1.5274\n",
            "s h:  0.5663 -0.5686\n",
            "h i:  0.2083 -1.5686\n",
            "i t:  0.1380 -1.9807\n",
            "t .:  0.2104 -1.5589\n",
            "Log Likelihood is : -48.1000\n",
            "Negative Log Likelihood: 48.10002899169922\n",
            "Normalized nll = 1.9240012168884277\n"
          ]
        }
      ]
    },
    {
      "cell_type": "code",
      "source": [
        "xs, ys = [], []\n",
        "\n",
        "for w in words[:1]:\n",
        "  chs = ['.'] + list(w) + ['.']\n",
        "  for ch1,ch2 in zip(chs, chs[1:]):\n",
        "    ix1 = stoi[ch1]\n",
        "    ix2 = stoi[ch2]\n",
        "    print(ch1, ch2)\n",
        "    xs.append(ix1)\n",
        "    ys.append(ix2)\n",
        "\n",
        "xs = torch.tensor(xs)\n",
        "ys = torch.tensor(ys)"
      ],
      "metadata": {
        "id": "3DHNhcTeUHDE",
        "colab": {
          "base_uri": "https://localhost:8080/"
        },
        "outputId": "bbccd3b5-ac8b-42c9-ddfc-c17bae37c41e"
      },
      "execution_count": 29,
      "outputs": [
        {
          "output_type": "stream",
          "name": "stdout",
          "text": [
            ". a\n",
            "a b\n",
            "b h\n",
            "h i\n",
            "i s\n",
            "s h\n",
            "h e\n",
            "e k\n",
            "k .\n"
          ]
        }
      ]
    },
    {
      "cell_type": "code",
      "source": [
        "xs"
      ],
      "metadata": {
        "colab": {
          "base_uri": "https://localhost:8080/"
        },
        "id": "yOs5vc0ZdZPN",
        "outputId": "f9dc06ce-e7a6-4069-f5ed-403992c1ffb5"
      },
      "execution_count": 30,
      "outputs": [
        {
          "output_type": "execute_result",
          "data": {
            "text/plain": [
              "tensor([ 0,  1,  2,  8,  9, 19,  8,  5, 11])"
            ]
          },
          "metadata": {},
          "execution_count": 30
        }
      ]
    },
    {
      "cell_type": "code",
      "source": [
        "ys"
      ],
      "metadata": {
        "colab": {
          "base_uri": "https://localhost:8080/"
        },
        "id": "ohjWFQ3PdxWE",
        "outputId": "495fda2c-5893-45cd-9c1b-e84222e594d1"
      },
      "execution_count": 31,
      "outputs": [
        {
          "output_type": "execute_result",
          "data": {
            "text/plain": [
              "tensor([ 1,  2,  8,  9, 19,  8,  5, 11,  0])"
            ]
          },
          "metadata": {},
          "execution_count": 31
        }
      ]
    },
    {
      "cell_type": "markdown",
      "source": [
        "It is meaningless to pass in the integers directly into the NN, thus we use one hot encoding, what does OHE do?\n",
        "\n",
        "1.   Take an integer say 19 from xs and make a vector of 19 dimensions with first 18 entries as 0 and the last entry (19th) to be 1\n",
        "2.   Feed that vector into the NN :)\n",
        "\n",
        "Link to the official documentation of OHE in PyTorch\n",
        "[link text](https://https://pytorch.org/docs/stable/generated/torch.nn.functional.one_hot.html)\n",
        "\n"
      ],
      "metadata": {
        "id": "0U_i90_1d9gU"
      }
    },
    {
      "cell_type": "code",
      "source": [
        "import torch.nn.functional as F\n",
        "xenc = F.one_hot(xs, num_classes=27).float()\n",
        "xenc"
      ],
      "metadata": {
        "colab": {
          "base_uri": "https://localhost:8080/"
        },
        "id": "i0SrUwW4dyED",
        "outputId": "601d57c0-187c-4746-ec1c-6e6498e36264"
      },
      "execution_count": 36,
      "outputs": [
        {
          "output_type": "execute_result",
          "data": {
            "text/plain": [
              "tensor([[1., 0., 0., 0., 0., 0., 0., 0., 0., 0., 0., 0., 0., 0., 0., 0., 0., 0.,\n",
              "         0., 0., 0., 0., 0., 0., 0., 0., 0.],\n",
              "        [0., 1., 0., 0., 0., 0., 0., 0., 0., 0., 0., 0., 0., 0., 0., 0., 0., 0.,\n",
              "         0., 0., 0., 0., 0., 0., 0., 0., 0.],\n",
              "        [0., 0., 1., 0., 0., 0., 0., 0., 0., 0., 0., 0., 0., 0., 0., 0., 0., 0.,\n",
              "         0., 0., 0., 0., 0., 0., 0., 0., 0.],\n",
              "        [0., 0., 0., 0., 0., 0., 0., 0., 1., 0., 0., 0., 0., 0., 0., 0., 0., 0.,\n",
              "         0., 0., 0., 0., 0., 0., 0., 0., 0.],\n",
              "        [0., 0., 0., 0., 0., 0., 0., 0., 0., 1., 0., 0., 0., 0., 0., 0., 0., 0.,\n",
              "         0., 0., 0., 0., 0., 0., 0., 0., 0.],\n",
              "        [0., 0., 0., 0., 0., 0., 0., 0., 0., 0., 0., 0., 0., 0., 0., 0., 0., 0.,\n",
              "         0., 1., 0., 0., 0., 0., 0., 0., 0.],\n",
              "        [0., 0., 0., 0., 0., 0., 0., 0., 1., 0., 0., 0., 0., 0., 0., 0., 0., 0.,\n",
              "         0., 0., 0., 0., 0., 0., 0., 0., 0.],\n",
              "        [0., 0., 0., 0., 0., 1., 0., 0., 0., 0., 0., 0., 0., 0., 0., 0., 0., 0.,\n",
              "         0., 0., 0., 0., 0., 0., 0., 0., 0.],\n",
              "        [0., 0., 0., 0., 0., 0., 0., 0., 0., 0., 0., 1., 0., 0., 0., 0., 0., 0.,\n",
              "         0., 0., 0., 0., 0., 0., 0., 0., 0.]])"
            ]
          },
          "metadata": {},
          "execution_count": 36
        }
      ]
    },
    {
      "cell_type": "code",
      "source": [
        "xenc.shape"
      ],
      "metadata": {
        "colab": {
          "base_uri": "https://localhost:8080/"
        },
        "id": "G5mS7Ud4fLas",
        "outputId": "8b196888-176c-4eb9-bf8b-103cf7e66fa3"
      },
      "execution_count": 37,
      "outputs": [
        {
          "output_type": "execute_result",
          "data": {
            "text/plain": [
              "torch.Size([9, 27])"
            ]
          },
          "metadata": {},
          "execution_count": 37
        }
      ]
    },
    {
      "cell_type": "code",
      "source": [
        "plt.imshow(xenc)"
      ],
      "metadata": {
        "colab": {
          "base_uri": "https://localhost:8080/",
          "height": 177
        },
        "id": "778VDehWfV07",
        "outputId": "b4aae165-831c-4643-9936-bb9a55c2d452"
      },
      "execution_count": 38,
      "outputs": [
        {
          "output_type": "execute_result",
          "data": {
            "text/plain": [
              "<matplotlib.image.AxesImage at 0x7fa13630d550>"
            ]
          },
          "metadata": {},
          "execution_count": 38
        },
        {
          "output_type": "display_data",
          "data": {
            "text/plain": [
              "<Figure size 432x288 with 1 Axes>"
            ],
            "image/png": "[encoded data removed]"
          },
          "metadata": {
            "needs_background": "light"
          }
        }
      ]
    },
    {
      "cell_type": "code",
      "source": [
        "xenc.dtype"
      ],
      "metadata": {
        "colab": {
          "base_uri": "https://localhost:8080/"
        },
        "id": "B0vaQjPdfa6T",
        "outputId": "d6521d26-60e5-4dcc-b4f6-fdd662533b8f"
      },
      "execution_count": 39,
      "outputs": [
        {
          "output_type": "execute_result",
          "data": {
            "text/plain": [
              "torch.float32"
            ]
          },
          "metadata": {},
          "execution_count": 39
        }
      ]
    },
    {
      "cell_type": "markdown",
      "source": [
        "Again, sending integers into the NN is undesirable thus we atleast need to cast xenc into float so that it eases the computations inside the NN"
      ],
      "metadata": {
        "id": "EsDJ46VXfvJe"
      }
    },
    {
      "cell_type": "code",
      "source": [
        "#Randomized weights of our NN\n",
        "W = torch.randn(size = (27,1)) # returns a tensor filled with random numbers from a standard normal distribution, takes in a size with number of rows and the number of neurons\n",
        "W"
      ],
      "metadata": {
        "colab": {
          "base_uri": "https://localhost:8080/"
        },
        "id": "1P_scuxCfmqT",
        "outputId": "3dc4187c-e009-4af5-aba4-8647070d4361"
      },
      "execution_count": 40,
      "outputs": [
        {
          "output_type": "execute_result",
          "data": {
            "text/plain": [
              "tensor([[-1.9195],\n",
              "        [ 0.2593],\n",
              "        [-0.0730],\n",
              "        [-0.0249],\n",
              "        [-0.7396],\n",
              "        [ 0.1134],\n",
              "        [-0.5261],\n",
              "        [-0.4675],\n",
              "        [ 0.5895],\n",
              "        [-1.5841],\n",
              "        [-0.0296],\n",
              "        [ 1.1142],\n",
              "        [-0.5367],\n",
              "        [ 0.8450],\n",
              "        [ 0.7267],\n",
              "        [ 0.9412],\n",
              "        [-2.1662],\n",
              "        [-0.4360],\n",
              "        [-0.2941],\n",
              "        [ 1.2651],\n",
              "        [ 0.5897],\n",
              "        [-0.4418],\n",
              "        [ 1.4354],\n",
              "        [-0.3528],\n",
              "        [ 1.4106],\n",
              "        [ 0.8956],\n",
              "        [-1.5724]])"
            ]
          },
          "metadata": {},
          "execution_count": 40
        }
      ]
    },
    {
      "cell_type": "markdown",
      "source": [
        "Once we have our weights, we need to multiply it with our data i.e, xenc in this case. \n",
        "\n",
        "Here, we use the '@' operator of torch to multiply these matrices or tensors in general.\n"
      ],
      "metadata": {
        "id": "pbqJYQcrg0FT"
      }
    },
    {
      "cell_type": "code",
      "source": [
        "xenc @ W"
      ],
      "metadata": {
        "colab": {
          "base_uri": "https://localhost:8080/"
        },
        "id": "rVv0cPr_gk9E",
        "outputId": "093913b2-8b49-4ad3-f146-02e0038d3b38"
      },
      "execution_count": 41,
      "outputs": [
        {
          "output_type": "execute_result",
          "data": {
            "text/plain": [
              "tensor([[-1.9195],\n",
              "        [ 0.2593],\n",
              "        [-0.0730],\n",
              "        [ 0.5895],\n",
              "        [-1.5841],\n",
              "        [ 1.2651],\n",
              "        [ 0.5895],\n",
              "        [ 0.1134],\n",
              "        [ 1.1142]])"
            ]
          },
          "metadata": {},
          "execution_count": 41
        }
      ]
    },
    {
      "cell_type": "markdown",
      "source": [
        "xenc (9,27) @ W (27,1) = result (9,1)"
      ],
      "metadata": {
        "id": "IsGeAhRrhpIL"
      }
    },
    {
      "cell_type": "code",
      "source": [
        "#Let us create a \"MULTI\" neuron system\n",
        "W = torch.randn(size = (27,27))\n",
        "xenc @ W"
      ],
      "metadata": {
        "colab": {
          "base_uri": "https://localhost:8080/"
        },
        "id": "zuKhb3cahlz8",
        "outputId": "adc9866d-6ff0-4be6-92ed-5ba15730fda3"
      },
      "execution_count": 42,
      "outputs": [
        {
          "output_type": "execute_result",
          "data": {
            "text/plain": [
              "tensor([[-1.0949,  0.4754, -0.7085,  0.1317,  0.1247, -1.0917,  0.2880,  0.0221,\n",
              "         -0.2487,  0.4509, -0.7679, -0.0318, -0.5566,  1.2121,  0.0979,  0.6037,\n",
              "          0.7244,  0.9702, -0.2373,  1.1230,  1.1026,  0.5426,  0.8460,  2.1974,\n",
              "          1.7564,  0.2779,  0.0181],\n",
              "        [-0.2613,  0.1734, -1.3793,  2.0362, -0.0799, -1.2541,  0.4519, -0.9825,\n",
              "         -0.8484,  0.5991,  1.0742, -0.6817, -0.0385,  0.2581,  0.5947,  0.0767,\n",
              "          1.6089,  0.0837,  2.2536, -2.5817,  0.6066, -0.9067,  0.4152, -0.1819,\n",
              "          1.2087,  0.5375,  1.4105],\n",
              "        [-0.0839,  0.1597,  0.9224,  0.9026, -0.2588,  1.1045,  0.1280, -1.9528,\n",
              "         -0.5918, -1.7595,  0.5061,  1.3669,  1.7767,  0.9583, -1.0870,  0.0702,\n",
              "          0.0098,  2.8888, -0.1247,  0.0833,  0.0547, -0.8433,  1.0513, -0.2758,\n",
              "         -0.8246,  0.1594, -0.7147],\n",
              "        [ 0.3401, -0.8615,  1.0352, -1.4475,  1.0153,  0.1460,  0.9348, -0.1191,\n",
              "         -0.8949,  0.2890, -1.1049,  0.0768, -0.6828, -0.0916,  1.5727, -1.1662,\n",
              "          1.3843, -0.7298, -0.7151,  0.8919, -0.2902, -1.6671,  1.2134, -0.7520,\n",
              "          1.2692,  0.3223,  0.1248],\n",
              "        [-0.4228, -0.0547,  0.4923, -1.9716, -0.4636,  0.4879,  1.1584, -0.5065,\n",
              "         -0.8343, -1.9806,  1.3451,  0.2728,  0.7260,  0.1501, -0.2279,  0.4074,\n",
              "         -0.1538,  1.4528, -0.8666,  1.7882,  0.2515, -0.0959,  0.2431,  0.0794,\n",
              "         -0.6020, -1.7433,  0.1456],\n",
              "        [-0.5119, -0.6240, -0.5029,  0.1017,  0.2475,  0.8044, -0.5136,  1.2552,\n",
              "          0.2406,  0.5610,  0.0753,  0.1152,  0.5591, -0.8515,  0.9532,  1.0462,\n",
              "         -1.3792,  0.1340,  0.0161, -0.8864, -0.1200, -0.8185,  0.8794, -0.9762,\n",
              "          0.5187, -0.2079,  0.6548],\n",
              "        [ 0.3401, -0.8615,  1.0352, -1.4475,  1.0153,  0.1460,  0.9348, -0.1191,\n",
              "         -0.8949,  0.2890, -1.1049,  0.0768, -0.6828, -0.0916,  1.5727, -1.1662,\n",
              "          1.3843, -0.7298, -0.7151,  0.8919, -0.2902, -1.6671,  1.2134, -0.7520,\n",
              "          1.2692,  0.3223,  0.1248],\n",
              "        [ 2.3579,  1.7391, -0.0133, -0.0364, -0.1132, -0.5476,  0.9341, -0.2219,\n",
              "          1.6697,  0.9504,  0.3335, -0.5746,  0.9453, -0.9367, -1.3877, -0.7634,\n",
              "         -0.3352,  1.1613, -1.4994,  1.2749, -0.4805, -2.0218,  0.9972,  0.3385,\n",
              "          0.8264, -0.1140,  0.4823],\n",
              "        [ 0.7451, -0.2882, -1.3075, -0.0901,  0.1555, -1.3108,  0.5808, -0.2052,\n",
              "          0.1268,  1.2479,  1.0366, -1.7129,  1.0980, -1.2612, -0.2315, -0.7721,\n",
              "          0.8097, -0.0269, -1.8457,  1.1521,  0.4824, -0.7481, -0.5803,  1.4374,\n",
              "         -1.5208, -0.0893,  0.6147]])"
            ]
          },
          "metadata": {},
          "execution_count": 42
        }
      ]
    },
    {
      "cell_type": "code",
      "source": [
        "(xenc@W).shape"
      ],
      "metadata": {
        "colab": {
          "base_uri": "https://localhost:8080/"
        },
        "id": "TDATIwcUikuD",
        "outputId": "1ef052fa-1d53-4cca-a0f7-eb3123271cf9"
      },
      "execution_count": 43,
      "outputs": [
        {
          "output_type": "execute_result",
          "data": {
            "text/plain": [
              "torch.Size([9, 27])"
            ]
          },
          "metadata": {},
          "execution_count": 43
        }
      ]
    },
    {
      "cell_type": "markdown",
      "source": [
        "How do we know which is the firing value of which neuron for what input?"
      ],
      "metadata": {
        "id": "gHnRSAgOi7HK"
      }
    },
    {
      "cell_type": "code",
      "source": [
        "(xenc@W)[3,13]"
      ],
      "metadata": {
        "colab": {
          "base_uri": "https://localhost:8080/"
        },
        "id": "DX3nlDx6i266",
        "outputId": "9da3353f-4860-44f5-c662-3eabf0059c05"
      },
      "execution_count": 44,
      "outputs": [
        {
          "output_type": "execute_result",
          "data": {
            "text/plain": [
              "tensor(-0.0916)"
            ]
          },
          "metadata": {},
          "execution_count": 44
        }
      ]
    },
    {
      "cell_type": "markdown",
      "source": [
        "Now, this is the firing value of the 13th neuron when it gets an input of 3 from the previous layer"
      ],
      "metadata": {
        "id": "wbjwI1kYjGNi"
      }
    },
    {
      "cell_type": "markdown",
      "source": [
        "Further, we need some way to interpret the outputs of this neural network. Thus we use our softmax layer for that purpose\n",
        "\n",
        "\n",
        "\n",
        "1.   Exponentiate the outputs because they actually represent the log counts xD\n",
        "2.   Feed them into the softmax layer\n",
        "\n",
        "That sounds pretty much it ig\n",
        "\n"
      ],
      "metadata": {
        "id": "08hl0H1yj2rA"
      }
    },
    {
      "cell_type": "code",
      "source": [
        "#THE FAMOUS SOFTMAX LAYER BRUH\n",
        "logits = xenc @ W #The log counts\n",
        "counts = logits.exp() #Equivalent N in our previous implementation\n",
        "probs = counts / counts.sum(1, keepdims=True)\n",
        "probs"
      ],
      "metadata": {
        "colab": {
          "base_uri": "https://localhost:8080/"
        },
        "id": "0437AdvnkEiB",
        "outputId": "4b9a8965-b4e0-43d2-9c9d-2b9a788e44ab"
      },
      "execution_count": 49,
      "outputs": [
        {
          "output_type": "execute_result",
          "data": {
            "text/plain": [
              "tensor([[0.0066, 0.0317, 0.0097, 0.0225, 0.0223, 0.0066, 0.0263, 0.0201, 0.0153,\n",
              "         0.0309, 0.0091, 0.0191, 0.0113, 0.0661, 0.0217, 0.0360, 0.0406, 0.0519,\n",
              "         0.0155, 0.0605, 0.0593, 0.0339, 0.0459, 0.1772, 0.1140, 0.0260, 0.0200],\n",
              "        [0.0145, 0.0223, 0.0047, 0.1438, 0.0173, 0.0054, 0.0295, 0.0070, 0.0080,\n",
              "         0.0342, 0.0549, 0.0095, 0.0181, 0.0243, 0.0340, 0.0203, 0.0938, 0.0204,\n",
              "         0.1787, 0.0014, 0.0344, 0.0076, 0.0284, 0.0156, 0.0629, 0.0321, 0.0769],\n",
              "        [0.0163, 0.0207, 0.0445, 0.0436, 0.0137, 0.0534, 0.0201, 0.0025, 0.0098,\n",
              "         0.0030, 0.0293, 0.0694, 0.1045, 0.0461, 0.0060, 0.0190, 0.0179, 0.3179,\n",
              "         0.0156, 0.0192, 0.0187, 0.0076, 0.0506, 0.0134, 0.0078, 0.0207, 0.0087],\n",
              "        [0.0350, 0.0105, 0.0701, 0.0059, 0.0687, 0.0288, 0.0634, 0.0221, 0.0102,\n",
              "         0.0332, 0.0082, 0.0269, 0.0126, 0.0227, 0.1199, 0.0078, 0.0993, 0.0120,\n",
              "         0.0122, 0.0607, 0.0186, 0.0047, 0.0837, 0.0117, 0.0885, 0.0344, 0.0282],\n",
              "        [0.0170, 0.0245, 0.0423, 0.0036, 0.0163, 0.0422, 0.0824, 0.0156, 0.0112,\n",
              "         0.0036, 0.0993, 0.0340, 0.0535, 0.0301, 0.0206, 0.0389, 0.0222, 0.1106,\n",
              "         0.0109, 0.1547, 0.0333, 0.0235, 0.0330, 0.0280, 0.0142, 0.0045, 0.0299],\n",
              "        [0.0173, 0.0155, 0.0174, 0.0319, 0.0369, 0.0645, 0.0173, 0.1012, 0.0367,\n",
              "         0.0506, 0.0311, 0.0324, 0.0505, 0.0123, 0.0748, 0.0821, 0.0073, 0.0330,\n",
              "         0.0293, 0.0119, 0.0256, 0.0127, 0.0695, 0.0109, 0.0485, 0.0234, 0.0555],\n",
              "        [0.0350, 0.0105, 0.0701, 0.0059, 0.0687, 0.0288, 0.0634, 0.0221, 0.0102,\n",
              "         0.0332, 0.0082, 0.0269, 0.0126, 0.0227, 0.1199, 0.0078, 0.0993, 0.0120,\n",
              "         0.0122, 0.0607, 0.0186, 0.0047, 0.0837, 0.0117, 0.0885, 0.0344, 0.0282],\n",
              "        [0.1959, 0.1055, 0.0183, 0.0179, 0.0166, 0.0107, 0.0472, 0.0148, 0.0985,\n",
              "         0.0480, 0.0259, 0.0104, 0.0477, 0.0073, 0.0046, 0.0086, 0.0133, 0.0592,\n",
              "         0.0041, 0.0663, 0.0115, 0.0025, 0.0503, 0.0260, 0.0424, 0.0165, 0.0300],\n",
              "        [0.0575, 0.0205, 0.0074, 0.0250, 0.0319, 0.0074, 0.0488, 0.0222, 0.0310,\n",
              "         0.0951, 0.0770, 0.0049, 0.0819, 0.0077, 0.0217, 0.0126, 0.0614, 0.0266,\n",
              "         0.0043, 0.0864, 0.0442, 0.0129, 0.0153, 0.1149, 0.0060, 0.0250, 0.0505]])"
            ]
          },
          "metadata": {},
          "execution_count": 49
        }
      ]
    },
    {
      "cell_type": "markdown",
      "source": [
        "HEHE WE ERASED THE NEGATIVITY FROM THIS WORLD"
      ],
      "metadata": {
        "id": "4W62WBpolEaZ"
      }
    },
    {
      "cell_type": "code",
      "source": [
        "probs[0].sum()"
      ],
      "metadata": {
        "colab": {
          "base_uri": "https://localhost:8080/"
        },
        "id": "Cqx9Lui8k_XC",
        "outputId": "ebd89953-ac9f-4c60-f780-6a075a1f9a26"
      },
      "execution_count": 48,
      "outputs": [
        {
          "output_type": "execute_result",
          "data": {
            "text/plain": [
              "tensor(1.)"
            ]
          },
          "metadata": {},
          "execution_count": 48
        }
      ]
    },
    {
      "cell_type": "markdown",
      "source": [
        "Probability is the only probable subject which sums upto 1"
      ],
      "metadata": {
        "id": "5IaDiogjl5VT"
      }
    },
    {
      "cell_type": "markdown",
      "source": [
        "**Summary of the forward pass**\n",
        "\n",
        "Basically, probs[0] represents the probabilities of the 27 characters occuring after the '.' (which is the 0th index of input)"
      ],
      "metadata": {
        "id": "QnrXsJY2mcFJ"
      }
    },
    {
      "cell_type": "code",
      "source": [
        "nlls = torch.zeros(9) # for the first name that is abhishek\n",
        "for i in range(5):\n",
        "  x = xs[i].item() #input character index\n",
        "  y = ys[i].item()\n",
        "  print('----------------')\n",
        "  print(f'bigram example {i+1}: {itos[x]}{itos[y]} (indices {x}{y})')\n",
        "  print('input to the neural net : ', x)\n",
        "  print('output probabilities from the NN :', y)\n",
        "  print('label (actual next character):', y)\n",
        "  p = probs[i,y]\n",
        "  print('probability assigned by the NN to the correct character: ', p.item())\n",
        "  logp = torch.log(p)\n",
        "  print(\"log likelihood: \", logp)\n",
        "  nll = -logp\n",
        "  print('negative log likelihood: ', nll.item())\n",
        "  nlls[i] = nll #update nlls list\n",
        "\n",
        "print('===========')\n",
        "print('\\n average NLL, i.e, loss = ', nlls.mean().item())"
      ],
      "metadata": {
        "colab": {
          "base_uri": "https://localhost:8080/"
        },
        "id": "1VgUXmu-l3tS",
        "outputId": "40c3202f-e1c7-4c4b-a607-400a427be0b2"
      },
      "execution_count": 51,
      "outputs": [
        {
          "output_type": "stream",
          "name": "stdout",
          "text": [
            "----------------\n",
            "bigram example 1: .a (indices 01)\n",
            "input to the neural net :  0\n",
            "output probabilities from the NN : 1\n",
            "label (actual next character): 1\n",
            "probability assigned by the NN to the correct character:  0.03166024386882782\n",
            "log likelihood:  tensor(-3.4527)\n",
            "negative log likelihood:  3.452693462371826\n",
            "----------------\n",
            "bigram example 2: ab (indices 12)\n",
            "input to the neural net :  1\n",
            "output probabilities from the NN : 2\n",
            "label (actual next character): 2\n",
            "probability assigned by the NN to the correct character:  0.004724798258394003\n",
            "log likelihood:  tensor(-5.3549)\n",
            "negative log likelihood:  5.354930400848389\n",
            "----------------\n",
            "bigram example 3: bh (indices 28)\n",
            "input to the neural net :  2\n",
            "output probabilities from the NN : 8\n",
            "label (actual next character): 8\n",
            "probability assigned by the NN to the correct character:  0.009786762297153473\n",
            "log likelihood:  tensor(-4.6267)\n",
            "negative log likelihood:  4.626724720001221\n",
            "----------------\n",
            "bigram example 4: hi (indices 89)\n",
            "input to the neural net :  8\n",
            "output probabilities from the NN : 9\n",
            "label (actual next character): 9\n",
            "probability assigned by the NN to the correct character:  0.0332271084189415\n",
            "log likelihood:  tensor(-3.4044)\n",
            "negative log likelihood:  3.4043891429901123\n",
            "----------------\n",
            "bigram example 5: is (indices 919)\n",
            "input to the neural net :  9\n",
            "output probabilities from the NN : 19\n",
            "label (actual next character): 19\n",
            "probability assigned by the NN to the correct character:  0.15473498404026031\n",
            "log likelihood:  tensor(-1.8660)\n",
            "negative log likelihood:  1.8660414218902588\n",
            "===========\n",
            "\n",
            " average NLL, i.e, loss =  2.0783088207244873\n"
          ]
        }
      ]
    },
    {
      "cell_type": "markdown",
      "source": [
        "As you can see the probabilities are pretty bad some < 1% for the data which is IN the training set bruh. Imagine testing it :(\n",
        "\n",
        "\n",
        "Happening coz we have used a single layered perceptron LOLLLL"
      ],
      "metadata": {
        "id": "xj5qYamhqgq5"
      }
    },
    {
      "cell_type": "code",
      "source": [
        "#Lets try to make it a bit efficient xD\n",
        "g = torch.Generator().manual_seed(214748367 + 1) #+1 represents the smoothing factor\n",
        "W = torch.randn(size=(27,27), generator=g)"
      ],
      "metadata": {
        "id": "czGwarf3qZCK"
      },
      "execution_count": 52,
      "outputs": []
    },
    {
      "cell_type": "code",
      "source": [
        "logits = xenc @ W\n",
        "counts = logits.exp()\n",
        "probs = counts / counts.sum(1, keepdims = True)"
      ],
      "metadata": {
        "id": "70F6h649rdSS"
      },
      "execution_count": 53,
      "outputs": []
    },
    {
      "cell_type": "code",
      "source": [
        "nlls = torch.zeros(9) # for the first name that is abhishek\n",
        "for i in range(5):\n",
        "  x = xs[i].item() #input character index\n",
        "  y = ys[i].item()\n",
        "  print('----------------')\n",
        "  print(f'bigram example {i+1}: {itos[x]}{itos[y]} (indices {x}{y})')\n",
        "  print('input to the neural net : ', x)\n",
        "  print('output probabilities from the NN :', y)\n",
        "  print('label (actual next character):', y)\n",
        "  p = probs[i,y]\n",
        "  print('probability assigned by the NN to the correct character: ', p.item())\n",
        "  logp = torch.log(p)\n",
        "  print(\"log likelihood: \", logp)\n",
        "  nll = -logp\n",
        "  print('negative log likelihood: ', nll.item())\n",
        "  nlls[i] = nll #update nlls list\n",
        "\n",
        "print('===========')\n",
        "print('\\n average NLL, i.e, loss = ', nlls.mean().item())"
      ],
      "metadata": {
        "colab": {
          "base_uri": "https://localhost:8080/"
        },
        "id": "Xh4JX7chrvhx",
        "outputId": "983853e2-98e6-4f35-d457-5f717e3e15fa"
      },
      "execution_count": 54,
      "outputs": [
        {
          "output_type": "stream",
          "name": "stdout",
          "text": [
            "----------------\n",
            "bigram example 1: .a (indices 01)\n",
            "input to the neural net :  0\n",
            "output probabilities from the NN : 1\n",
            "label (actual next character): 1\n",
            "probability assigned by the NN to the correct character:  0.04521642252802849\n",
            "log likelihood:  tensor(-3.0963)\n",
            "negative log likelihood:  3.09629487991333\n",
            "----------------\n",
            "bigram example 2: ab (indices 12)\n",
            "input to the neural net :  1\n",
            "output probabilities from the NN : 2\n",
            "label (actual next character): 2\n",
            "probability assigned by the NN to the correct character:  0.006181837525218725\n",
            "log likelihood:  tensor(-5.0861)\n",
            "negative log likelihood:  5.086139678955078\n",
            "----------------\n",
            "bigram example 3: bh (indices 28)\n",
            "input to the neural net :  2\n",
            "output probabilities from the NN : 8\n",
            "label (actual next character): 8\n",
            "probability assigned by the NN to the correct character:  0.014458647929131985\n",
            "log likelihood:  tensor(-4.2365)\n",
            "negative log likelihood:  4.236462593078613\n",
            "----------------\n",
            "bigram example 4: hi (indices 89)\n",
            "input to the neural net :  8\n",
            "output probabilities from the NN : 9\n",
            "label (actual next character): 9\n",
            "probability assigned by the NN to the correct character:  0.011110897175967693\n",
            "log likelihood:  tensor(-4.4998)\n",
            "negative log likelihood:  4.499828815460205\n",
            "----------------\n",
            "bigram example 5: is (indices 919)\n",
            "input to the neural net :  9\n",
            "output probabilities from the NN : 19\n",
            "label (actual next character): 19\n",
            "probability assigned by the NN to the correct character:  0.010303382761776447\n",
            "log likelihood:  tensor(-4.5753)\n",
            "negative log likelihood:  4.575283050537109\n",
            "===========\n",
            "\n",
            " average NLL, i.e, loss =  2.388223171234131\n"
          ]
        }
      ]
    },
    {
      "cell_type": "markdown",
      "source": [
        "LOL THE LOSS INCREASED XD\n",
        "\n",
        "This was the reason why the AI ML research was stopped in the 60-70s until the entry of the state of the art **BACKPROPAGATION**"
      ],
      "metadata": {
        "id": "VohNw4Msr0Ui"
      }
    },
    {
      "cell_type": "code",
      "source": [
        "#Lets get to the best part, shall we? \n",
        "xs"
      ],
      "metadata": {
        "colab": {
          "base_uri": "https://localhost:8080/"
        },
        "id": "fPgRqasLrxpZ",
        "outputId": "6691a165-fa75-48cf-eb8b-6737d3708554"
      },
      "execution_count": 55,
      "outputs": [
        {
          "output_type": "execute_result",
          "data": {
            "text/plain": [
              "tensor([ 0,  1,  2,  8,  9, 19,  8,  5, 11])"
            ]
          },
          "metadata": {},
          "execution_count": 55
        }
      ]
    },
    {
      "cell_type": "code",
      "source": [
        "ys"
      ],
      "metadata": {
        "colab": {
          "base_uri": "https://localhost:8080/"
        },
        "id": "MERTzK-fuBFB",
        "outputId": "8d90fa2b-99be-4c38-cc08-ac1ecd7a4ec0"
      },
      "execution_count": 56,
      "outputs": [
        {
          "output_type": "execute_result",
          "data": {
            "text/plain": [
              "tensor([ 1,  2,  8,  9, 19,  8,  5, 11,  0])"
            ]
          },
          "metadata": {},
          "execution_count": 56
        }
      ]
    },
    {
      "cell_type": "code",
      "source": [
        "probs.shape"
      ],
      "metadata": {
        "colab": {
          "base_uri": "https://localhost:8080/"
        },
        "id": "WRQ9tZV2uCOA",
        "outputId": "1493d2cb-52e7-4953-e880-19f0df49be89"
      },
      "execution_count": 57,
      "outputs": [
        {
          "output_type": "execute_result",
          "data": {
            "text/plain": [
              "torch.Size([9, 27])"
            ]
          },
          "metadata": {},
          "execution_count": 57
        }
      ]
    },
    {
      "cell_type": "code",
      "source": [
        "probs[0,1], probs[1,2], probs[2,8], probs[3,9], probs[4,19], probs[5,8], probs[6,5], probs[7,11], probs[8,0]"
      ],
      "metadata": {
        "colab": {
          "base_uri": "https://localhost:8080/"
        },
        "id": "JY-DgR-zuEAx",
        "outputId": "6cf9095d-0232-453a-a386-d591d341d482"
      },
      "execution_count": 59,
      "outputs": [
        {
          "output_type": "execute_result",
          "data": {
            "text/plain": [
              "(tensor(0.0452),\n",
              " tensor(0.0062),\n",
              " tensor(0.0145),\n",
              " tensor(0.0111),\n",
              " tensor(0.0103),\n",
              " tensor(0.0186),\n",
              " tensor(0.0226),\n",
              " tensor(0.0199),\n",
              " tensor(0.0355))"
            ]
          },
          "metadata": {},
          "execution_count": 59
        }
      ]
    },
    {
      "cell_type": "markdown",
      "source": [
        "We need to make these probabilites nearing 1"
      ],
      "metadata": {
        "id": "mWaiIUmzug3S"
      }
    },
    {
      "cell_type": "code",
      "source": [
        "torch.arange(5)"
      ],
      "metadata": {
        "colab": {
          "base_uri": "https://localhost:8080/"
        },
        "id": "XRyR4-zOuaJw",
        "outputId": "6cbacfc2-501d-4a78-f5b5-75023f8d82d4"
      },
      "execution_count": 60,
      "outputs": [
        {
          "output_type": "execute_result",
          "data": {
            "text/plain": [
              "tensor([0, 1, 2, 3, 4])"
            ]
          },
          "metadata": {},
          "execution_count": 60
        }
      ]
    },
    {
      "cell_type": "code",
      "source": [
        "#To automate the above process LOL\n",
        "loss = -probs[torch.arange(9), ys].log().mean()\n",
        "loss"
      ],
      "metadata": {
        "colab": {
          "base_uri": "https://localhost:8080/"
        },
        "id": "xv9_4Of1uqgZ",
        "outputId": "0a6dade7-65bc-4247-8507-bf475f29e14f"
      },
      "execution_count": 63,
      "outputs": [
        {
          "output_type": "execute_result",
          "data": {
            "text/plain": [
              "tensor(4.0578)"
            ]
          },
          "metadata": {},
          "execution_count": 63
        }
      ]
    },
    {
      "cell_type": "markdown",
      "source": [
        "All this was done to get the loss as a vector (tensor)"
      ],
      "metadata": {
        "id": "NsbxbikXvFzw"
      }
    },
    {
      "cell_type": "code",
      "source": [
        "g = torch.Generator().manual_seed(214783647)\n",
        "W = torch.randn(size=(27,27), generator=g, requires_grad=True)"
      ],
      "metadata": {
        "id": "EJRgTTZ6wE7J"
      },
      "execution_count": 65,
      "outputs": []
    },
    {
      "cell_type": "code",
      "source": [
        "#Summarize the actual forward pass\n",
        "xenc = F.one_hot(xs, num_classes=27).float()\n",
        "logits = xenc @ W #predict the log counts\n",
        "counts = logits.exp() #Equivalent to N\n",
        "probs = counts / counts.sum() #Normalize, keep it simple\n",
        "loss = -probs[torch.arange(9), ys].log().mean() #We are using log likelihood since this is a classification problem"
      ],
      "metadata": {
        "id": "4iWo4ZbHu0ex"
      },
      "execution_count": 81,
      "outputs": []
    },
    {
      "cell_type": "code",
      "source": [
        "#backward pass\n",
        "W.grad = None #Set all the gradients to 0\n",
        "loss.backward()"
      ],
      "metadata": {
        "id": "IP1gWyomv0_h"
      },
      "execution_count": 82,
      "outputs": []
    },
    {
      "cell_type": "code",
      "source": [
        "W.grad"
      ],
      "metadata": {
        "colab": {
          "base_uri": "https://localhost:8080/"
        },
        "id": "7TxaUdAJwZ-j",
        "outputId": "0f3f78a2-6167-46ec-c6fd-c6033dd46574"
      },
      "execution_count": 83,
      "outputs": [
        {
          "output_type": "execute_result",
          "data": {
            "text/plain": [
              "tensor([[ 0.0022, -0.1106,  0.0024,  0.0037,  0.0039,  0.0021,  0.0032,  0.0030,\n",
              "          0.0053,  0.0050,  0.0009,  0.0025,  0.0029,  0.0093,  0.0125,  0.0035,\n",
              "          0.0040,  0.0036,  0.0109,  0.0061,  0.0012,  0.0064,  0.0014,  0.0102,\n",
              "          0.0065,  0.0009,  0.0005],\n",
              "        [ 0.0006,  0.0017, -0.1026,  0.0031,  0.0014,  0.0039,  0.0146,  0.0068,\n",
              "          0.0107,  0.0028,  0.0122,  0.0046,  0.0027,  0.0017,  0.0161,  0.0010,\n",
              "          0.0070,  0.0041,  0.0018,  0.0009,  0.0040,  0.0057,  0.0072,  0.0025,\n",
              "          0.0018,  0.0025,  0.0014],\n",
              "        [ 0.0004,  0.0017,  0.0055,  0.0089,  0.0024,  0.0029,  0.0010,  0.0136,\n",
              "         -0.1091,  0.0031,  0.0025,  0.0013,  0.0052,  0.0034,  0.0042,  0.0079,\n",
              "          0.0120,  0.0013,  0.0004,  0.0013,  0.0055,  0.0030,  0.0006,  0.0029,\n",
              "          0.0022,  0.0019,  0.0031],\n",
              "        [ 0.0000,  0.0000,  0.0000,  0.0000,  0.0000,  0.0000,  0.0000,  0.0000,\n",
              "          0.0000,  0.0000,  0.0000,  0.0000,  0.0000,  0.0000,  0.0000,  0.0000,\n",
              "          0.0000,  0.0000,  0.0000,  0.0000,  0.0000,  0.0000,  0.0000,  0.0000,\n",
              "          0.0000,  0.0000,  0.0000],\n",
              "        [ 0.0000,  0.0000,  0.0000,  0.0000,  0.0000,  0.0000,  0.0000,  0.0000,\n",
              "          0.0000,  0.0000,  0.0000,  0.0000,  0.0000,  0.0000,  0.0000,  0.0000,\n",
              "          0.0000,  0.0000,  0.0000,  0.0000,  0.0000,  0.0000,  0.0000,  0.0000,\n",
              "          0.0000,  0.0000,  0.0000],\n",
              "        [ 0.0298,  0.0054,  0.0016,  0.0007,  0.0051,  0.0034,  0.0035,  0.0038,\n",
              "          0.0011,  0.0065,  0.0060, -0.1096,  0.0009,  0.0055,  0.0069,  0.0323,\n",
              "          0.0032,  0.0014,  0.0005,  0.0044,  0.0145,  0.0302,  0.0027,  0.0020,\n",
              "          0.0020,  0.0012,  0.0015],\n",
              "        [ 0.0000,  0.0000,  0.0000,  0.0000,  0.0000,  0.0000,  0.0000,  0.0000,\n",
              "          0.0000,  0.0000,  0.0000,  0.0000,  0.0000,  0.0000,  0.0000,  0.0000,\n",
              "          0.0000,  0.0000,  0.0000,  0.0000,  0.0000,  0.0000,  0.0000,  0.0000,\n",
              "          0.0000,  0.0000,  0.0000],\n",
              "        [ 0.0000,  0.0000,  0.0000,  0.0000,  0.0000,  0.0000,  0.0000,  0.0000,\n",
              "          0.0000,  0.0000,  0.0000,  0.0000,  0.0000,  0.0000,  0.0000,  0.0000,\n",
              "          0.0000,  0.0000,  0.0000,  0.0000,  0.0000,  0.0000,  0.0000,  0.0000,\n",
              "          0.0000,  0.0000,  0.0000],\n",
              "        [ 0.0182,  0.0071,  0.0016,  0.0005,  0.0015, -0.1079,  0.0013,  0.0012,\n",
              "          0.0250, -0.1084,  0.0158,  0.0015,  0.0039,  0.0204,  0.0009,  0.0015,\n",
              "          0.0100,  0.0025,  0.0104,  0.0152,  0.0011,  0.0004,  0.0058,  0.0024,\n",
              "          0.0027,  0.0039,  0.0079],\n",
              "        [ 0.0007,  0.0056,  0.0061,  0.0021,  0.0020,  0.0036,  0.0010,  0.0016,\n",
              "          0.0018,  0.0082,  0.0072,  0.0007,  0.0028,  0.0015,  0.0097,  0.0009,\n",
              "          0.0023,  0.0046,  0.0039, -0.1106,  0.0118,  0.0076,  0.0021,  0.0048,\n",
              "          0.0032,  0.0014,  0.0024],\n",
              "        [ 0.0000,  0.0000,  0.0000,  0.0000,  0.0000,  0.0000,  0.0000,  0.0000,\n",
              "          0.0000,  0.0000,  0.0000,  0.0000,  0.0000,  0.0000,  0.0000,  0.0000,\n",
              "          0.0000,  0.0000,  0.0000,  0.0000,  0.0000,  0.0000,  0.0000,  0.0000,\n",
              "          0.0000,  0.0000,  0.0000],\n",
              "        [-0.0960,  0.0054,  0.0067,  0.0019,  0.0066,  0.0007,  0.0005,  0.0031,\n",
              "          0.0009,  0.0027,  0.0034,  0.0036,  0.0017,  0.0027,  0.0009,  0.0022,\n",
              "          0.0019,  0.0005,  0.0028,  0.0093,  0.0066,  0.0024,  0.0021,  0.0007,\n",
              "          0.0006,  0.0010,  0.0003],\n",
              "        [ 0.0000,  0.0000,  0.0000,  0.0000,  0.0000,  0.0000,  0.0000,  0.0000,\n",
              "          0.0000,  0.0000,  0.0000,  0.0000,  0.0000,  0.0000,  0.0000,  0.0000,\n",
              "          0.0000,  0.0000,  0.0000,  0.0000,  0.0000,  0.0000,  0.0000,  0.0000,\n",
              "          0.0000,  0.0000,  0.0000],\n",
              "        [ 0.0000,  0.0000,  0.0000,  0.0000,  0.0000,  0.0000,  0.0000,  0.0000,\n",
              "          0.0000,  0.0000,  0.0000,  0.0000,  0.0000,  0.0000,  0.0000,  0.0000,\n",
              "          0.0000,  0.0000,  0.0000,  0.0000,  0.0000,  0.0000,  0.0000,  0.0000,\n",
              "          0.0000,  0.0000,  0.0000],\n",
              "        [ 0.0000,  0.0000,  0.0000,  0.0000,  0.0000,  0.0000,  0.0000,  0.0000,\n",
              "          0.0000,  0.0000,  0.0000,  0.0000,  0.0000,  0.0000,  0.0000,  0.0000,\n",
              "          0.0000,  0.0000,  0.0000,  0.0000,  0.0000,  0.0000,  0.0000,  0.0000,\n",
              "          0.0000,  0.0000,  0.0000],\n",
              "        [ 0.0000,  0.0000,  0.0000,  0.0000,  0.0000,  0.0000,  0.0000,  0.0000,\n",
              "          0.0000,  0.0000,  0.0000,  0.0000,  0.0000,  0.0000,  0.0000,  0.0000,\n",
              "          0.0000,  0.0000,  0.0000,  0.0000,  0.0000,  0.0000,  0.0000,  0.0000,\n",
              "          0.0000,  0.0000,  0.0000],\n",
              "        [ 0.0000,  0.0000,  0.0000,  0.0000,  0.0000,  0.0000,  0.0000,  0.0000,\n",
              "          0.0000,  0.0000,  0.0000,  0.0000,  0.0000,  0.0000,  0.0000,  0.0000,\n",
              "          0.0000,  0.0000,  0.0000,  0.0000,  0.0000,  0.0000,  0.0000,  0.0000,\n",
              "          0.0000,  0.0000,  0.0000],\n",
              "        [ 0.0000,  0.0000,  0.0000,  0.0000,  0.0000,  0.0000,  0.0000,  0.0000,\n",
              "          0.0000,  0.0000,  0.0000,  0.0000,  0.0000,  0.0000,  0.0000,  0.0000,\n",
              "          0.0000,  0.0000,  0.0000,  0.0000,  0.0000,  0.0000,  0.0000,  0.0000,\n",
              "          0.0000,  0.0000,  0.0000],\n",
              "        [ 0.0000,  0.0000,  0.0000,  0.0000,  0.0000,  0.0000,  0.0000,  0.0000,\n",
              "          0.0000,  0.0000,  0.0000,  0.0000,  0.0000,  0.0000,  0.0000,  0.0000,\n",
              "          0.0000,  0.0000,  0.0000,  0.0000,  0.0000,  0.0000,  0.0000,  0.0000,\n",
              "          0.0000,  0.0000,  0.0000],\n",
              "        [ 0.0029,  0.0032,  0.0015,  0.0102,  0.0106,  0.0026,  0.0027,  0.0037,\n",
              "         -0.1090,  0.0010,  0.0004,  0.0029,  0.0019,  0.0055,  0.0033,  0.0125,\n",
              "          0.0021,  0.0045,  0.0014,  0.0004,  0.0020,  0.0008,  0.0074,  0.0068,\n",
              "          0.0136,  0.0138,  0.0009],\n",
              "        [ 0.0000,  0.0000,  0.0000,  0.0000,  0.0000,  0.0000,  0.0000,  0.0000,\n",
              "          0.0000,  0.0000,  0.0000,  0.0000,  0.0000,  0.0000,  0.0000,  0.0000,\n",
              "          0.0000,  0.0000,  0.0000,  0.0000,  0.0000,  0.0000,  0.0000,  0.0000,\n",
              "          0.0000,  0.0000,  0.0000],\n",
              "        [ 0.0000,  0.0000,  0.0000,  0.0000,  0.0000,  0.0000,  0.0000,  0.0000,\n",
              "          0.0000,  0.0000,  0.0000,  0.0000,  0.0000,  0.0000,  0.0000,  0.0000,\n",
              "          0.0000,  0.0000,  0.0000,  0.0000,  0.0000,  0.0000,  0.0000,  0.0000,\n",
              "          0.0000,  0.0000,  0.0000],\n",
              "        [ 0.0000,  0.0000,  0.0000,  0.0000,  0.0000,  0.0000,  0.0000,  0.0000,\n",
              "          0.0000,  0.0000,  0.0000,  0.0000,  0.0000,  0.0000,  0.0000,  0.0000,\n",
              "          0.0000,  0.0000,  0.0000,  0.0000,  0.0000,  0.0000,  0.0000,  0.0000,\n",
              "          0.0000,  0.0000,  0.0000],\n",
              "        [ 0.0000,  0.0000,  0.0000,  0.0000,  0.0000,  0.0000,  0.0000,  0.0000,\n",
              "          0.0000,  0.0000,  0.0000,  0.0000,  0.0000,  0.0000,  0.0000,  0.0000,\n",
              "          0.0000,  0.0000,  0.0000,  0.0000,  0.0000,  0.0000,  0.0000,  0.0000,\n",
              "          0.0000,  0.0000,  0.0000],\n",
              "        [ 0.0000,  0.0000,  0.0000,  0.0000,  0.0000,  0.0000,  0.0000,  0.0000,\n",
              "          0.0000,  0.0000,  0.0000,  0.0000,  0.0000,  0.0000,  0.0000,  0.0000,\n",
              "          0.0000,  0.0000,  0.0000,  0.0000,  0.0000,  0.0000,  0.0000,  0.0000,\n",
              "          0.0000,  0.0000,  0.0000],\n",
              "        [ 0.0000,  0.0000,  0.0000,  0.0000,  0.0000,  0.0000,  0.0000,  0.0000,\n",
              "          0.0000,  0.0000,  0.0000,  0.0000,  0.0000,  0.0000,  0.0000,  0.0000,\n",
              "          0.0000,  0.0000,  0.0000,  0.0000,  0.0000,  0.0000,  0.0000,  0.0000,\n",
              "          0.0000,  0.0000,  0.0000],\n",
              "        [ 0.0000,  0.0000,  0.0000,  0.0000,  0.0000,  0.0000,  0.0000,  0.0000,\n",
              "          0.0000,  0.0000,  0.0000,  0.0000,  0.0000,  0.0000,  0.0000,  0.0000,\n",
              "          0.0000,  0.0000,  0.0000,  0.0000,  0.0000,  0.0000,  0.0000,  0.0000,\n",
              "          0.0000,  0.0000,  0.0000]])"
            ]
          },
          "metadata": {},
          "execution_count": 83
        }
      ]
    },
    {
      "cell_type": "code",
      "source": [
        "#Update\n",
        "W.data += -0.1 * W.grad"
      ],
      "metadata": {
        "id": "8sfiFVwRwl2p"
      },
      "execution_count": 84,
      "outputs": []
    },
    {
      "cell_type": "code",
      "source": [
        "print(loss.item())"
      ],
      "metadata": {
        "colab": {
          "base_uri": "https://localhost:8080/"
        },
        "id": "aLxoebRNxOoQ",
        "outputId": "f73b3943-b262-461c-9cac-4d13144b927a"
      },
      "execution_count": 85,
      "outputs": [
        {
          "output_type": "stream",
          "name": "stdout",
          "text": [
            "6.2280707359313965\n"
          ]
        }
      ]
    },
    {
      "cell_type": "markdown",
      "source": [
        "Go to forward pass and rerun the cells again and again to reduce the loss"
      ],
      "metadata": {
        "id": "3SfmzhL8xc4w"
      }
    },
    {
      "cell_type": "code",
      "source": [
        "#Lets do it all under one hood\n",
        "#Create the dataset\n",
        "xs, ys = [], []\n",
        "for w in words[:1]:\n",
        "  chs = ['.'] + list(w) + ['.']\n",
        "  for ch1, ch2 in zip(chs, chs[1:]):\n",
        "    ix1 = stoi[ch1]\n",
        "    ix2 = stoi[ch2]\n",
        "    xs.append(ix1)\n",
        "    ys.append(ix2)\n",
        "xs = torch.tensor(xs)\n",
        "ys = torch.tensor(ys)\n",
        "num = xs.nelement()\n",
        "print('number of examples:', num)\n",
        "\n",
        "#initialize the network\n",
        "g = torch.Generator().manual_seed(2147483647)\n",
        "W = torch.randn(size = (27,27), generator=g, requires_grad=True)"
      ],
      "metadata": {
        "colab": {
          "base_uri": "https://localhost:8080/"
        },
        "id": "HkMZXNYmxqQo",
        "outputId": "7074bc60-ce2f-4ede-e0c1-e310b4bd0b64"
      },
      "execution_count": 99,
      "outputs": [
        {
          "output_type": "stream",
          "name": "stdout",
          "text": [
            "number of examples: 9\n"
          ]
        }
      ]
    },
    {
      "cell_type": "code",
      "source": [
        "#Gradient descent\n",
        "for k in range(15):\n",
        "  #forward pass\n",
        "  xenc = F.one_hot(xs, num_classes=27).float()\n",
        "  logits = xenc @ W\n",
        "  counts = logits.exp()\n",
        "  probs = counts/ counts.sum()\n",
        "  loss = -probs[torch.arange(num), ys].log().mean()\n",
        "  print(f'the loss at {k} step is {loss.item()}')\n",
        "\n",
        "  #backward pass\n",
        "  W.grad = None #important\n",
        "  loss.backward()\n",
        "  \n",
        "  #Update\n",
        "  W.data += -10*W.grad #10 is the learning rate here"
      ],
      "metadata": {
        "colab": {
          "base_uri": "https://localhost:8080/"
        },
        "id": "Fft5R2ZQzCXI",
        "outputId": "4c253793-4cbd-4eb0-c3cf-babf76cf1994"
      },
      "execution_count": 97,
      "outputs": [
        {
          "output_type": "stream",
          "name": "stdout",
          "text": [
            "the loss at 0 step is 6.341227054595947\n",
            "the loss at 1 step is 5.193906784057617\n",
            "the loss at 2 step is 4.212194919586182\n",
            "the loss at 3 step is 3.488476037979126\n",
            "the loss at 4 step is 3.0384695529937744\n",
            "the loss at 5 step is 2.7887325286865234\n",
            "the loss at 6 step is 2.655380964279175\n",
            "the loss at 7 step is 2.581505060195923\n",
            "the loss at 8 step is 2.535784959793091\n",
            "the loss at 9 step is 2.5047290325164795\n",
            "the loss at 10 step is 2.4823598861694336\n",
            "the loss at 11 step is 2.4655416011810303\n",
            "the loss at 12 step is 2.452465772628784\n",
            "the loss at 13 step is 2.442023515701294\n",
            "the loss at 14 step is 2.4335014820098877\n"
          ]
        }
      ]
    },
    {
      "cell_type": "code",
      "source": [
        "W.grad"
      ],
      "metadata": {
        "colab": {
          "base_uri": "https://localhost:8080/"
        },
        "id": "1R0WKqfBzukQ",
        "outputId": "36d1a5dc-1103-4624-ce94-45d5abde78e8"
      },
      "execution_count": 98,
      "outputs": [
        {
          "output_type": "execute_result",
          "data": {
            "text/plain": [
              "tensor([[ 8.3235e-04, -8.7726e-03,  2.6580e-04,  1.0021e-04,  3.4544e-04,\n",
              "          2.6529e-04,  6.5383e-05,  4.4408e-04,  2.9101e-04,  5.5258e-04,\n",
              "          1.7967e-04,  5.0821e-04,  2.0425e-04,  1.8599e-04,  7.4665e-04,\n",
              "          1.3375e-03,  8.2988e-04,  6.0577e-05,  4.6889e-04,  1.2799e-04,\n",
              "          5.8399e-04,  2.3939e-04,  6.9783e-05,  3.9343e-04,  2.5607e-04,\n",
              "          1.2124e-03,  1.1945e-03],\n",
              "        [ 1.4986e-04,  8.9490e-05, -8.7726e-03,  1.0293e-04,  4.8674e-04,\n",
              "          2.8420e-04,  7.1909e-04,  1.3262e-04,  1.2680e-04,  5.0831e-05,\n",
              "          6.9451e-04,  8.9006e-05,  6.7926e-04,  1.1392e-04,  2.2245e-04,\n",
              "          2.0078e-04,  3.5872e-04,  8.0846e-05,  6.3982e-04,  4.4123e-04,\n",
              "          3.9658e-04,  2.8490e-04,  5.4238e-05,  3.0008e-04,  5.1425e-04,\n",
              "          4.2292e-04,  9.4320e-05],\n",
              "        [ 3.0821e-04,  1.1015e-04,  3.7271e-04,  4.0122e-04,  1.1990e-04,\n",
              "          1.3500e-04,  3.0501e-04,  2.2650e-04, -8.7726e-03,  6.6039e-05,\n",
              "          5.6530e-04,  1.2299e-04,  9.1133e-04,  1.0771e-03,  1.2612e-04,\n",
              "          4.2284e-04,  4.4814e-04,  8.0957e-04,  1.0566e-04,  1.5068e-04,\n",
              "          1.4260e-04,  9.1354e-04,  3.1541e-04,  5.8713e-04,  1.5578e-04,\n",
              "          2.9050e-04,  9.4370e-05],\n",
              "        [ 0.0000e+00,  0.0000e+00,  0.0000e+00,  0.0000e+00,  0.0000e+00,\n",
              "          0.0000e+00,  0.0000e+00,  0.0000e+00,  0.0000e+00,  0.0000e+00,\n",
              "          0.0000e+00,  0.0000e+00,  0.0000e+00,  0.0000e+00,  0.0000e+00,\n",
              "          0.0000e+00,  0.0000e+00,  0.0000e+00,  0.0000e+00,  0.0000e+00,\n",
              "          0.0000e+00,  0.0000e+00,  0.0000e+00,  0.0000e+00,  0.0000e+00,\n",
              "          0.0000e+00,  0.0000e+00],\n",
              "        [ 0.0000e+00,  0.0000e+00,  0.0000e+00,  0.0000e+00,  0.0000e+00,\n",
              "          0.0000e+00,  0.0000e+00,  0.0000e+00,  0.0000e+00,  0.0000e+00,\n",
              "          0.0000e+00,  0.0000e+00,  0.0000e+00,  0.0000e+00,  0.0000e+00,\n",
              "          0.0000e+00,  0.0000e+00,  0.0000e+00,  0.0000e+00,  0.0000e+00,\n",
              "          0.0000e+00,  0.0000e+00,  0.0000e+00,  0.0000e+00,  0.0000e+00,\n",
              "          0.0000e+00,  0.0000e+00],\n",
              "        [ 4.0093e-04,  7.9498e-04,  3.5441e-04,  6.1370e-04,  1.1780e-03,\n",
              "          3.9965e-04,  1.5174e-04,  4.4805e-04,  1.5663e-04,  4.1290e-04,\n",
              "          7.3940e-04, -8.7726e-03,  1.8219e-04,  2.7180e-04,  1.7322e-04,\n",
              "          4.2771e-04,  4.0163e-04,  7.6298e-05,  8.5700e-04,  3.1454e-04,\n",
              "          5.8541e-04,  4.1177e-04,  5.9795e-04,  4.6135e-05,  1.8690e-04,\n",
              "          3.7217e-05,  5.7431e-04],\n",
              "        [ 0.0000e+00,  0.0000e+00,  0.0000e+00,  0.0000e+00,  0.0000e+00,\n",
              "          0.0000e+00,  0.0000e+00,  0.0000e+00,  0.0000e+00,  0.0000e+00,\n",
              "          0.0000e+00,  0.0000e+00,  0.0000e+00,  0.0000e+00,  0.0000e+00,\n",
              "          0.0000e+00,  0.0000e+00,  0.0000e+00,  0.0000e+00,  0.0000e+00,\n",
              "          0.0000e+00,  0.0000e+00,  0.0000e+00,  0.0000e+00,  0.0000e+00,\n",
              "          0.0000e+00,  0.0000e+00],\n",
              "        [ 0.0000e+00,  0.0000e+00,  0.0000e+00,  0.0000e+00,  0.0000e+00,\n",
              "          0.0000e+00,  0.0000e+00,  0.0000e+00,  0.0000e+00,  0.0000e+00,\n",
              "          0.0000e+00,  0.0000e+00,  0.0000e+00,  0.0000e+00,  0.0000e+00,\n",
              "          0.0000e+00,  0.0000e+00,  0.0000e+00,  0.0000e+00,  0.0000e+00,\n",
              "          0.0000e+00,  0.0000e+00,  0.0000e+00,  0.0000e+00,  0.0000e+00,\n",
              "          0.0000e+00,  0.0000e+00],\n",
              "        [ 7.5815e-04,  4.0974e-04,  9.9073e-04,  6.0051e-04,  1.0304e-03,\n",
              "         -8.7726e-03,  2.3981e-04,  5.4470e-04,  2.6649e-04, -8.7726e-03,\n",
              "          1.6560e-04,  9.7869e-04,  1.0845e-04,  3.2625e-04,  1.9866e-04,\n",
              "          4.2567e-04,  3.8344e-04,  9.5990e-04,  2.7774e-04,  7.3332e-04,\n",
              "          7.0448e-04,  1.2522e-03,  3.5361e-04,  4.7731e-04,  6.7390e-04,\n",
              "          7.8151e-04,  1.1932e-04],\n",
              "        [ 2.3684e-04,  7.4903e-04,  2.1360e-04,  3.2383e-04,  5.9130e-04,\n",
              "          1.6015e-04,  1.9198e-04,  8.4493e-05,  2.9430e-04,  2.9749e-04,\n",
              "          1.9319e-04,  1.9143e-04,  4.3088e-04,  6.7993e-05,  7.1062e-04,\n",
              "          6.7761e-05,  6.2768e-04,  6.2221e-04,  2.5257e-04, -8.7726e-03,\n",
              "          3.0931e-04,  3.3460e-04,  3.5483e-04,  1.1166e-04,  2.2606e-04,\n",
              "          2.5749e-04,  1.2622e-04],\n",
              "        [ 0.0000e+00,  0.0000e+00,  0.0000e+00,  0.0000e+00,  0.0000e+00,\n",
              "          0.0000e+00,  0.0000e+00,  0.0000e+00,  0.0000e+00,  0.0000e+00,\n",
              "          0.0000e+00,  0.0000e+00,  0.0000e+00,  0.0000e+00,  0.0000e+00,\n",
              "          0.0000e+00,  0.0000e+00,  0.0000e+00,  0.0000e+00,  0.0000e+00,\n",
              "          0.0000e+00,  0.0000e+00,  0.0000e+00,  0.0000e+00,  0.0000e+00,\n",
              "          0.0000e+00,  0.0000e+00],\n",
              "        [-8.7726e-03,  3.7253e-04,  5.2658e-05,  9.0464e-05,  5.6933e-04,\n",
              "          1.1953e-04,  4.8054e-04,  5.1126e-04,  4.3462e-04,  1.4078e-04,\n",
              "          6.6703e-05,  4.8107e-04,  7.6095e-04,  1.9049e-04,  1.3966e-04,\n",
              "          4.0901e-04,  2.9942e-04,  1.8842e-04,  3.1640e-04,  3.3131e-04,\n",
              "          4.8942e-04,  1.5752e-04,  4.7857e-04,  3.0026e-04,  3.4481e-04,\n",
              "          2.5649e-05,  1.7201e-04],\n",
              "        [ 0.0000e+00,  0.0000e+00,  0.0000e+00,  0.0000e+00,  0.0000e+00,\n",
              "          0.0000e+00,  0.0000e+00,  0.0000e+00,  0.0000e+00,  0.0000e+00,\n",
              "          0.0000e+00,  0.0000e+00,  0.0000e+00,  0.0000e+00,  0.0000e+00,\n",
              "          0.0000e+00,  0.0000e+00,  0.0000e+00,  0.0000e+00,  0.0000e+00,\n",
              "          0.0000e+00,  0.0000e+00,  0.0000e+00,  0.0000e+00,  0.0000e+00,\n",
              "          0.0000e+00,  0.0000e+00],\n",
              "        [ 0.0000e+00,  0.0000e+00,  0.0000e+00,  0.0000e+00,  0.0000e+00,\n",
              "          0.0000e+00,  0.0000e+00,  0.0000e+00,  0.0000e+00,  0.0000e+00,\n",
              "          0.0000e+00,  0.0000e+00,  0.0000e+00,  0.0000e+00,  0.0000e+00,\n",
              "          0.0000e+00,  0.0000e+00,  0.0000e+00,  0.0000e+00,  0.0000e+00,\n",
              "          0.0000e+00,  0.0000e+00,  0.0000e+00,  0.0000e+00,  0.0000e+00,\n",
              "          0.0000e+00,  0.0000e+00],\n",
              "        [ 0.0000e+00,  0.0000e+00,  0.0000e+00,  0.0000e+00,  0.0000e+00,\n",
              "          0.0000e+00,  0.0000e+00,  0.0000e+00,  0.0000e+00,  0.0000e+00,\n",
              "          0.0000e+00,  0.0000e+00,  0.0000e+00,  0.0000e+00,  0.0000e+00,\n",
              "          0.0000e+00,  0.0000e+00,  0.0000e+00,  0.0000e+00,  0.0000e+00,\n",
              "          0.0000e+00,  0.0000e+00,  0.0000e+00,  0.0000e+00,  0.0000e+00,\n",
              "          0.0000e+00,  0.0000e+00],\n",
              "        [ 0.0000e+00,  0.0000e+00,  0.0000e+00,  0.0000e+00,  0.0000e+00,\n",
              "          0.0000e+00,  0.0000e+00,  0.0000e+00,  0.0000e+00,  0.0000e+00,\n",
              "          0.0000e+00,  0.0000e+00,  0.0000e+00,  0.0000e+00,  0.0000e+00,\n",
              "          0.0000e+00,  0.0000e+00,  0.0000e+00,  0.0000e+00,  0.0000e+00,\n",
              "          0.0000e+00,  0.0000e+00,  0.0000e+00,  0.0000e+00,  0.0000e+00,\n",
              "          0.0000e+00,  0.0000e+00],\n",
              "        [ 0.0000e+00,  0.0000e+00,  0.0000e+00,  0.0000e+00,  0.0000e+00,\n",
              "          0.0000e+00,  0.0000e+00,  0.0000e+00,  0.0000e+00,  0.0000e+00,\n",
              "          0.0000e+00,  0.0000e+00,  0.0000e+00,  0.0000e+00,  0.0000e+00,\n",
              "          0.0000e+00,  0.0000e+00,  0.0000e+00,  0.0000e+00,  0.0000e+00,\n",
              "          0.0000e+00,  0.0000e+00,  0.0000e+00,  0.0000e+00,  0.0000e+00,\n",
              "          0.0000e+00,  0.0000e+00],\n",
              "        [ 0.0000e+00,  0.0000e+00,  0.0000e+00,  0.0000e+00,  0.0000e+00,\n",
              "          0.0000e+00,  0.0000e+00,  0.0000e+00,  0.0000e+00,  0.0000e+00,\n",
              "          0.0000e+00,  0.0000e+00,  0.0000e+00,  0.0000e+00,  0.0000e+00,\n",
              "          0.0000e+00,  0.0000e+00,  0.0000e+00,  0.0000e+00,  0.0000e+00,\n",
              "          0.0000e+00,  0.0000e+00,  0.0000e+00,  0.0000e+00,  0.0000e+00,\n",
              "          0.0000e+00,  0.0000e+00],\n",
              "        [ 0.0000e+00,  0.0000e+00,  0.0000e+00,  0.0000e+00,  0.0000e+00,\n",
              "          0.0000e+00,  0.0000e+00,  0.0000e+00,  0.0000e+00,  0.0000e+00,\n",
              "          0.0000e+00,  0.0000e+00,  0.0000e+00,  0.0000e+00,  0.0000e+00,\n",
              "          0.0000e+00,  0.0000e+00,  0.0000e+00,  0.0000e+00,  0.0000e+00,\n",
              "          0.0000e+00,  0.0000e+00,  0.0000e+00,  0.0000e+00,  0.0000e+00,\n",
              "          0.0000e+00,  0.0000e+00],\n",
              "        [ 1.5570e-04,  1.8440e-04,  4.3205e-04,  7.0653e-04,  1.6667e-04,\n",
              "          6.3794e-04,  1.5974e-04,  1.6184e-04, -8.7726e-03,  4.2059e-04,\n",
              "          1.1085e-04,  5.6407e-05,  9.5102e-04,  3.8478e-04,  1.4750e-04,\n",
              "          2.0025e-04,  4.9695e-04,  1.1701e-04,  2.5313e-04,  5.9987e-05,\n",
              "          5.9896e-04,  6.1959e-04,  1.6358e-04,  2.8385e-04,  4.8537e-04,\n",
              "          4.4158e-04,  1.2754e-03],\n",
              "        [ 0.0000e+00,  0.0000e+00,  0.0000e+00,  0.0000e+00,  0.0000e+00,\n",
              "          0.0000e+00,  0.0000e+00,  0.0000e+00,  0.0000e+00,  0.0000e+00,\n",
              "          0.0000e+00,  0.0000e+00,  0.0000e+00,  0.0000e+00,  0.0000e+00,\n",
              "          0.0000e+00,  0.0000e+00,  0.0000e+00,  0.0000e+00,  0.0000e+00,\n",
              "          0.0000e+00,  0.0000e+00,  0.0000e+00,  0.0000e+00,  0.0000e+00,\n",
              "          0.0000e+00,  0.0000e+00],\n",
              "        [ 0.0000e+00,  0.0000e+00,  0.0000e+00,  0.0000e+00,  0.0000e+00,\n",
              "          0.0000e+00,  0.0000e+00,  0.0000e+00,  0.0000e+00,  0.0000e+00,\n",
              "          0.0000e+00,  0.0000e+00,  0.0000e+00,  0.0000e+00,  0.0000e+00,\n",
              "          0.0000e+00,  0.0000e+00,  0.0000e+00,  0.0000e+00,  0.0000e+00,\n",
              "          0.0000e+00,  0.0000e+00,  0.0000e+00,  0.0000e+00,  0.0000e+00,\n",
              "          0.0000e+00,  0.0000e+00],\n",
              "        [ 0.0000e+00,  0.0000e+00,  0.0000e+00,  0.0000e+00,  0.0000e+00,\n",
              "          0.0000e+00,  0.0000e+00,  0.0000e+00,  0.0000e+00,  0.0000e+00,\n",
              "          0.0000e+00,  0.0000e+00,  0.0000e+00,  0.0000e+00,  0.0000e+00,\n",
              "          0.0000e+00,  0.0000e+00,  0.0000e+00,  0.0000e+00,  0.0000e+00,\n",
              "          0.0000e+00,  0.0000e+00,  0.0000e+00,  0.0000e+00,  0.0000e+00,\n",
              "          0.0000e+00,  0.0000e+00],\n",
              "        [ 0.0000e+00,  0.0000e+00,  0.0000e+00,  0.0000e+00,  0.0000e+00,\n",
              "          0.0000e+00,  0.0000e+00,  0.0000e+00,  0.0000e+00,  0.0000e+00,\n",
              "          0.0000e+00,  0.0000e+00,  0.0000e+00,  0.0000e+00,  0.0000e+00,\n",
              "          0.0000e+00,  0.0000e+00,  0.0000e+00,  0.0000e+00,  0.0000e+00,\n",
              "          0.0000e+00,  0.0000e+00,  0.0000e+00,  0.0000e+00,  0.0000e+00,\n",
              "          0.0000e+00,  0.0000e+00],\n",
              "        [ 0.0000e+00,  0.0000e+00,  0.0000e+00,  0.0000e+00,  0.0000e+00,\n",
              "          0.0000e+00,  0.0000e+00,  0.0000e+00,  0.0000e+00,  0.0000e+00,\n",
              "          0.0000e+00,  0.0000e+00,  0.0000e+00,  0.0000e+00,  0.0000e+00,\n",
              "          0.0000e+00,  0.0000e+00,  0.0000e+00,  0.0000e+00,  0.0000e+00,\n",
              "          0.0000e+00,  0.0000e+00,  0.0000e+00,  0.0000e+00,  0.0000e+00,\n",
              "          0.0000e+00,  0.0000e+00],\n",
              "        [ 0.0000e+00,  0.0000e+00,  0.0000e+00,  0.0000e+00,  0.0000e+00,\n",
              "          0.0000e+00,  0.0000e+00,  0.0000e+00,  0.0000e+00,  0.0000e+00,\n",
              "          0.0000e+00,  0.0000e+00,  0.0000e+00,  0.0000e+00,  0.0000e+00,\n",
              "          0.0000e+00,  0.0000e+00,  0.0000e+00,  0.0000e+00,  0.0000e+00,\n",
              "          0.0000e+00,  0.0000e+00,  0.0000e+00,  0.0000e+00,  0.0000e+00,\n",
              "          0.0000e+00,  0.0000e+00],\n",
              "        [ 0.0000e+00,  0.0000e+00,  0.0000e+00,  0.0000e+00,  0.0000e+00,\n",
              "          0.0000e+00,  0.0000e+00,  0.0000e+00,  0.0000e+00,  0.0000e+00,\n",
              "          0.0000e+00,  0.0000e+00,  0.0000e+00,  0.0000e+00,  0.0000e+00,\n",
              "          0.0000e+00,  0.0000e+00,  0.0000e+00,  0.0000e+00,  0.0000e+00,\n",
              "          0.0000e+00,  0.0000e+00,  0.0000e+00,  0.0000e+00,  0.0000e+00,\n",
              "          0.0000e+00,  0.0000e+00]])"
            ]
          },
          "metadata": {},
          "execution_count": 98
        }
      ]
    },
    {
      "cell_type": "code",
      "source": [
        "#Gradient descent with regularization\n",
        "for k in range(15):\n",
        "  #forward pass\n",
        "  xenc = F.one_hot(xs, num_classes=27).float()\n",
        "  logits = xenc @ W\n",
        "  counts = logits.exp()\n",
        "  probs = counts/ counts.sum()\n",
        "  loss = -probs[torch.arange(num), ys].log().mean() + 0.01*(W**2).mean() #Added a regularization term\n",
        "  print(f'the loss at {k} step is {loss.item()}')\n",
        "\n",
        "  #backward pass\n",
        "  W.grad = None #important\n",
        "  loss.backward()\n",
        "  \n",
        "  #Update\n",
        "  W.data += -10*W.grad #10 is the learning rate here"
      ],
      "metadata": {
        "colab": {
          "base_uri": "https://localhost:8080/"
        },
        "id": "pt_7_NSq1ws3",
        "outputId": "91e22f54-8700-437c-d913-2f889f47aec3"
      },
      "execution_count": 100,
      "outputs": [
        {
          "output_type": "stream",
          "name": "stdout",
          "text": [
            "the loss at 0 step is 6.350892066955566\n",
            "the loss at 1 step is 5.203017711639404\n",
            "the loss at 2 step is 4.221444606781006\n",
            "the loss at 3 step is 3.498286724090576\n",
            "the loss at 4 step is 3.0489368438720703\n",
            "the loss at 5 step is 2.7997617721557617\n",
            "the loss at 6 step is 2.666842222213745\n",
            "the loss at 7 step is 2.5932905673980713\n",
            "the loss at 8 step is 2.547830820083618\n",
            "the loss at 9 step is 2.5169947147369385\n",
            "the loss at 10 step is 2.4948184490203857\n",
            "the loss at 11 step is 2.4781696796417236\n",
            "the loss at 12 step is 2.46524715423584\n",
            "the loss at 13 step is 2.454944372177124\n",
            "the loss at 14 step is 2.446550130844116\n"
          ]
        }
      ]
    },
    {
      "cell_type": "markdown",
      "source": [
        "**Sampling from the Neural Net**"
      ],
      "metadata": {
        "id": "Jfmc7jQG3Md4"
      }
    },
    {
      "cell_type": "code",
      "source": [
        "g = torch.Generator().manual_seed(2147483647)\n",
        "\n",
        "for i in range(9):\n",
        "  out = []\n",
        "  ix = 0\n",
        "  while True:\n",
        "    #---------\n",
        "    #BEFORE:\n",
        "    #p = P[ix]\n",
        "    #---------\n",
        "    #Now:\n",
        "    xenc = F.one_hot(torch.tensor([ix]), num_classes=27).float()\n",
        "    logits = xenc @ W\n",
        "    counts = logits.exp()\n",
        "    p = counts/ counts.sum(1, keepdims=True)\n",
        "    #---------\n",
        "\n",
        "    ix = torch.multinomial(p, num_samples=1, replacement=True, generator=g).item()\n",
        "    out.append(itos[ix])\n",
        "    if ix == 0:\n",
        "      break\n",
        "  print(''.join(out))"
      ],
      "metadata": {
        "colab": {
          "base_uri": "https://localhost:8080/"
        },
        "id": "wQ-_bwZw2ypg",
        "outputId": "7ada84d3-7edd-42ea-d707-6d669b5b38d2"
      },
      "execution_count": 107,
      "outputs": [
        {
          "output_type": "stream",
          "name": "stdout",
          "text": [
            "abhek.\n",
            "bhishishisxrhishishishisheclplxqvydushek.\n",
            "abhishek.\n",
            "abhek.\n",
            "abhishishek.\n",
            "rzqw.\n",
            "abhibhek.\n",
            "tshek.\n",
            "abhishishishiabhek.\n"
          ]
        }
      ]
    },
    {
      "cell_type": "code",
      "source": [],
      "metadata": {
        "id": "0OSqGEVA4YOI"
      },
      "execution_count": null,
      "outputs": []
    }
  ]
}