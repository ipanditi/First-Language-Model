{
  "nbformat": 4,
  "nbformat_minor": 0,
  "metadata": {
    "colab": {
      "provenance": [],
      "collapsed_sections": [],
      "authorship_tag": "ABX9TyPDJJe3DZH22yqr6EgvVQ8p",
      "include_colab_link": true
    },
    "kernelspec": {
      "name": "python3",
      "display_name": "Python 3"
    },
    "language_info": {
      "name": "python"
    }
  },
  "cells": [
    {
      "cell_type": "markdown",
      "metadata": {
        "id": "view-in-github",
        "colab_type": "text"
      },
      "source": [
        "<a href=\"https://colab.research.google.com/github/ipanditi/First-Language-Model/blob/main/MLP_Language_Model.ipynb\" target=\"_parent\"><img src=\"https://colab.research.google.com/assets/colab-badge.svg\" alt=\"Open In Colab\"/></a>"
      ]
    },
    {
      "cell_type": "markdown",
      "source": [
        "**Implementing Multi-Layer Perceptron for a dataset comprising 17000 words using n-gram model (n upto 5) that is with max. of 4 context words**\n",
        "\n",
        "Citing : [link text](https://jmlr.org/papers/volume3/bengio03a/bengio03a.pdf)"
      ],
      "metadata": {
        "id": "Nfi7huFsvHqm"
      }
    },
    {
      "cell_type": "code",
      "execution_count": 1,
      "metadata": {
        "id": "X7Wf2DPds7Ls"
      },
      "outputs": [],
      "source": [
        "#import modules\n",
        "import torch\n",
        "import torch.nn.functional as F #Neural Net\n",
        "import matplotlib.pyplot as plt\n",
        "%matplotlib inline"
      ]
    },
    {
      "cell_type": "code",
      "source": [
        "#Read the dataset names.txt that is uploaded\n",
        "words = open('names.txt', 'r').read().splitlines()\n",
        "words[:8]"
      ],
      "metadata": {
        "colab": {
          "base_uri": "https://localhost:8080/"
        },
        "id": "Jak7tkeev2Jv",
        "outputId": "e37409e0-06ba-4523-eaa5-0d5beeb0178e"
      },
      "execution_count": 2,
      "outputs": [
        {
          "output_type": "execute_result",
          "data": {
            "text/plain": [
              "['emma', 'olivia', 'ava', 'isabella', 'sophia', 'charlotte', 'mia', 'amelia']"
            ]
          },
          "metadata": {},
          "execution_count": 2
        }
      ]
    },
    {
      "cell_type": "code",
      "source": [
        "len(words)"
      ],
      "metadata": {
        "colab": {
          "base_uri": "https://localhost:8080/"
        },
        "id": "44jgo3kYwui-",
        "outputId": "04153171-b2d1-4335-db92-431a11b84e80"
      },
      "execution_count": 3,
      "outputs": [
        {
          "output_type": "execute_result",
          "data": {
            "text/plain": [
              "32033"
            ]
          },
          "metadata": {},
          "execution_count": 3
        }
      ]
    },
    {
      "cell_type": "code",
      "source": [
        "#Build the vocabulary of characters and mappings to/from integers that is stoi and itos\n",
        "chars = sorted(list(set(''.join(words))))\n",
        "stoi = {s: i+1 for i,s in enumerate(chars)}\n",
        "stoi['.']  = 0\n",
        "itos = {i:s for s,i in stoi.items()}\n",
        "print(itos)"
      ],
      "metadata": {
        "colab": {
          "base_uri": "https://localhost:8080/"
        },
        "id": "9d0Sw6XfwwHH",
        "outputId": "af3bffdd-290a-4bc6-f042-e78d94d62fa0"
      },
      "execution_count": 4,
      "outputs": [
        {
          "output_type": "stream",
          "name": "stdout",
          "text": [
            "{1: 'a', 2: 'b', 3: 'c', 4: 'd', 5: 'e', 6: 'f', 7: 'g', 8: 'h', 9: 'i', 10: 'j', 11: 'k', 12: 'l', 13: 'm', 14: 'n', 15: 'o', 16: 'p', 17: 'q', 18: 'r', 19: 's', 20: 't', 21: 'u', 22: 'v', 23: 'w', 24: 'x', 25: 'y', 26: 'z', 0: '.'}\n"
          ]
        }
      ]
    },
    {
      "cell_type": "code",
      "source": [
        "#Build the dataset\n",
        "block_size = 3 #trigram model\n",
        "X, Y = [], []\n",
        "for w in words:\n",
        "  #print(w)\n",
        "  context = [0] * block_size\n",
        "  for ch in w + '.':\n",
        "    ix = stoi[ch]\n",
        "    X.append(context)\n",
        "    Y.append(ix)\n",
        "    #print(''.join(itos[i] for i in context), '----->', itos[ix])\n",
        "    context = context[1:] + [ix] #Crop and append\n",
        "#Convert lists to tensor for better mathematical manipulations\n",
        "X = torch.tensor(X) \n",
        "Y = torch.tensor(Y)"
      ],
      "metadata": {
        "id": "kIPw6UMfxN7u"
      },
      "execution_count": 76,
      "outputs": []
    },
    {
      "cell_type": "code",
      "source": [
        "X.shape, X.dtype, Y.shape, Y.dtype"
      ],
      "metadata": {
        "colab": {
          "base_uri": "https://localhost:8080/"
        },
        "id": "8y68BBqpyKc3",
        "outputId": "3fcb83bc-aeb0-4fae-d91b-17bf0b5034db"
      },
      "execution_count": 77,
      "outputs": [
        {
          "output_type": "execute_result",
          "data": {
            "text/plain": [
              "(torch.Size([228146, 3]), torch.int64, torch.Size([228146]), torch.int64)"
            ]
          },
          "metadata": {},
          "execution_count": 77
        }
      ]
    },
    {
      "cell_type": "code",
      "source": [
        "#build the dataset with splitting into train, dev, test \n",
        "\n",
        "def build_dataset(words):\n",
        "  block_size = 3 #trigram model\n",
        "  X, Y = [], []\n",
        "  for w in words:\n",
        "    #print(w)\n",
        "    context = [0] * block_size\n",
        "    for ch in w + '.':\n",
        "      ix = stoi[ch]\n",
        "      X.append(context)\n",
        "      Y.append(ix)\n",
        "      #print(''.join(itos[i] for i in context), '----->', itos[ix])\n",
        "      context = context[1:] + [ix] #Crop and append\n",
        "  #Convert lists to tensor for better mathematical manipulations\n",
        "  X = torch.tensor(X) \n",
        "  Y = torch.tensor(Y)\n",
        "  print(X.shape, Y.shape)\n",
        "  return X, Y\n",
        "\n",
        "import random\n",
        "random.seed(42)\n",
        "random.shuffle(words) #shuffle the words\n",
        "#define the split ratios\n",
        "n1 = int(0.8*len(words)) \n",
        "n2 = int(0.9*len(words))\n",
        "\n",
        "Xtr, Ytr = build_dataset(words[:n1])\n",
        "Xdev, Ydev = build_dataset(words[n1:n2])\n",
        "Xte, Yte = build_dataset(words[n2:])"
      ],
      "metadata": {
        "colab": {
          "base_uri": "https://localhost:8080/"
        },
        "id": "X4269KcrfTQ2",
        "outputId": "e5525a33-3e4b-4b88-a91f-59653656e948"
      },
      "execution_count": 144,
      "outputs": [
        {
          "output_type": "stream",
          "name": "stdout",
          "text": [
            "torch.Size([182625, 3]) torch.Size([182625])\n",
            "torch.Size([22655, 3]) torch.Size([22655])\n",
            "torch.Size([22866, 3]) torch.Size([22866])\n"
          ]
        }
      ]
    },
    {
      "cell_type": "code",
      "source": [
        "#The Lookup table\n",
        "C = torch.randn(size = (27, 2)) #For 2 Dimensions to start with\n",
        "C"
      ],
      "metadata": {
        "colab": {
          "base_uri": "https://localhost:8080/"
        },
        "id": "BrT1kWTIy2BO",
        "outputId": "fb20953a-80e8-4276-9f12-4d378fe5c0d7"
      },
      "execution_count": 78,
      "outputs": [
        {
          "output_type": "execute_result",
          "data": {
            "text/plain": [
              "tensor([[-0.7872, -0.9899],\n",
              "        [ 0.9569, -0.2821],\n",
              "        [-1.4482, -1.1168],\n",
              "        [ 1.6477, -2.3975],\n",
              "        [ 1.4547, -0.2418],\n",
              "        [ 0.5566,  1.1038],\n",
              "        [ 1.5440,  1.0555],\n",
              "        [-1.2984, -0.1236],\n",
              "        [ 0.4210,  1.9507],\n",
              "        [-1.2860, -0.8402],\n",
              "        [-0.7276,  0.5507],\n",
              "        [ 0.4952, -0.8904],\n",
              "        [ 0.8063, -1.0262],\n",
              "        [-0.1337, -1.8445],\n",
              "        [-0.2556,  0.0621],\n",
              "        [-0.8917,  1.0852],\n",
              "        [ 0.1634,  0.0369],\n",
              "        [ 0.3101, -2.0099],\n",
              "        [-0.2294, -0.4149],\n",
              "        [ 2.5116, -0.9048],\n",
              "        [ 0.7199,  0.2209],\n",
              "        [ 0.6134, -0.9499],\n",
              "        [ 1.5843, -1.2671],\n",
              "        [-1.2594, -0.2633],\n",
              "        [-0.5201,  0.0832],\n",
              "        [ 0.7872,  1.8268],\n",
              "        [ 0.6802,  1.5113]])"
            ]
          },
          "metadata": {},
          "execution_count": 78
        }
      ]
    },
    {
      "cell_type": "code",
      "source": [
        "C[5]"
      ],
      "metadata": {
        "colab": {
          "base_uri": "https://localhost:8080/"
        },
        "id": "t5vmFTvjzI-H",
        "outputId": "730cd53a-29f0-46ad-eb2e-804b4b36310f"
      },
      "execution_count": 79,
      "outputs": [
        {
          "output_type": "execute_result",
          "data": {
            "text/plain": [
              "tensor([0.5566, 1.1038])"
            ]
          },
          "metadata": {},
          "execution_count": 79
        }
      ]
    },
    {
      "cell_type": "code",
      "source": [
        "f = F.one_hot(torch.tensor(5), num_classes=27).float()\n",
        "f"
      ],
      "metadata": {
        "colab": {
          "base_uri": "https://localhost:8080/"
        },
        "id": "wqVGXu_zzmq1",
        "outputId": "7a4eed6e-5e1d-411f-9823-f411d9ffe5b5"
      },
      "execution_count": 80,
      "outputs": [
        {
          "output_type": "execute_result",
          "data": {
            "text/plain": [
              "tensor([0., 0., 0., 0., 0., 1., 0., 0., 0., 0., 0., 0., 0., 0., 0., 0., 0., 0.,\n",
              "        0., 0., 0., 0., 0., 0., 0., 0., 0.])"
            ]
          },
          "metadata": {},
          "execution_count": 80
        }
      ]
    },
    {
      "cell_type": "code",
      "source": [
        "f @ C \n",
        "#For the first layer: f being the first layer and C being the weight matrix"
      ],
      "metadata": {
        "colab": {
          "base_uri": "https://localhost:8080/"
        },
        "id": "JpDisJiBztI9",
        "outputId": "c92daf9b-528c-4072-c551-0a47ed402ad3"
      },
      "execution_count": 81,
      "outputs": [
        {
          "output_type": "execute_result",
          "data": {
            "text/plain": [
              "tensor([0.5566, 1.1038])"
            ]
          },
          "metadata": {},
          "execution_count": 81
        }
      ]
    },
    {
      "cell_type": "markdown",
      "source": [
        "Which is same as C[5] itself\n",
        "\n",
        "![Screenshot (2).png](data:image/png;base64,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)"
      ],
      "metadata": {
        "id": "3lobWX0D0JIV"
      }
    },
    {
      "cell_type": "code",
      "source": [
        "C[Xtr]"
      ],
      "metadata": {
        "colab": {
          "base_uri": "https://localhost:8080/"
        },
        "id": "lhl9HAMC0ASd",
        "outputId": "b320ccf0-7b1b-43b9-8e1f-05e148c90f1c"
      },
      "execution_count": 145,
      "outputs": [
        {
          "output_type": "execute_result",
          "data": {
            "text/plain": [
              "tensor([[[ 1.0191e-01,  7.3272e-01],\n",
              "         [ 1.0191e-01,  7.3272e-01],\n",
              "         [ 1.0191e-01,  7.3272e-01]],\n",
              "\n",
              "        [[ 1.0191e-01,  7.3272e-01],\n",
              "         [ 1.0191e-01,  7.3272e-01],\n",
              "         [-5.5632e-02, -2.2842e-01]],\n",
              "\n",
              "        [[ 1.0191e-01,  7.3272e-01],\n",
              "         [-5.5632e-02, -2.2842e-01],\n",
              "         [ 1.1948e-01, -3.0991e-01]],\n",
              "\n",
              "        ...,\n",
              "\n",
              "        [[ 3.3066e-01, -1.7693e-01],\n",
              "         [-8.0796e-01, -1.0169e-01],\n",
              "         [-4.0086e-01,  9.1266e-02]],\n",
              "\n",
              "        [[-8.0796e-01, -1.0169e-01],\n",
              "         [-4.0086e-01,  9.1266e-02],\n",
              "         [ 4.1486e-01, -5.1437e-01]],\n",
              "\n",
              "        [[-4.0086e-01,  9.1266e-02],\n",
              "         [ 4.1486e-01, -5.1437e-01],\n",
              "         [-1.2550e-01, -4.6372e-04]]], grad_fn=<IndexBackward0>)"
            ]
          },
          "metadata": {},
          "execution_count": 145
        }
      ]
    },
    {
      "cell_type": "code",
      "source": [
        "emb = C[Xtr]\n",
        "emb.shape"
      ],
      "metadata": {
        "colab": {
          "base_uri": "https://localhost:8080/"
        },
        "id": "UIP0w3-k1VLV",
        "outputId": "91a794ec-29bf-4fd0-a15e-aa28aa223f99"
      },
      "execution_count": 146,
      "outputs": [
        {
          "output_type": "execute_result",
          "data": {
            "text/plain": [
              "torch.Size([182625, 3, 2])"
            ]
          },
          "metadata": {},
          "execution_count": 146
        }
      ]
    },
    {
      "cell_type": "code",
      "source": [
        "W1 = torch.randn((6, 100)) #6=3*2 , 100 is taken arbitrarily which is no. of neurons\n",
        "b1 = torch.rand(100) #Randomized bias"
      ],
      "metadata": {
        "id": "6ac1y61m1j11"
      },
      "execution_count": 84,
      "outputs": []
    },
    {
      "cell_type": "code",
      "source": [
        "'''Matrix Multiplication\n",
        "emb*W1 + b1 but wait!\n",
        "emb.shape = (32,3,2)\n",
        "W1.shape = (6,100) it will be foolish to even try this matmul\n",
        "Thus we need to transform / concatenate those 2 matrices of 3 into 6\n",
        "i.e, emb.shape(32,6)\n",
        "W1.shape(6,100)\n",
        "emb * W1.shape = (32,100)\n",
        "emb*W1 + b1.shape = (32,100)'''\n"
      ],
      "metadata": {
        "colab": {
          "base_uri": "https://localhost:8080/",
          "height": 53
        },
        "id": "V5vHxEZM2W1q",
        "outputId": "d11701e4-7be6-4ddc-8509-e3a3d9c31f61"
      },
      "execution_count": 85,
      "outputs": [
        {
          "output_type": "execute_result",
          "data": {
            "text/plain": [
              "'Matrix Multiplication\\nemb*W1 + b1 but wait!\\nemb.shape = (32,3,2)\\nW1.shape = (6,100) it will be foolish to even try this matmul\\nThus we need to transform / concatenate those 2 matrices of 3 into 6\\ni.e, emb.shape(32,6)\\nW1.shape(6,100)\\nemb * W1.shape = (32,100)\\nemb*W1 + b1.shape = (32,100)'"
            ],
            "application/vnd.google.colaboratory.intrinsic+json": {
              "type": "string"
            }
          },
          "metadata": {},
          "execution_count": 85
        }
      ]
    },
    {
      "cell_type": "markdown",
      "source": [
        "Refer torch.cat: [link text](https://pytorch.org/docs/stable/generated/torch.cat.html)"
      ],
      "metadata": {
        "id": "w1whr4mG3YDS"
      }
    },
    {
      "cell_type": "code",
      "source": [
        "emb[:, 0, :].shape, emb[:, 1, :].shape, emb[:, 2, :].shape"
      ],
      "metadata": {
        "colab": {
          "base_uri": "https://localhost:8080/"
        },
        "id": "tL9_ZiPX3UIt",
        "outputId": "af8ddfe5-f6e1-4215-fb63-5e11de37485e"
      },
      "execution_count": 86,
      "outputs": [
        {
          "output_type": "execute_result",
          "data": {
            "text/plain": [
              "(torch.Size([228146, 2]), torch.Size([228146, 2]), torch.Size([228146, 2]))"
            ]
          },
          "metadata": {},
          "execution_count": 86
        }
      ]
    },
    {
      "cell_type": "markdown",
      "source": [
        "These three matrices together give us the 3rd dimenion (32,3,2)"
      ],
      "metadata": {
        "id": "bdI8RaqP4A28"
      }
    },
    {
      "cell_type": "code",
      "source": [
        "#Concatenate these three matrices into one\n",
        "torch.cat([emb[:,0,:], emb[:,1,:], emb[:,2,:]], dim = 1).shape"
      ],
      "metadata": {
        "colab": {
          "base_uri": "https://localhost:8080/"
        },
        "id": "9ntbyMz83wpN",
        "outputId": "c288c12b-a5e1-475c-ebc3-15f1b78fdd75"
      },
      "execution_count": 87,
      "outputs": [
        {
          "output_type": "execute_result",
          "data": {
            "text/plain": [
              "torch.Size([228146, 6])"
            ]
          },
          "metadata": {},
          "execution_count": 87
        }
      ]
    },
    {
      "cell_type": "markdown",
      "source": [
        "YAYYYY HACKED, BUT!\n",
        "\n",
        "\n",
        "WHAT IF WE USE A 4-GRAM MODEL OR A GENERAL N GRAM MODEL HUH!\n",
        "\n",
        "\n",
        "THUS WE NEED TO GENERALIZE IT, TORCH TO RESCUE,\n",
        "\n",
        "\n",
        "USE torch.unbind() : [link text](https://pytorch.org/docs/stable/generated/torch.unbind.html#torch.unbind) \n",
        "\n",
        "THIS REMOVES A TENSOR DIMENSION"
      ],
      "metadata": {
        "id": "1yU-PNuU4pRc"
      }
    },
    {
      "cell_type": "code",
      "source": [
        "torch.unbind(emb,1)"
      ],
      "metadata": {
        "colab": {
          "base_uri": "https://localhost:8080/"
        },
        "id": "L62JiWeF4WSl",
        "outputId": "b2f36198-92ce-4f1b-f898-9a88330e1ed3"
      },
      "execution_count": 88,
      "outputs": [
        {
          "output_type": "execute_result",
          "data": {
            "text/plain": [
              "(tensor([[-0.7872, -0.9899],\n",
              "         [-0.7872, -0.9899],\n",
              "         [-0.7872, -0.9899],\n",
              "         ...,\n",
              "         [ 0.6802,  1.5113],\n",
              "         [ 0.6802,  1.5113],\n",
              "         [ 0.7872,  1.8268]]), tensor([[-0.7872, -0.9899],\n",
              "         [-0.7872, -0.9899],\n",
              "         [ 0.5566,  1.1038],\n",
              "         ...,\n",
              "         [ 0.6802,  1.5113],\n",
              "         [ 0.7872,  1.8268],\n",
              "         [ 0.6802,  1.5113]]), tensor([[-0.7872, -0.9899],\n",
              "         [ 0.5566,  1.1038],\n",
              "         [-0.1337, -1.8445],\n",
              "         ...,\n",
              "         [ 0.7872,  1.8268],\n",
              "         [ 0.6802,  1.5113],\n",
              "         [-0.5201,  0.0832]]))"
            ]
          },
          "metadata": {},
          "execution_count": 88
        }
      ]
    },
    {
      "cell_type": "markdown",
      "source": [
        "Them gives the split tensors thus removing a dimension\n",
        "\n",
        "![Vl182.png](data:image/png;base64,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)"
      ],
      "metadata": {
        "id": "dVJoj-RP58nz"
      }
    },
    {
      "cell_type": "code",
      "source": [
        "torch.cat(torch.unbind(emb, 1), 1).shape #Very inefficient coz it creates new memories"
      ],
      "metadata": {
        "colab": {
          "base_uri": "https://localhost:8080/"
        },
        "id": "cJFGRtLG5vnM",
        "outputId": "a86cbab4-561c-48d6-fa8e-e39d72ab320f"
      },
      "execution_count": 89,
      "outputs": [
        {
          "output_type": "execute_result",
          "data": {
            "text/plain": [
              "torch.Size([228146, 6])"
            ]
          },
          "metadata": {},
          "execution_count": 89
        }
      ]
    },
    {
      "cell_type": "code",
      "source": [
        "a = torch.arange(18)\n",
        "a"
      ],
      "metadata": {
        "colab": {
          "base_uri": "https://localhost:8080/"
        },
        "id": "SLTW6aD07k5t",
        "outputId": "e9567af5-d36b-46aa-9bc5-6b160fc62f3e"
      },
      "execution_count": 90,
      "outputs": [
        {
          "output_type": "execute_result",
          "data": {
            "text/plain": [
              "tensor([ 0,  1,  2,  3,  4,  5,  6,  7,  8,  9, 10, 11, 12, 13, 14, 15, 16, 17])"
            ]
          },
          "metadata": {},
          "execution_count": 90
        }
      ]
    },
    {
      "cell_type": "code",
      "source": [
        "a.shape"
      ],
      "metadata": {
        "colab": {
          "base_uri": "https://localhost:8080/"
        },
        "id": "f2DTqBEt7uVs",
        "outputId": "f8d8441b-2c61-40d5-811a-c9b0d69b928b"
      },
      "execution_count": 91,
      "outputs": [
        {
          "output_type": "execute_result",
          "data": {
            "text/plain": [
              "torch.Size([18])"
            ]
          },
          "metadata": {},
          "execution_count": 91
        }
      ]
    },
    {
      "cell_type": "code",
      "source": [
        "a.view(9,2)"
      ],
      "metadata": {
        "colab": {
          "base_uri": "https://localhost:8080/"
        },
        "id": "A7Cqtswe7w5E",
        "outputId": "1ab63e99-6814-4651-fa3d-4db0145ff2e6"
      },
      "execution_count": 92,
      "outputs": [
        {
          "output_type": "execute_result",
          "data": {
            "text/plain": [
              "tensor([[ 0,  1],\n",
              "        [ 2,  3],\n",
              "        [ 4,  5],\n",
              "        [ 6,  7],\n",
              "        [ 8,  9],\n",
              "        [10, 11],\n",
              "        [12, 13],\n",
              "        [14, 15],\n",
              "        [16, 17]])"
            ]
          },
          "metadata": {},
          "execution_count": 92
        }
      ]
    },
    {
      "cell_type": "code",
      "source": [
        "a.view(3,3,2) # = torch.unbind(a(9,2))"
      ],
      "metadata": {
        "colab": {
          "base_uri": "https://localhost:8080/"
        },
        "id": "7PjCCPnv8ILc",
        "outputId": "2625f9db-73cf-4071-d736-3dd47af01cc2"
      },
      "execution_count": 93,
      "outputs": [
        {
          "output_type": "execute_result",
          "data": {
            "text/plain": [
              "tensor([[[ 0,  1],\n",
              "         [ 2,  3],\n",
              "         [ 4,  5]],\n",
              "\n",
              "        [[ 6,  7],\n",
              "         [ 8,  9],\n",
              "         [10, 11]],\n",
              "\n",
              "        [[12, 13],\n",
              "         [14, 15],\n",
              "         [16, 17]]])"
            ]
          },
          "metadata": {},
          "execution_count": 93
        }
      ]
    },
    {
      "cell_type": "code",
      "source": [
        "a.storage() #This is how tensor is represented in the computer memory"
      ],
      "metadata": {
        "colab": {
          "base_uri": "https://localhost:8080/"
        },
        "id": "2zzfhcRd8KX0",
        "outputId": "b762d5a0-fd46-4b05-e16e-07d8ede5d936"
      },
      "execution_count": 94,
      "outputs": [
        {
          "output_type": "execute_result",
          "data": {
            "text/plain": [
              " 0\n",
              " 1\n",
              " 2\n",
              " 3\n",
              " 4\n",
              " 5\n",
              " 6\n",
              " 7\n",
              " 8\n",
              " 9\n",
              " 10\n",
              " 11\n",
              " 12\n",
              " 13\n",
              " 14\n",
              " 15\n",
              " 16\n",
              " 17\n",
              "[torch.storage._TypedStorage(dtype=torch.int64, device=cpu) of size 18]"
            ]
          },
          "metadata": {},
          "execution_count": 94
        }
      ]
    },
    {
      "cell_type": "markdown",
      "source": [
        "torch.view() : [link text](https://pytorch.org/docs/stable/generated/torch.Tensor.view.html)\n",
        "\n",
        "View in whatever dimension you would like to view. This is very much efficient"
      ],
      "metadata": {
        "id": "NNfGtCnX9Qhj"
      }
    },
    {
      "cell_type": "code",
      "source": [
        "emb.view(-1,6) == torch.cat(torch.unbind(emb, 1), 1)"
      ],
      "metadata": {
        "colab": {
          "base_uri": "https://localhost:8080/"
        },
        "id": "TDZvYHy68gDU",
        "outputId": "53735276-3a73-4e3c-dd04-5d5e9b2e4479"
      },
      "execution_count": 96,
      "outputs": [
        {
          "output_type": "execute_result",
          "data": {
            "text/plain": [
              "tensor([[True, True, True, True, True, True],\n",
              "        [True, True, True, True, True, True],\n",
              "        [True, True, True, True, True, True],\n",
              "        ...,\n",
              "        [True, True, True, True, True, True],\n",
              "        [True, True, True, True, True, True],\n",
              "        [True, True, True, True, True, True]])"
            ]
          },
          "metadata": {},
          "execution_count": 96
        }
      ]
    },
    {
      "cell_type": "code",
      "source": [
        "h = emb.view(-1, 6) @W1 + b1\n",
        "h"
      ],
      "metadata": {
        "colab": {
          "base_uri": "https://localhost:8080/"
        },
        "id": "mA_e55349k8z",
        "outputId": "827fa194-6bb7-415d-be9a-42df00695a47"
      },
      "execution_count": 97,
      "outputs": [
        {
          "output_type": "execute_result",
          "data": {
            "text/plain": [
              "tensor([[ 7.2496, -3.1850,  0.0955,  ..., -2.2427, -2.0980, -1.6052],\n",
              "        [ 0.5189, -1.1782, -1.5683,  ..., -2.0816, -1.7172, -1.9525],\n",
              "        [ 5.6219, -3.9016,  3.1726,  ..., -0.2961, -1.8164, -0.8479],\n",
              "        ...,\n",
              "        [-9.4089,  5.1985,  0.1980,  ...,  2.7751,  2.6338,  3.7465],\n",
              "        [-8.9570,  4.9032,  0.7541,  ...,  2.8690,  2.5894,  3.9131],\n",
              "        [-4.1210,  4.1892,  1.5874,  ...,  3.0168,  2.6868,  4.5435]])"
            ]
          },
          "metadata": {},
          "execution_count": 97
        }
      ]
    },
    {
      "cell_type": "markdown",
      "source": [
        "**Our Final Hidden layer code**"
      ],
      "metadata": {
        "id": "hy9GWUge-wl0"
      }
    },
    {
      "cell_type": "code",
      "source": [
        "#Let's not hard code it and lets add the non-linearity tanh\n",
        "h = torch.tanh(emb.view(-1,6) @ W1 + b1)\n",
        "h"
      ],
      "metadata": {
        "colab": {
          "base_uri": "https://localhost:8080/"
        },
        "id": "rs0ly-1H99Ok",
        "outputId": "c216440b-cf4c-4272-b8e0-430b14a5ff7a"
      },
      "execution_count": 98,
      "outputs": [
        {
          "output_type": "execute_result",
          "data": {
            "text/plain": [
              "tensor([[ 1.0000, -0.9966,  0.0952,  ..., -0.9777, -0.9703, -0.9225],\n",
              "        [ 0.4769, -0.8269, -0.9167,  ..., -0.9694, -0.9375, -0.9605],\n",
              "        [ 1.0000, -0.9992,  0.9965,  ..., -0.2878, -0.9485, -0.6900],\n",
              "        ...,\n",
              "        [-1.0000,  0.9999,  0.1954,  ...,  0.9923,  0.9897,  0.9989],\n",
              "        [-1.0000,  0.9999,  0.6376,  ...,  0.9936,  0.9888,  0.9992],\n",
              "        [-0.9995,  0.9995,  0.9198,  ...,  0.9952,  0.9908,  0.9998]])"
            ]
          },
          "metadata": {},
          "execution_count": 98
        }
      ]
    },
    {
      "cell_type": "markdown",
      "source": [
        "**Final layer implementation**"
      ],
      "metadata": {
        "id": "kg0ZbKhM-_PT"
      }
    },
    {
      "cell_type": "code",
      "source": [
        "W2 = torch.randn((100,27))\n",
        "b2 = torch.randn(27)"
      ],
      "metadata": {
        "id": "3Jt7wbDK-rjE"
      },
      "execution_count": 99,
      "outputs": []
    },
    {
      "cell_type": "code",
      "source": [
        "logits = h @ W2 + b2\n",
        "logits"
      ],
      "metadata": {
        "colab": {
          "base_uri": "https://localhost:8080/"
        },
        "id": "ZbWxd-fI_yaD",
        "outputId": "1c2cf1c4-8d32-44ef-9f39-f9029ba73ef3"
      },
      "execution_count": 100,
      "outputs": [
        {
          "output_type": "execute_result",
          "data": {
            "text/plain": [
              "tensor([[-5.2050, -6.7886, -5.1678,  ..., -1.4685,  4.8052, -5.6749],\n",
              "        [-4.6479,  4.6227, 11.8894,  ..., -4.6151, -4.5866, -9.8426],\n",
              "        [-1.9229, -5.6574, -5.0424,  ...,  2.6005,  8.7698, -2.7304],\n",
              "        ...,\n",
              "        [ 0.9214, 11.4519,  6.4857,  ..., -0.0747, -1.1133, -0.0446],\n",
              "        [ 2.8566, 10.2913,  2.7647,  ...,  2.0133, -1.4418,  2.0347],\n",
              "        [ 1.9494,  4.4013, -1.6611,  ...,  9.2920,  6.2227,  4.8582]])"
            ]
          },
          "metadata": {},
          "execution_count": 100
        }
      ]
    },
    {
      "cell_type": "code",
      "source": [
        "logits.shape"
      ],
      "metadata": {
        "colab": {
          "base_uri": "https://localhost:8080/"
        },
        "id": "KEDpDSQl_4X9",
        "outputId": "bf4b949d-aa97-4c6a-f1df-420e8f4682bb"
      },
      "execution_count": 101,
      "outputs": [
        {
          "output_type": "execute_result",
          "data": {
            "text/plain": [
              "torch.Size([228146, 27])"
            ]
          },
          "metadata": {},
          "execution_count": 101
        }
      ]
    },
    {
      "cell_type": "code",
      "source": [
        "#softmax\n",
        "counts = logits.exp()\n",
        "prob = counts/ counts.sum(1, keepdim=True)\n",
        "prob.shape"
      ],
      "metadata": {
        "colab": {
          "base_uri": "https://localhost:8080/"
        },
        "id": "VU_IvnuZ_8H0",
        "outputId": "eebb26f7-2918-4872-f821-2d5135a349bc"
      },
      "execution_count": 102,
      "outputs": [
        {
          "output_type": "execute_result",
          "data": {
            "text/plain": [
              "torch.Size([228146, 27])"
            ]
          },
          "metadata": {},
          "execution_count": 102
        }
      ]
    },
    {
      "cell_type": "code",
      "source": [
        "torch.arange(32)"
      ],
      "metadata": {
        "colab": {
          "base_uri": "https://localhost:8080/"
        },
        "id": "DfP1KnydAXPT",
        "outputId": "d7d6a7ac-660a-4454-c674-3c01f539e37b"
      },
      "execution_count": 103,
      "outputs": [
        {
          "output_type": "execute_result",
          "data": {
            "text/plain": [
              "tensor([ 0,  1,  2,  3,  4,  5,  6,  7,  8,  9, 10, 11, 12, 13, 14, 15, 16, 17,\n",
              "        18, 19, 20, 21, 22, 23, 24, 25, 26, 27, 28, 29, 30, 31])"
            ]
          },
          "metadata": {},
          "execution_count": 103
        }
      ]
    },
    {
      "cell_type": "code",
      "source": [
        "Y"
      ],
      "metadata": {
        "colab": {
          "base_uri": "https://localhost:8080/"
        },
        "id": "DDpfTAVxA_xz",
        "outputId": "942189b9-08cf-4b06-e940-74edee251b79"
      },
      "execution_count": 104,
      "outputs": [
        {
          "output_type": "execute_result",
          "data": {
            "text/plain": [
              "tensor([ 5, 13, 13,  ..., 26, 24,  0])"
            ]
          },
          "metadata": {},
          "execution_count": 104
        }
      ]
    },
    {
      "cell_type": "code",
      "source": [
        "loss = prob[torch.arange(228146), Y].log().mean()\n",
        "loss"
      ],
      "metadata": {
        "colab": {
          "base_uri": "https://localhost:8080/"
        },
        "id": "ddD8FnkWBAm1",
        "outputId": "5b2bb38d-db90-49f7-e43d-c22ae897b297"
      },
      "execution_count": 106,
      "outputs": [
        {
          "output_type": "execute_result",
          "data": {
            "text/plain": [
              "tensor(-16.4873)"
            ]
          },
          "metadata": {},
          "execution_count": 106
        }
      ]
    },
    {
      "cell_type": "markdown",
      "source": [
        "**Summarizing the whole network**"
      ],
      "metadata": {
        "id": "lemdIP6vBgrk"
      }
    },
    {
      "cell_type": "code",
      "source": [
        "Xtr.shape, Ytr.shape #Dataset"
      ],
      "metadata": {
        "colab": {
          "base_uri": "https://localhost:8080/"
        },
        "id": "0Pz-3esUBLET",
        "outputId": "c181e5f5-5eb0-4bfa-d93b-6fd792d724a2"
      },
      "execution_count": 147,
      "outputs": [
        {
          "output_type": "execute_result",
          "data": {
            "text/plain": [
              "(torch.Size([182625, 3]), torch.Size([182625]))"
            ]
          },
          "metadata": {},
          "execution_count": 147
        }
      ]
    },
    {
      "cell_type": "code",
      "source": [
        "g = torch.Generator().manual_seed(214783647) #for reproducibility\n",
        "C = torch.randn((27,10), generator=g)\n",
        "W1 = torch.randn((30,200), generator=g) #Tune the no. of neurons to get a desired output\n",
        "b1 = torch.randn(200, generator=g)\n",
        "W2 = torch.randn((200,27), generator=g)\n",
        "b2 = torch.rand(27, generator=g)\n",
        "parameters = [C, W1, b1, W2, b2]"
      ],
      "metadata": {
        "id": "sSi0u99LBpPT"
      },
      "execution_count": 219,
      "outputs": []
    },
    {
      "cell_type": "code",
      "source": [
        "sum(p.nelement() for p in parameters)"
      ],
      "metadata": {
        "colab": {
          "base_uri": "https://localhost:8080/"
        },
        "id": "AOlQJ4ycCaKL",
        "outputId": "823bf1a0-4001-4821-e307-ba4d348a1825"
      },
      "execution_count": 220,
      "outputs": [
        {
          "output_type": "execute_result",
          "data": {
            "text/plain": [
              "11897"
            ]
          },
          "metadata": {},
          "execution_count": 220
        }
      ]
    },
    {
      "cell_type": "code",
      "source": [
        "emb = C[Xtr] #(32,3,2)\n",
        "h = torch.tanh(emb.view(-1,30) @ W1 + b1) #(32,6) @ (6,100) = (32,100)\n",
        "logits = h@ W2 + b2 #(32,27)\n",
        "#counts = logits.exp()\n",
        "#prob = counts/ counts.sum(1, keepdims=True)\n",
        "#loss = -prob[torch.arange(32), Y].log().mean()\n",
        "'''Cross entropy will cluster all the above 3 lines of code into one'''\n",
        "loss = F.cross_entropy(logits, Ytr)\n",
        "loss"
      ],
      "metadata": {
        "colab": {
          "base_uri": "https://localhost:8080/"
        },
        "id": "DmR9XEJCCme6",
        "outputId": "ea6d3fa1-b500-40fb-b34d-5262e55af0a7"
      },
      "execution_count": 221,
      "outputs": [
        {
          "output_type": "execute_result",
          "data": {
            "text/plain": [
              "tensor(24.7952)"
            ]
          },
          "metadata": {},
          "execution_count": 221
        }
      ]
    },
    {
      "cell_type": "markdown",
      "source": [
        "But why exactly do we use cross entropy"
      ],
      "metadata": {
        "id": "dLO5V9yfO3Mp"
      }
    },
    {
      "cell_type": "code",
      "source": [
        "#Example\n",
        "logits = torch.tensor([-100, -3, 0, 100])\n",
        "counts = logits.exp() #Imagine e^100 lol\n",
        "probs = counts/ counts.sum()\n",
        "probs"
      ],
      "metadata": {
        "colab": {
          "base_uri": "https://localhost:8080/"
        },
        "id": "lUj_s3aVDSiL",
        "outputId": "a67d1989-9447-48f2-8ad5-dbbe0f791c04"
      },
      "execution_count": 166,
      "outputs": [
        {
          "output_type": "execute_result",
          "data": {
            "text/plain": [
              "tensor([0., 0., 0., nan])"
            ]
          },
          "metadata": {},
          "execution_count": 166
        }
      ]
    },
    {
      "cell_type": "markdown",
      "source": [
        "Says Not A Number xD"
      ],
      "metadata": {
        "id": "6DTo37myPZDX"
      }
    },
    {
      "cell_type": "code",
      "source": [
        "counts"
      ],
      "metadata": {
        "colab": {
          "base_uri": "https://localhost:8080/"
        },
        "id": "fOINeudNPSuY",
        "outputId": "aa23f6e0-df0d-4476-af09-5cd216ca2ccc"
      },
      "execution_count": 167,
      "outputs": [
        {
          "output_type": "execute_result",
          "data": {
            "text/plain": [
              "tensor([3.7835e-44, 4.9787e-02, 1.0000e+00,        inf])"
            ]
          },
          "metadata": {},
          "execution_count": 167
        }
      ]
    },
    {
      "cell_type": "markdown",
      "source": [
        "Says infinity"
      ],
      "metadata": {
        "id": "NKpUfD18PfFp"
      }
    },
    {
      "cell_type": "code",
      "source": [
        "for p in parameters:\n",
        "  p.requires_grad = True"
      ],
      "metadata": {
        "id": "79ogHctKQx_Z"
      },
      "execution_count": 222,
      "outputs": []
    },
    {
      "cell_type": "code",
      "source": [
        "for _ in range(100):\n",
        "  #forward pass\n",
        "  emb = C[Xtr] #(32,3,2)\n",
        "  h = torch.tanh(emb.view(-1,30) @ W1 + b1) #(32,6) @ (6,100) = (32,100)\n",
        "  logits = h@ W2 + b2 #(32,27)\n",
        "  loss = F.cross_entropy(logits, Ytr)\n",
        "  print(f\"The loss in the {_}th iteration is : {loss.item()}\")\n",
        "\n",
        "  #Backward pass\n",
        "  for p in parameters:\n",
        "    p.grad = None\n",
        "  loss.backward()\n",
        "  #update\n",
        "  for p in parameters:\n",
        "    p.data += -0.1 * p.grad"
      ],
      "metadata": {
        "colab": {
          "base_uri": "https://localhost:8080/"
        },
        "id": "NGD6eY8zPdUx",
        "outputId": "b1d67c21-0563-48da-ddfc-975e64ff065b"
      },
      "execution_count": 223,
      "outputs": [
        {
          "output_type": "stream",
          "name": "stdout",
          "text": [
            "The loss in the 0th iteration is : 24.79523277282715\n",
            "The loss in the 1th iteration is : 22.970579147338867\n",
            "The loss in the 2th iteration is : 22.184894561767578\n",
            "The loss in the 3th iteration is : 20.981307983398438\n",
            "The loss in the 4th iteration is : 20.26346206665039\n",
            "The loss in the 5th iteration is : 19.613370895385742\n",
            "The loss in the 6th iteration is : 18.831703186035156\n",
            "The loss in the 7th iteration is : 18.25197410583496\n",
            "The loss in the 8th iteration is : 17.649085998535156\n",
            "The loss in the 9th iteration is : 17.143938064575195\n",
            "The loss in the 10th iteration is : 16.67503547668457\n",
            "The loss in the 11th iteration is : 16.277387619018555\n",
            "The loss in the 12th iteration is : 15.833781242370605\n",
            "The loss in the 13th iteration is : 15.52667236328125\n",
            "The loss in the 14th iteration is : 15.136666297912598\n",
            "The loss in the 15th iteration is : 14.932953834533691\n",
            "The loss in the 16th iteration is : 14.551732063293457\n",
            "The loss in the 17th iteration is : 14.258146286010742\n",
            "The loss in the 18th iteration is : 14.032470703125\n",
            "The loss in the 19th iteration is : 13.902846336364746\n",
            "The loss in the 20th iteration is : 13.520462989807129\n",
            "The loss in the 21th iteration is : 13.321548461914062\n",
            "The loss in the 22th iteration is : 13.115947723388672\n",
            "The loss in the 23th iteration is : 12.97787094116211\n",
            "The loss in the 24th iteration is : 12.743608474731445\n",
            "The loss in the 25th iteration is : 12.590856552124023\n",
            "The loss in the 26th iteration is : 12.403853416442871\n",
            "The loss in the 27th iteration is : 12.283653259277344\n",
            "The loss in the 28th iteration is : 12.092973709106445\n",
            "The loss in the 29th iteration is : 11.965471267700195\n",
            "The loss in the 30th iteration is : 11.815227508544922\n",
            "The loss in the 31th iteration is : 11.695826530456543\n",
            "The loss in the 32th iteration is : 11.551752090454102\n",
            "The loss in the 33th iteration is : 11.443258285522461\n",
            "The loss in the 34th iteration is : 11.312392234802246\n",
            "The loss in the 35th iteration is : 11.211240768432617\n",
            "The loss in the 36th iteration is : 11.090140342712402\n",
            "The loss in the 37th iteration is : 10.993653297424316\n",
            "The loss in the 38th iteration is : 10.879630088806152\n",
            "The loss in the 39th iteration is : 10.787301063537598\n",
            "The loss in the 40th iteration is : 10.678628921508789\n",
            "The loss in the 41th iteration is : 10.590682029724121\n",
            "The loss in the 42th iteration is : 10.48717212677002\n",
            "The loss in the 43th iteration is : 10.402884483337402\n",
            "The loss in the 44th iteration is : 10.305682182312012\n",
            "The loss in the 45th iteration is : 10.22411823272705\n",
            "The loss in the 46th iteration is : 10.13352108001709\n",
            "The loss in the 47th iteration is : 10.054424285888672\n",
            "The loss in the 48th iteration is : 9.969855308532715\n",
            "The loss in the 49th iteration is : 9.893458366394043\n",
            "The loss in the 50th iteration is : 9.814199447631836\n",
            "The loss in the 51th iteration is : 9.740718841552734\n",
            "The loss in the 52th iteration is : 9.666159629821777\n",
            "The loss in the 53th iteration is : 9.595803260803223\n",
            "The loss in the 54th iteration is : 9.525142669677734\n",
            "The loss in the 55th iteration is : 9.457988739013672\n",
            "The loss in the 56th iteration is : 9.39055347442627\n",
            "The loss in the 57th iteration is : 9.326465606689453\n",
            "The loss in the 58th iteration is : 9.261876106262207\n",
            "The loss in the 59th iteration is : 9.200539588928223\n",
            "The loss in the 60th iteration is : 9.138711929321289\n",
            "The loss in the 61th iteration is : 9.079728126525879\n",
            "The loss in the 62th iteration is : 9.020676612854004\n",
            "The loss in the 63th iteration is : 8.96371841430664\n",
            "The loss in the 64th iteration is : 8.907417297363281\n",
            "The loss in the 65th iteration is : 8.852237701416016\n",
            "The loss in the 66th iteration is : 8.798550605773926\n",
            "The loss in the 67th iteration is : 8.744953155517578\n",
            "The loss in the 68th iteration is : 8.693620681762695\n",
            "The loss in the 69th iteration is : 8.641472816467285\n",
            "The loss in the 70th iteration is : 8.592204093933105\n",
            "The loss in the 71th iteration is : 8.541424751281738\n",
            "The loss in the 72th iteration is : 8.493988037109375\n",
            "The loss in the 73th iteration is : 8.444561004638672\n",
            "The loss in the 74th iteration is : 8.398743629455566\n",
            "The loss in the 75th iteration is : 8.350655555725098\n",
            "The loss in the 76th iteration is : 8.306303977966309\n",
            "The loss in the 77th iteration is : 8.259561538696289\n",
            "The loss in the 78th iteration is : 8.216582298278809\n",
            "The loss in the 79th iteration is : 8.171178817749023\n",
            "The loss in the 80th iteration is : 8.129501342773438\n",
            "The loss in the 81th iteration is : 8.08541488647461\n",
            "The loss in the 82th iteration is : 8.044947624206543\n",
            "The loss in the 83th iteration is : 8.002174377441406\n",
            "The loss in the 84th iteration is : 7.962882995605469\n",
            "The loss in the 85th iteration is : 7.921407222747803\n",
            "The loss in the 86th iteration is : 7.883255958557129\n",
            "The loss in the 87th iteration is : 7.843062877655029\n",
            "The loss in the 88th iteration is : 7.806023120880127\n",
            "The loss in the 89th iteration is : 7.767096519470215\n",
            "The loss in the 90th iteration is : 7.731128692626953\n",
            "The loss in the 91th iteration is : 7.693435192108154\n",
            "The loss in the 92th iteration is : 7.658486843109131\n",
            "The loss in the 93th iteration is : 7.621968746185303\n",
            "The loss in the 94th iteration is : 7.588015556335449\n",
            "The loss in the 95th iteration is : 7.552628993988037\n",
            "The loss in the 96th iteration is : 7.519629001617432\n",
            "The loss in the 97th iteration is : 7.485323905944824\n",
            "The loss in the 98th iteration is : 7.453253269195557\n",
            "The loss in the 99th iteration is : 7.419993877410889\n"
          ]
        }
      ]
    },
    {
      "cell_type": "code",
      "source": [
        "logits.max(1)"
      ],
      "metadata": {
        "colab": {
          "base_uri": "https://localhost:8080/"
        },
        "id": "bWL5CIIcQoco",
        "outputId": "b7ac95c6-e564-45e0-9b50-52206fe52842"
      },
      "execution_count": 224,
      "outputs": [
        {
          "output_type": "execute_result",
          "data": {
            "text/plain": [
              "torch.return_types.max(\n",
              "values=tensor([ 8.3024, 15.0142, 15.0000,  ..., 15.6104, 18.2981, 14.5162],\n",
              "       grad_fn=<MaxBackward0>),\n",
              "indices=tensor([ 1, 12, 26,  ..., 24, 14,  1]))"
            ]
          },
          "metadata": {},
          "execution_count": 224
        }
      ]
    },
    {
      "cell_type": "code",
      "source": [
        "Y"
      ],
      "metadata": {
        "colab": {
          "base_uri": "https://localhost:8080/"
        },
        "id": "hGCDOrs9RpMA",
        "outputId": "8a9eb630-33cc-4af0-cc74-137f244bd695"
      },
      "execution_count": 225,
      "outputs": [
        {
          "output_type": "execute_result",
          "data": {
            "text/plain": [
              "tensor([ 5, 13, 13,  ..., 26, 24,  0])"
            ]
          },
          "metadata": {},
          "execution_count": 225
        }
      ]
    },
    {
      "cell_type": "markdown",
      "source": [
        "predicted and actual indices actually match to some extent \n",
        "\n",
        "But we can see that the first index is predicted wrong because ... -> e for emma and ...-> o for olivia"
      ],
      "metadata": {
        "id": "rXoz1dSkRq9B"
      }
    },
    {
      "cell_type": "markdown",
      "source": [
        "**Now do it for the whole dataset instead of just 5 names in it but that's a very large computation to do so let's employ batch wise gradient descent**"
      ],
      "metadata": {
        "id": "jeRN2PXoSUZh"
      }
    },
    {
      "cell_type": "code",
      "source": [
        "torch.randint(0,X.shape[0], (32,))"
      ],
      "metadata": {
        "colab": {
          "base_uri": "https://localhost:8080/"
        },
        "id": "ZwUZK_MwRpv4",
        "outputId": "06fd03dd-ed21-4aa4-cd96-8242c449bf46"
      },
      "execution_count": 172,
      "outputs": [
        {
          "output_type": "execute_result",
          "data": {
            "text/plain": [
              "tensor([201675,  12325, 178273, 131694,  42268, 141256, 139432,  64390,    481,\n",
              "         90949, 134589, 159187,  72175, 206556, 166752,  86584,  70182, 110936,\n",
              "         32697, 178367, 150593, 151389, 185084,  26081, 158865, 147647, 161776,\n",
              "         39473,  35086,  15676, 150227, 202982])"
            ]
          },
          "metadata": {},
          "execution_count": 172
        }
      ]
    },
    {
      "cell_type": "code",
      "source": [
        "#Batchwise Gradient Descent\n",
        "for _ in range(100):\n",
        "\n",
        "  #minibatch construct\n",
        "  ix = torch.randint(0, Xtr.shape[0], (32,))\n",
        "\n",
        "  #forward pass\n",
        "  emb = C[Xtr[ix]] #(32,3,2)\n",
        "  h = torch.tanh(emb.view(-1,30) @ W1 + b1) #(32,6) @ (6,100) = (32,100)\n",
        "  logits = h@ W2 + b2 #(32,27)\n",
        "  loss = F.cross_entropy(logits, Ytr[ix])\n",
        "  print(f\"The loss in the {_}th iteration is : {loss.item()}\")\n",
        "\n",
        "  #Backward pass\n",
        "  for p in parameters:\n",
        "    p.grad = None\n",
        "  loss.backward()\n",
        "  #update\n",
        "  for p in parameters:\n",
        "    p.data += -0.1 * p.grad"
      ],
      "metadata": {
        "colab": {
          "base_uri": "https://localhost:8080/"
        },
        "id": "ZaT31bspUHwf",
        "outputId": "1d9b2191-d7db-484e-8496-c23cd25894c5"
      },
      "execution_count": 226,
      "outputs": [
        {
          "output_type": "stream",
          "name": "stdout",
          "text": [
            "The loss in the 0th iteration is : 6.068474292755127\n",
            "The loss in the 1th iteration is : 6.896415710449219\n",
            "The loss in the 2th iteration is : 6.94061279296875\n",
            "The loss in the 3th iteration is : 5.119189262390137\n",
            "The loss in the 4th iteration is : 8.792823791503906\n",
            "The loss in the 5th iteration is : 6.580467700958252\n",
            "The loss in the 6th iteration is : 9.625308990478516\n",
            "The loss in the 7th iteration is : 7.695591449737549\n",
            "The loss in the 8th iteration is : 6.183511257171631\n",
            "The loss in the 9th iteration is : 9.065324783325195\n",
            "The loss in the 10th iteration is : 6.862722873687744\n",
            "The loss in the 11th iteration is : 7.436983585357666\n",
            "The loss in the 12th iteration is : 8.850601196289062\n",
            "The loss in the 13th iteration is : 8.110248565673828\n",
            "The loss in the 14th iteration is : 8.600396156311035\n",
            "The loss in the 15th iteration is : 8.489513397216797\n",
            "The loss in the 16th iteration is : 6.169605255126953\n",
            "The loss in the 17th iteration is : 8.389955520629883\n",
            "The loss in the 18th iteration is : 9.759777069091797\n",
            "The loss in the 19th iteration is : 8.790175437927246\n",
            "The loss in the 20th iteration is : 8.295058250427246\n",
            "The loss in the 21th iteration is : 7.060361385345459\n",
            "The loss in the 22th iteration is : 7.7835373878479\n",
            "The loss in the 23th iteration is : 9.086034774780273\n",
            "The loss in the 24th iteration is : 7.740257740020752\n",
            "The loss in the 25th iteration is : 9.177056312561035\n",
            "The loss in the 26th iteration is : 8.70695686340332\n",
            "The loss in the 27th iteration is : 8.990194320678711\n",
            "The loss in the 28th iteration is : 6.318729877471924\n",
            "The loss in the 29th iteration is : 9.232320785522461\n",
            "The loss in the 30th iteration is : 8.493121147155762\n",
            "The loss in the 31th iteration is : 8.72596263885498\n",
            "The loss in the 32th iteration is : 6.883393287658691\n",
            "The loss in the 33th iteration is : 7.020691871643066\n",
            "The loss in the 34th iteration is : 9.107769966125488\n",
            "The loss in the 35th iteration is : 7.803244113922119\n",
            "The loss in the 36th iteration is : 6.649559497833252\n",
            "The loss in the 37th iteration is : 7.652551174163818\n",
            "The loss in the 38th iteration is : 6.832176685333252\n",
            "The loss in the 39th iteration is : 8.988122940063477\n",
            "The loss in the 40th iteration is : 7.904420852661133\n",
            "The loss in the 41th iteration is : 8.152844429016113\n",
            "The loss in the 42th iteration is : 6.5582499504089355\n",
            "The loss in the 43th iteration is : 6.825218200683594\n",
            "The loss in the 44th iteration is : 7.571798801422119\n",
            "The loss in the 45th iteration is : 7.31390380859375\n",
            "The loss in the 46th iteration is : 6.728336811065674\n",
            "The loss in the 47th iteration is : 7.556358814239502\n",
            "The loss in the 48th iteration is : 8.888492584228516\n",
            "The loss in the 49th iteration is : 5.8253984451293945\n",
            "The loss in the 50th iteration is : 6.7650933265686035\n",
            "The loss in the 51th iteration is : 5.591330051422119\n",
            "The loss in the 52th iteration is : 8.348350524902344\n",
            "The loss in the 53th iteration is : 6.397226333618164\n",
            "The loss in the 54th iteration is : 6.31418514251709\n",
            "The loss in the 55th iteration is : 6.445015907287598\n",
            "The loss in the 56th iteration is : 7.700374126434326\n",
            "The loss in the 57th iteration is : 7.266138553619385\n",
            "The loss in the 58th iteration is : 7.969995498657227\n",
            "The loss in the 59th iteration is : 6.780547618865967\n",
            "The loss in the 60th iteration is : 8.335453987121582\n",
            "The loss in the 61th iteration is : 5.837896347045898\n",
            "The loss in the 62th iteration is : 6.634429931640625\n",
            "The loss in the 63th iteration is : 8.683249473571777\n",
            "The loss in the 64th iteration is : 6.02719259262085\n",
            "The loss in the 65th iteration is : 6.138394832611084\n",
            "The loss in the 66th iteration is : 5.079634666442871\n",
            "The loss in the 67th iteration is : 6.218852519989014\n",
            "The loss in the 68th iteration is : 8.51273250579834\n",
            "The loss in the 69th iteration is : 7.202364444732666\n",
            "The loss in the 70th iteration is : 7.901084899902344\n",
            "The loss in the 71th iteration is : 8.07220458984375\n",
            "The loss in the 72th iteration is : 5.986305236816406\n",
            "The loss in the 73th iteration is : 7.063077449798584\n",
            "The loss in the 74th iteration is : 6.284131050109863\n",
            "The loss in the 75th iteration is : 8.009626388549805\n",
            "The loss in the 76th iteration is : 4.425334453582764\n",
            "The loss in the 77th iteration is : 7.000389575958252\n",
            "The loss in the 78th iteration is : 5.667756080627441\n",
            "The loss in the 79th iteration is : 7.811048984527588\n",
            "The loss in the 80th iteration is : 6.105118274688721\n",
            "The loss in the 81th iteration is : 8.361005783081055\n",
            "The loss in the 82th iteration is : 5.717048168182373\n",
            "The loss in the 83th iteration is : 8.759675025939941\n",
            "The loss in the 84th iteration is : 6.520002365112305\n",
            "The loss in the 85th iteration is : 6.716269493103027\n",
            "The loss in the 86th iteration is : 5.379882335662842\n",
            "The loss in the 87th iteration is : 7.208944320678711\n",
            "The loss in the 88th iteration is : 5.252232074737549\n",
            "The loss in the 89th iteration is : 4.7418718338012695\n",
            "The loss in the 90th iteration is : 8.369879722595215\n",
            "The loss in the 91th iteration is : 5.097331523895264\n",
            "The loss in the 92th iteration is : 5.891427516937256\n",
            "The loss in the 93th iteration is : 6.0006256103515625\n",
            "The loss in the 94th iteration is : 6.390614032745361\n",
            "The loss in the 95th iteration is : 6.815245151519775\n",
            "The loss in the 96th iteration is : 5.596225261688232\n",
            "The loss in the 97th iteration is : 5.561635971069336\n",
            "The loss in the 98th iteration is : 7.259106159210205\n",
            "The loss in the 99th iteration is : 7.517126560211182\n"
          ]
        }
      ]
    },
    {
      "cell_type": "markdown",
      "source": [
        "Let's optimize this a bit:\n",
        "\n",
        "So the first problem is how to find a good initial learning rate, how do we do it?"
      ],
      "metadata": {
        "id": "cI4XONm0Uxi3"
      }
    },
    {
      "cell_type": "code",
      "source": [
        "#say\n",
        "lre = torch.linspace(-3, 0, 1000) #Gives 1000 numbers between -3 and 0\n",
        "lrs = 10**lre\n",
        "lrs"
      ],
      "metadata": {
        "colab": {
          "base_uri": "https://localhost:8080/"
        },
        "id": "fJA8ZAZpUjgg",
        "outputId": "53ec2b35-ce4b-4345-def7-5879af9b099a"
      },
      "execution_count": 174,
      "outputs": [
        {
          "output_type": "execute_result",
          "data": {
            "text/plain": [
              "tensor([0.0010, 0.0010, 0.0010, 0.0010, 0.0010, 0.0010, 0.0010, 0.0010, 0.0011,\n",
              "        0.0011, 0.0011, 0.0011, 0.0011, 0.0011, 0.0011, 0.0011, 0.0011, 0.0011,\n",
              "        0.0011, 0.0011, 0.0011, 0.0012, 0.0012, 0.0012, 0.0012, 0.0012, 0.0012,\n",
              "        0.0012, 0.0012, 0.0012, 0.0012, 0.0012, 0.0012, 0.0013, 0.0013, 0.0013,\n",
              "        0.0013, 0.0013, 0.0013, 0.0013, 0.0013, 0.0013, 0.0013, 0.0013, 0.0014,\n",
              "        0.0014, 0.0014, 0.0014, 0.0014, 0.0014, 0.0014, 0.0014, 0.0014, 0.0014,\n",
              "        0.0015, 0.0015, 0.0015, 0.0015, 0.0015, 0.0015, 0.0015, 0.0015, 0.0015,\n",
              "        0.0015, 0.0016, 0.0016, 0.0016, 0.0016, 0.0016, 0.0016, 0.0016, 0.0016,\n",
              "        0.0016, 0.0017, 0.0017, 0.0017, 0.0017, 0.0017, 0.0017, 0.0017, 0.0017,\n",
              "        0.0018, 0.0018, 0.0018, 0.0018, 0.0018, 0.0018, 0.0018, 0.0018, 0.0019,\n",
              "        0.0019, 0.0019, 0.0019, 0.0019, 0.0019, 0.0019, 0.0019, 0.0020, 0.0020,\n",
              "        0.0020, 0.0020, 0.0020, 0.0020, 0.0020, 0.0021, 0.0021, 0.0021, 0.0021,\n",
              "        0.0021, 0.0021, 0.0021, 0.0022, 0.0022, 0.0022, 0.0022, 0.0022, 0.0022,\n",
              "        0.0022, 0.0023, 0.0023, 0.0023, 0.0023, 0.0023, 0.0023, 0.0024, 0.0024,\n",
              "        0.0024, 0.0024, 0.0024, 0.0024, 0.0025, 0.0025, 0.0025, 0.0025, 0.0025,\n",
              "        0.0025, 0.0026, 0.0026, 0.0026, 0.0026, 0.0026, 0.0027, 0.0027, 0.0027,\n",
              "        0.0027, 0.0027, 0.0027, 0.0028, 0.0028, 0.0028, 0.0028, 0.0028, 0.0029,\n",
              "        0.0029, 0.0029, 0.0029, 0.0029, 0.0030, 0.0030, 0.0030, 0.0030, 0.0030,\n",
              "        0.0031, 0.0031, 0.0031, 0.0031, 0.0032, 0.0032, 0.0032, 0.0032, 0.0032,\n",
              "        0.0033, 0.0033, 0.0033, 0.0033, 0.0034, 0.0034, 0.0034, 0.0034, 0.0034,\n",
              "        0.0035, 0.0035, 0.0035, 0.0035, 0.0036, 0.0036, 0.0036, 0.0036, 0.0037,\n",
              "        0.0037, 0.0037, 0.0037, 0.0038, 0.0038, 0.0038, 0.0039, 0.0039, 0.0039,\n",
              "        0.0039, 0.0040, 0.0040, 0.0040, 0.0040, 0.0041, 0.0041, 0.0041, 0.0042,\n",
              "        0.0042, 0.0042, 0.0042, 0.0043, 0.0043, 0.0043, 0.0044, 0.0044, 0.0044,\n",
              "        0.0045, 0.0045, 0.0045, 0.0045, 0.0046, 0.0046, 0.0046, 0.0047, 0.0047,\n",
              "        0.0047, 0.0048, 0.0048, 0.0048, 0.0049, 0.0049, 0.0049, 0.0050, 0.0050,\n",
              "        0.0050, 0.0051, 0.0051, 0.0051, 0.0052, 0.0052, 0.0053, 0.0053, 0.0053,\n",
              "        0.0054, 0.0054, 0.0054, 0.0055, 0.0055, 0.0056, 0.0056, 0.0056, 0.0057,\n",
              "        0.0057, 0.0058, 0.0058, 0.0058, 0.0059, 0.0059, 0.0060, 0.0060, 0.0060,\n",
              "        0.0061, 0.0061, 0.0062, 0.0062, 0.0062, 0.0063, 0.0063, 0.0064, 0.0064,\n",
              "        0.0065, 0.0065, 0.0066, 0.0066, 0.0067, 0.0067, 0.0067, 0.0068, 0.0068,\n",
              "        0.0069, 0.0069, 0.0070, 0.0070, 0.0071, 0.0071, 0.0072, 0.0072, 0.0073,\n",
              "        0.0073, 0.0074, 0.0074, 0.0075, 0.0075, 0.0076, 0.0076, 0.0077, 0.0077,\n",
              "        0.0078, 0.0079, 0.0079, 0.0080, 0.0080, 0.0081, 0.0081, 0.0082, 0.0082,\n",
              "        0.0083, 0.0084, 0.0084, 0.0085, 0.0085, 0.0086, 0.0086, 0.0087, 0.0088,\n",
              "        0.0088, 0.0089, 0.0090, 0.0090, 0.0091, 0.0091, 0.0092, 0.0093, 0.0093,\n",
              "        0.0094, 0.0095, 0.0095, 0.0096, 0.0097, 0.0097, 0.0098, 0.0099, 0.0099,\n",
              "        0.0100, 0.0101, 0.0101, 0.0102, 0.0103, 0.0104, 0.0104, 0.0105, 0.0106,\n",
              "        0.0106, 0.0107, 0.0108, 0.0109, 0.0109, 0.0110, 0.0111, 0.0112, 0.0112,\n",
              "        0.0113, 0.0114, 0.0115, 0.0116, 0.0116, 0.0117, 0.0118, 0.0119, 0.0120,\n",
              "        0.0121, 0.0121, 0.0122, 0.0123, 0.0124, 0.0125, 0.0126, 0.0127, 0.0127,\n",
              "        0.0128, 0.0129, 0.0130, 0.0131, 0.0132, 0.0133, 0.0134, 0.0135, 0.0136,\n",
              "        0.0137, 0.0137, 0.0138, 0.0139, 0.0140, 0.0141, 0.0142, 0.0143, 0.0144,\n",
              "        0.0145, 0.0146, 0.0147, 0.0148, 0.0149, 0.0150, 0.0151, 0.0152, 0.0154,\n",
              "        0.0155, 0.0156, 0.0157, 0.0158, 0.0159, 0.0160, 0.0161, 0.0162, 0.0163,\n",
              "        0.0165, 0.0166, 0.0167, 0.0168, 0.0169, 0.0170, 0.0171, 0.0173, 0.0174,\n",
              "        0.0175, 0.0176, 0.0178, 0.0179, 0.0180, 0.0181, 0.0182, 0.0184, 0.0185,\n",
              "        0.0186, 0.0188, 0.0189, 0.0190, 0.0192, 0.0193, 0.0194, 0.0196, 0.0197,\n",
              "        0.0198, 0.0200, 0.0201, 0.0202, 0.0204, 0.0205, 0.0207, 0.0208, 0.0210,\n",
              "        0.0211, 0.0212, 0.0214, 0.0215, 0.0217, 0.0218, 0.0220, 0.0221, 0.0223,\n",
              "        0.0225, 0.0226, 0.0228, 0.0229, 0.0231, 0.0232, 0.0234, 0.0236, 0.0237,\n",
              "        0.0239, 0.0241, 0.0242, 0.0244, 0.0246, 0.0247, 0.0249, 0.0251, 0.0253,\n",
              "        0.0254, 0.0256, 0.0258, 0.0260, 0.0261, 0.0263, 0.0265, 0.0267, 0.0269,\n",
              "        0.0271, 0.0273, 0.0274, 0.0276, 0.0278, 0.0280, 0.0282, 0.0284, 0.0286,\n",
              "        0.0288, 0.0290, 0.0292, 0.0294, 0.0296, 0.0298, 0.0300, 0.0302, 0.0304,\n",
              "        0.0307, 0.0309, 0.0311, 0.0313, 0.0315, 0.0317, 0.0320, 0.0322, 0.0324,\n",
              "        0.0326, 0.0328, 0.0331, 0.0333, 0.0335, 0.0338, 0.0340, 0.0342, 0.0345,\n",
              "        0.0347, 0.0350, 0.0352, 0.0354, 0.0357, 0.0359, 0.0362, 0.0364, 0.0367,\n",
              "        0.0369, 0.0372, 0.0375, 0.0377, 0.0380, 0.0382, 0.0385, 0.0388, 0.0390,\n",
              "        0.0393, 0.0396, 0.0399, 0.0401, 0.0404, 0.0407, 0.0410, 0.0413, 0.0416,\n",
              "        0.0418, 0.0421, 0.0424, 0.0427, 0.0430, 0.0433, 0.0436, 0.0439, 0.0442,\n",
              "        0.0445, 0.0448, 0.0451, 0.0455, 0.0458, 0.0461, 0.0464, 0.0467, 0.0471,\n",
              "        0.0474, 0.0477, 0.0480, 0.0484, 0.0487, 0.0491, 0.0494, 0.0497, 0.0501,\n",
              "        0.0504, 0.0508, 0.0511, 0.0515, 0.0518, 0.0522, 0.0526, 0.0529, 0.0533,\n",
              "        0.0537, 0.0540, 0.0544, 0.0548, 0.0552, 0.0556, 0.0559, 0.0563, 0.0567,\n",
              "        0.0571, 0.0575, 0.0579, 0.0583, 0.0587, 0.0591, 0.0595, 0.0599, 0.0604,\n",
              "        0.0608, 0.0612, 0.0616, 0.0621, 0.0625, 0.0629, 0.0634, 0.0638, 0.0642,\n",
              "        0.0647, 0.0651, 0.0656, 0.0660, 0.0665, 0.0670, 0.0674, 0.0679, 0.0684,\n",
              "        0.0688, 0.0693, 0.0698, 0.0703, 0.0708, 0.0713, 0.0718, 0.0723, 0.0728,\n",
              "        0.0733, 0.0738, 0.0743, 0.0748, 0.0753, 0.0758, 0.0764, 0.0769, 0.0774,\n",
              "        0.0780, 0.0785, 0.0790, 0.0796, 0.0802, 0.0807, 0.0813, 0.0818, 0.0824,\n",
              "        0.0830, 0.0835, 0.0841, 0.0847, 0.0853, 0.0859, 0.0865, 0.0871, 0.0877,\n",
              "        0.0883, 0.0889, 0.0895, 0.0901, 0.0908, 0.0914, 0.0920, 0.0927, 0.0933,\n",
              "        0.0940, 0.0946, 0.0953, 0.0959, 0.0966, 0.0973, 0.0979, 0.0986, 0.0993,\n",
              "        0.1000, 0.1007, 0.1014, 0.1021, 0.1028, 0.1035, 0.1042, 0.1050, 0.1057,\n",
              "        0.1064, 0.1072, 0.1079, 0.1087, 0.1094, 0.1102, 0.1109, 0.1117, 0.1125,\n",
              "        0.1133, 0.1140, 0.1148, 0.1156, 0.1164, 0.1172, 0.1181, 0.1189, 0.1197,\n",
              "        0.1205, 0.1214, 0.1222, 0.1231, 0.1239, 0.1248, 0.1256, 0.1265, 0.1274,\n",
              "        0.1283, 0.1292, 0.1301, 0.1310, 0.1319, 0.1328, 0.1337, 0.1346, 0.1356,\n",
              "        0.1365, 0.1374, 0.1384, 0.1394, 0.1403, 0.1413, 0.1423, 0.1433, 0.1443,\n",
              "        0.1453, 0.1463, 0.1473, 0.1483, 0.1493, 0.1504, 0.1514, 0.1525, 0.1535,\n",
              "        0.1546, 0.1557, 0.1567, 0.1578, 0.1589, 0.1600, 0.1611, 0.1623, 0.1634,\n",
              "        0.1645, 0.1657, 0.1668, 0.1680, 0.1691, 0.1703, 0.1715, 0.1727, 0.1739,\n",
              "        0.1751, 0.1763, 0.1775, 0.1788, 0.1800, 0.1812, 0.1825, 0.1838, 0.1850,\n",
              "        0.1863, 0.1876, 0.1889, 0.1902, 0.1916, 0.1929, 0.1942, 0.1956, 0.1969,\n",
              "        0.1983, 0.1997, 0.2010, 0.2024, 0.2038, 0.2053, 0.2067, 0.2081, 0.2096,\n",
              "        0.2110, 0.2125, 0.2140, 0.2154, 0.2169, 0.2184, 0.2200, 0.2215, 0.2230,\n",
              "        0.2246, 0.2261, 0.2277, 0.2293, 0.2309, 0.2325, 0.2341, 0.2357, 0.2373,\n",
              "        0.2390, 0.2406, 0.2423, 0.2440, 0.2457, 0.2474, 0.2491, 0.2508, 0.2526,\n",
              "        0.2543, 0.2561, 0.2579, 0.2597, 0.2615, 0.2633, 0.2651, 0.2669, 0.2688,\n",
              "        0.2707, 0.2725, 0.2744, 0.2763, 0.2783, 0.2802, 0.2821, 0.2841, 0.2861,\n",
              "        0.2880, 0.2900, 0.2921, 0.2941, 0.2961, 0.2982, 0.3002, 0.3023, 0.3044,\n",
              "        0.3065, 0.3087, 0.3108, 0.3130, 0.3151, 0.3173, 0.3195, 0.3217, 0.3240,\n",
              "        0.3262, 0.3285, 0.3308, 0.3331, 0.3354, 0.3377, 0.3400, 0.3424, 0.3448,\n",
              "        0.3472, 0.3496, 0.3520, 0.3544, 0.3569, 0.3594, 0.3619, 0.3644, 0.3669,\n",
              "        0.3695, 0.3720, 0.3746, 0.3772, 0.3798, 0.3825, 0.3851, 0.3878, 0.3905,\n",
              "        0.3932, 0.3959, 0.3987, 0.4014, 0.4042, 0.4070, 0.4098, 0.4127, 0.4155,\n",
              "        0.4184, 0.4213, 0.4243, 0.4272, 0.4302, 0.4331, 0.4362, 0.4392, 0.4422,\n",
              "        0.4453, 0.4484, 0.4515, 0.4546, 0.4578, 0.4610, 0.4642, 0.4674, 0.4706,\n",
              "        0.4739, 0.4772, 0.4805, 0.4838, 0.4872, 0.4906, 0.4940, 0.4974, 0.5008,\n",
              "        0.5043, 0.5078, 0.5113, 0.5149, 0.5185, 0.5221, 0.5257, 0.5293, 0.5330,\n",
              "        0.5367, 0.5404, 0.5442, 0.5479, 0.5517, 0.5556, 0.5594, 0.5633, 0.5672,\n",
              "        0.5712, 0.5751, 0.5791, 0.5831, 0.5872, 0.5913, 0.5954, 0.5995, 0.6036,\n",
              "        0.6078, 0.6120, 0.6163, 0.6206, 0.6249, 0.6292, 0.6336, 0.6380, 0.6424,\n",
              "        0.6469, 0.6513, 0.6559, 0.6604, 0.6650, 0.6696, 0.6743, 0.6789, 0.6837,\n",
              "        0.6884, 0.6932, 0.6980, 0.7028, 0.7077, 0.7126, 0.7176, 0.7225, 0.7275,\n",
              "        0.7326, 0.7377, 0.7428, 0.7480, 0.7531, 0.7584, 0.7636, 0.7689, 0.7743,\n",
              "        0.7796, 0.7850, 0.7905, 0.7960, 0.8015, 0.8071, 0.8127, 0.8183, 0.8240,\n",
              "        0.8297, 0.8355, 0.8412, 0.8471, 0.8530, 0.8589, 0.8648, 0.8708, 0.8769,\n",
              "        0.8830, 0.8891, 0.8953, 0.9015, 0.9077, 0.9140, 0.9204, 0.9268, 0.9332,\n",
              "        0.9397, 0.9462, 0.9528, 0.9594, 0.9660, 0.9727, 0.9795, 0.9863, 0.9931,\n",
              "        1.0000])"
            ]
          },
          "metadata": {},
          "execution_count": 174
        }
      ]
    },
    {
      "cell_type": "code",
      "source": [
        "lri, lossi, stepi = [], [], []"
      ],
      "metadata": {
        "id": "kxjqq8fwpLwU"
      },
      "execution_count": 236,
      "outputs": []
    },
    {
      "cell_type": "code",
      "source": [
        "#Batchwise Gradient Descent with variable learning rate\n",
        "for i in range(200000):\n",
        "\n",
        "  #minibatch construct\n",
        "  ix = torch.randint(0, Xtr.shape[0], (32,))\n",
        "\n",
        "  #forward pass\n",
        "  emb = C[Xtr[ix]] #(32,3,2)\n",
        "  h = torch.tanh(emb.view(-1,30) @ W1 + b1) #(32,6) @ (6,100) = (32,100)\n",
        "  logits = h@ W2 + b2 #(32,27)\n",
        "  loss = F.cross_entropy(logits, Ytr[ix])\n",
        "  #print(f\"The loss in the {i}th iteration is : {loss.item()}\")\n",
        "\n",
        "  #Backward pass\n",
        "  for p in parameters:\n",
        "    p.grad = None\n",
        "  loss.backward()\n",
        "  #update with a variable learning rate\n",
        "  #lr = lrs[i]\n",
        "  lr = 0.177 if i<100000 else 0.0177 #best estimated lr\n",
        "  for p in parameters:\n",
        "    p.data += -lr * p.grad\n",
        "\n",
        "  #track status\n",
        "  #lri.append(lre[i])\n",
        "  stepi.append(i)\n",
        "  lossi.append(loss.item())"
      ],
      "metadata": {
        "id": "7B5EB7mkV6za"
      },
      "execution_count": 273,
      "outputs": []
    },
    {
      "cell_type": "code",
      "source": [
        "plt.plot(lri, lossi)"
      ],
      "metadata": {
        "colab": {
          "base_uri": "https://localhost:8080/",
          "height": 282
        },
        "id": "lxfQrkVzl07s",
        "outputId": "c3d9d1c5-3768-4048-c679-6822e6479e4f"
      },
      "execution_count": 238,
      "outputs": [
        {
          "output_type": "execute_result",
          "data": {
            "text/plain": [
              "[<matplotlib.lines.Line2D at 0x7f392949f050>]"
            ]
          },
          "metadata": {},
          "execution_count": 238
        },
        {
          "output_type": "display_data",
          "data": {
            "text/plain": [
              "<Figure size 432x288 with 1 Axes>"
            ],
            "image/png": "[encoded data removed]"
          },
          "metadata": {
            "needs_background": "light"
          }
        }
      ]
    },
    {
      "cell_type": "code",
      "source": [
        "plt.plot(stepi, lossi)"
      ],
      "metadata": {
        "colab": {
          "base_uri": "https://localhost:8080/",
          "height": 282
        },
        "id": "WmVYxtPMWv9o",
        "outputId": "57d7cbc9-ac55-4e5d-9e78-6aaf2bacb17d"
      },
      "execution_count": 274,
      "outputs": [
        {
          "output_type": "execute_result",
          "data": {
            "text/plain": [
              "[<matplotlib.lines.Line2D at 0x7f39282536d0>]"
            ]
          },
          "metadata": {},
          "execution_count": 274
        },
        {
          "output_type": "display_data",
          "data": {
            "text/plain": [
              "<Figure size 432x288 with 1 Axes>"
            ],
            "image/png": "[encoded data removed]"
          },
          "metadata": {
            "needs_background": "light"
          }
        }
      ]
    },
    {
      "cell_type": "markdown",
      "source": [
        "Looking at the graph -0.75 looks like a good learning rate exponent thus we can use a learning rate of 10**(-0.75) = 0.177"
      ],
      "metadata": {
        "id": "Q9JKnZN6X1LW"
      }
    },
    {
      "cell_type": "code",
      "source": [
        "#Use Dev set to train the hyperparameters\n",
        "emb = C[Xdev]\n",
        "h = torch.tanh(emb.view(-1,30) @ W1 + b1)\n",
        "logits = h @  W2 + b2\n",
        "loss = F.cross_entropy(logits, Ydev)\n",
        "loss"
      ],
      "metadata": {
        "colab": {
          "base_uri": "https://localhost:8080/"
        },
        "id": "ZNzJcFL6W3SA",
        "outputId": "0fad4766-80c3-4a13-e07a-ed6ab07e1a67"
      },
      "execution_count": 275,
      "outputs": [
        {
          "output_type": "execute_result",
          "data": {
            "text/plain": [
              "tensor(2.1581, grad_fn=<NllLossBackward0>)"
            ]
          },
          "metadata": {},
          "execution_count": 275
        }
      ]
    },
    {
      "cell_type": "markdown",
      "source": [
        "Seems pretty good with decaying learning rate and most importantly\n",
        "\n",
        "The loss on the training set and the dev sety is pretty much same which means...\n",
        "\n",
        "YAYYYYY! WE ARE NOT OVERFITTING ANYMORE\n",
        "\n",
        "OUR NETOWRK HAS FINALLY LEARNED TO GO ON ITS OWN INSTEAD OF MEMORIZING TE DATASET BEING SCARED OF US xD"
      ],
      "metadata": {
        "id": "9Nw1dYTYbS4-"
      }
    },
    {
      "cell_type": "markdown",
      "source": [
        "#To optimize further to reduce and actually avoid overfitting split the dataset\n",
        "#Into training, dev/validation and test sets roughly in the ratios 80%, 10% and 10%\n",
        "#Training dataset is used to train the parameters of the model\n",
        "#The Development set is used to train the hyperparameters of the model\n",
        "#Test is used to evaluate the model's accuracy"
      ],
      "metadata": {
        "id": "eWtNmmbDem53"
      }
    },
    {
      "cell_type": "markdown",
      "source": [
        "**NOW LET US INCREASE THE SIZE OF OUR NEURAL NET, ITS PRETTY SMALL RIGHT NOW, GROW UP KIDDO**"
      ],
      "metadata": {
        "id": "A2S3EQ9KjNAV"
      }
    },
    {
      "cell_type": "code",
      "source": [
        "#Let us visualize what the NN has done\n",
        "plt.figure(figsize=(8,8))\n",
        "plt.scatter(C[:,0].data, C[:,1].data, s=200)\n",
        "for i in range(C.shape[0]):\n",
        "  plt.text(C[i,0].item(), C[i,1].item(), itos[i], ha=\"center\", va=\"center\", color=\"white\")\n",
        "plt.grid('minor')"
      ],
      "metadata": {
        "colab": {
          "base_uri": "https://localhost:8080/",
          "height": 483
        },
        "id": "AQCilSIUbRQX",
        "outputId": "cd07c97e-74bc-4857-82e5-acce8c7ead3a"
      },
      "execution_count": 276,
      "outputs": [
        {
          "output_type": "display_data",
          "data": {
            "text/plain": [
              "<Figure size 576x576 with 1 Axes>"
            ],
            "image/png": "[encoded data removed]"
          },
          "metadata": {
            "needs_background": "light"
          }
        }
      ]
    },
    {
      "cell_type": "code",
      "source": [
        "#The best part : Let's sample from the model\n",
        "g = torch.Generator().manual_seed(2147483647 + 10) #Smoothing factor 10, highly smoothed!\n",
        "\n",
        "for i in range(20):\n",
        "  out = []\n",
        "  context = [0] * block_size #initialize with all ...\n",
        "  while True:\n",
        "    emb = C[torch.tensor([context])] #(1, block_size, d)\n",
        "    h = torch.tanh(emb.view(1,-1) @ W1 + b1)\n",
        "    logits = h @ W2 + b2\n",
        "    probs = F.softmax(logits,dim=1) #Better because it uses cross entropy\n",
        "    ix = torch.multinomial(probs, num_samples=1, generator=g).item()\n",
        "    context = context[1:] + [ix]\n",
        "    out.append(ix)\n",
        "    if(ix==0):\n",
        "      break\n",
        "  print(''.join(itos[i] for i in out))"
      ],
      "metadata": {
        "colab": {
          "base_uri": "https://localhost:8080/"
        },
        "id": "6MAX6DZAnSSM",
        "outputId": "8ca3ba1b-189d-4571-a3f6-4365c3db35a7"
      },
      "execution_count": 281,
      "outputs": [
        {
          "output_type": "stream",
          "name": "stdout",
          "text": [
            "carmah.\n",
            "aar.\n",
            "hariffirley.\n",
            "tatyah.\n",
            "cassie.\n",
            "rahuel.\n",
            "deliyat.\n",
            "kaeli.\n",
            "nellara.\n",
            "chaii.\n",
            "das.\n",
            "eve.\n",
            "dham.\n",
            "pory.\n",
            "quinthoro.\n",
            "lea.\n",
            "jadbi.\n",
            "wazell.\n",
            "dearyn.\n",
            "kakaelynn.\n"
          ]
        }
      ]
    },
    {
      "cell_type": "code",
      "source": [],
      "metadata": {
        "id": "ZBLUytBcu9XD"
      },
      "execution_count": null,
      "outputs": []
    }
  ]
}